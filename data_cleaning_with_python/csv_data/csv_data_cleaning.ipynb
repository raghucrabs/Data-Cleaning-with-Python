{
 "cells": [
  {
   "cell_type": "markdown",
   "id": "c7029ff7-2341-42ce-9309-f1cbdba17b50",
   "metadata": {},
   "source": [
    "## Import Necessary Libraries"
   ]
  },
  {
   "cell_type": "code",
   "execution_count": 1,
   "id": "e8736da3-4142-4c1d-9c30-aeace301cd72",
   "metadata": {},
   "outputs": [],
   "source": [
    "import pandas as pd"
   ]
  },
  {
   "cell_type": "markdown",
   "id": "6119f385-59fd-4049-b745-188ffbb6b980",
   "metadata": {},
   "source": [
    "## Importing csv data into a pandas Dataframe"
   ]
  },
  {
   "cell_type": "code",
   "execution_count": 2,
   "id": "2695404b-0532-4347-9751-1f6ef17ea5e6",
   "metadata": {},
   "outputs": [],
   "source": [
    "# Import Data into pandas Dataframe\n",
    "\n",
    "df = pd.read_csv(\"./raw_data/landtempssample.csv\")"
   ]
  },
  {
   "cell_type": "code",
   "execution_count": 4,
   "id": "cb633c3c-4f08-4724-9314-554033a7f8d4",
   "metadata": {},
   "outputs": [
    {
     "data": {
      "text/html": [
       "<div>\n",
       "<style scoped>\n",
       "    .dataframe tbody tr th:only-of-type {\n",
       "        vertical-align: middle;\n",
       "    }\n",
       "\n",
       "    .dataframe tbody tr th {\n",
       "        vertical-align: top;\n",
       "    }\n",
       "\n",
       "    .dataframe thead th {\n",
       "        text-align: right;\n",
       "    }\n",
       "</style>\n",
       "<table border=\"1\" class=\"dataframe\">\n",
       "  <thead>\n",
       "    <tr style=\"text-align: right;\">\n",
       "      <th></th>\n",
       "      <th>locationid</th>\n",
       "      <th>year</th>\n",
       "      <th>month</th>\n",
       "      <th>temp</th>\n",
       "      <th>latitude</th>\n",
       "      <th>longitude</th>\n",
       "      <th>stnelev</th>\n",
       "      <th>station</th>\n",
       "      <th>countryid</th>\n",
       "      <th>country</th>\n",
       "    </tr>\n",
       "  </thead>\n",
       "  <tbody>\n",
       "    <tr>\n",
       "      <th>0</th>\n",
       "      <td>USS0010K01S</td>\n",
       "      <td>2000</td>\n",
       "      <td>4</td>\n",
       "      <td>5.27</td>\n",
       "      <td>39.9000</td>\n",
       "      <td>-110.7500</td>\n",
       "      <td>2773.7</td>\n",
       "      <td>INDIAN_CANYON</td>\n",
       "      <td>US</td>\n",
       "      <td>United States</td>\n",
       "    </tr>\n",
       "    <tr>\n",
       "      <th>1</th>\n",
       "      <td>CI000085406</td>\n",
       "      <td>1940</td>\n",
       "      <td>5</td>\n",
       "      <td>18.04</td>\n",
       "      <td>-18.3500</td>\n",
       "      <td>-70.3330</td>\n",
       "      <td>58.0</td>\n",
       "      <td>ARICA</td>\n",
       "      <td>CI</td>\n",
       "      <td>Chile</td>\n",
       "    </tr>\n",
       "    <tr>\n",
       "      <th>2</th>\n",
       "      <td>USC00036376</td>\n",
       "      <td>2013</td>\n",
       "      <td>12</td>\n",
       "      <td>6.22</td>\n",
       "      <td>34.3703</td>\n",
       "      <td>-91.1242</td>\n",
       "      <td>61.0</td>\n",
       "      <td>SAINT_CHARLES</td>\n",
       "      <td>US</td>\n",
       "      <td>United States</td>\n",
       "    </tr>\n",
       "    <tr>\n",
       "      <th>3</th>\n",
       "      <td>ASN00024002</td>\n",
       "      <td>1963</td>\n",
       "      <td>2</td>\n",
       "      <td>22.93</td>\n",
       "      <td>-34.2833</td>\n",
       "      <td>140.6000</td>\n",
       "      <td>65.5</td>\n",
       "      <td>BERRI_IRRIGATION</td>\n",
       "      <td>AS</td>\n",
       "      <td>Australia</td>\n",
       "    </tr>\n",
       "    <tr>\n",
       "      <th>4</th>\n",
       "      <td>ASN00028007</td>\n",
       "      <td>2001</td>\n",
       "      <td>11</td>\n",
       "      <td>NaN</td>\n",
       "      <td>-14.7803</td>\n",
       "      <td>143.5036</td>\n",
       "      <td>79.4</td>\n",
       "      <td>MUSGRAVE</td>\n",
       "      <td>AS</td>\n",
       "      <td>Australia</td>\n",
       "    </tr>\n",
       "  </tbody>\n",
       "</table>\n",
       "</div>"
      ],
      "text/plain": [
       "    locationid  year  month   temp  latitude  longitude  stnelev  \\\n",
       "0  USS0010K01S  2000      4   5.27   39.9000  -110.7500   2773.7   \n",
       "1  CI000085406  1940      5  18.04  -18.3500   -70.3330     58.0   \n",
       "2  USC00036376  2013     12   6.22   34.3703   -91.1242     61.0   \n",
       "3  ASN00024002  1963      2  22.93  -34.2833   140.6000     65.5   \n",
       "4  ASN00028007  2001     11    NaN  -14.7803   143.5036     79.4   \n",
       "\n",
       "            station countryid        country  \n",
       "0     INDIAN_CANYON        US  United States  \n",
       "1             ARICA        CI          Chile  \n",
       "2     SAINT_CHARLES        US  United States  \n",
       "3  BERRI_IRRIGATION        AS      Australia  \n",
       "4          MUSGRAVE        AS      Australia  "
      ]
     },
     "execution_count": 4,
     "metadata": {},
     "output_type": "execute_result"
    }
   ],
   "source": [
    "# Check the first five rows of the data\n",
    "\n",
    "df.head(5)"
   ]
  },
  {
   "cell_type": "code",
   "execution_count": 5,
   "id": "4ade6c6f-a70d-4acf-a7fe-ff2f3865ea24",
   "metadata": {},
   "outputs": [
    {
     "data": {
      "text/plain": [
       "Index(['locationid', 'year', 'month', 'temp', 'latitude', 'longitude',\n",
       "       'stnelev', 'station', 'countryid', 'country'],\n",
       "      dtype='object')"
      ]
     },
     "execution_count": 5,
     "metadata": {},
     "output_type": "execute_result"
    }
   ],
   "source": [
    "# Check the column names\n",
    "\n",
    "df.columns"
   ]
  },
  {
   "cell_type": "markdown",
   "id": "b77af041-81b2-4a78-89bd-499d40286c17",
   "metadata": {},
   "source": [
    "## Data Cleaning"
   ]
  },
  {
   "cell_type": "code",
   "execution_count": 6,
   "id": "5453033d-5daa-426d-86fe-e3fe9cd032bf",
   "metadata": {},
   "outputs": [],
   "source": [
    "# Rename the locationid, temp and and stnelev columns\n",
    "\n",
    "df.rename(columns = {\"locationid\": \"station_id\",\n",
    "                     \"temp\" : \"avg_temp\",\n",
    "                     \"stnelev\" : \"elevation\"},inplace= True) \n",
    "\n"
   ]
  },
  {
   "cell_type": "code",
   "execution_count": 7,
   "id": "188300dd-3285-416e-8b9b-fe316918c34f",
   "metadata": {},
   "outputs": [
    {
     "data": {
      "text/html": [
       "<div>\n",
       "<style scoped>\n",
       "    .dataframe tbody tr th:only-of-type {\n",
       "        vertical-align: middle;\n",
       "    }\n",
       "\n",
       "    .dataframe tbody tr th {\n",
       "        vertical-align: top;\n",
       "    }\n",
       "\n",
       "    .dataframe thead th {\n",
       "        text-align: right;\n",
       "    }\n",
       "</style>\n",
       "<table border=\"1\" class=\"dataframe\">\n",
       "  <thead>\n",
       "    <tr style=\"text-align: right;\">\n",
       "      <th></th>\n",
       "      <th>station_id</th>\n",
       "      <th>year</th>\n",
       "      <th>month</th>\n",
       "      <th>avg_temp</th>\n",
       "      <th>latitude</th>\n",
       "      <th>longitude</th>\n",
       "      <th>elevation</th>\n",
       "      <th>station</th>\n",
       "      <th>countryid</th>\n",
       "      <th>country</th>\n",
       "    </tr>\n",
       "  </thead>\n",
       "  <tbody>\n",
       "    <tr>\n",
       "      <th>0</th>\n",
       "      <td>USS0010K01S</td>\n",
       "      <td>2000</td>\n",
       "      <td>4</td>\n",
       "      <td>5.27</td>\n",
       "      <td>39.9000</td>\n",
       "      <td>-110.7500</td>\n",
       "      <td>2773.7</td>\n",
       "      <td>INDIAN_CANYON</td>\n",
       "      <td>US</td>\n",
       "      <td>United States</td>\n",
       "    </tr>\n",
       "    <tr>\n",
       "      <th>1</th>\n",
       "      <td>CI000085406</td>\n",
       "      <td>1940</td>\n",
       "      <td>5</td>\n",
       "      <td>18.04</td>\n",
       "      <td>-18.3500</td>\n",
       "      <td>-70.3330</td>\n",
       "      <td>58.0</td>\n",
       "      <td>ARICA</td>\n",
       "      <td>CI</td>\n",
       "      <td>Chile</td>\n",
       "    </tr>\n",
       "    <tr>\n",
       "      <th>2</th>\n",
       "      <td>USC00036376</td>\n",
       "      <td>2013</td>\n",
       "      <td>12</td>\n",
       "      <td>6.22</td>\n",
       "      <td>34.3703</td>\n",
       "      <td>-91.1242</td>\n",
       "      <td>61.0</td>\n",
       "      <td>SAINT_CHARLES</td>\n",
       "      <td>US</td>\n",
       "      <td>United States</td>\n",
       "    </tr>\n",
       "    <tr>\n",
       "      <th>3</th>\n",
       "      <td>ASN00024002</td>\n",
       "      <td>1963</td>\n",
       "      <td>2</td>\n",
       "      <td>22.93</td>\n",
       "      <td>-34.2833</td>\n",
       "      <td>140.6000</td>\n",
       "      <td>65.5</td>\n",
       "      <td>BERRI_IRRIGATION</td>\n",
       "      <td>AS</td>\n",
       "      <td>Australia</td>\n",
       "    </tr>\n",
       "    <tr>\n",
       "      <th>4</th>\n",
       "      <td>ASN00028007</td>\n",
       "      <td>2001</td>\n",
       "      <td>11</td>\n",
       "      <td>NaN</td>\n",
       "      <td>-14.7803</td>\n",
       "      <td>143.5036</td>\n",
       "      <td>79.4</td>\n",
       "      <td>MUSGRAVE</td>\n",
       "      <td>AS</td>\n",
       "      <td>Australia</td>\n",
       "    </tr>\n",
       "  </tbody>\n",
       "</table>\n",
       "</div>"
      ],
      "text/plain": [
       "    station_id  year  month  avg_temp  latitude  longitude  elevation  \\\n",
       "0  USS0010K01S  2000      4      5.27   39.9000  -110.7500     2773.7   \n",
       "1  CI000085406  1940      5     18.04  -18.3500   -70.3330       58.0   \n",
       "2  USC00036376  2013     12      6.22   34.3703   -91.1242       61.0   \n",
       "3  ASN00024002  1963      2     22.93  -34.2833   140.6000       65.5   \n",
       "4  ASN00028007  2001     11       NaN  -14.7803   143.5036       79.4   \n",
       "\n",
       "            station countryid        country  \n",
       "0     INDIAN_CANYON        US  United States  \n",
       "1             ARICA        CI          Chile  \n",
       "2     SAINT_CHARLES        US  United States  \n",
       "3  BERRI_IRRIGATION        AS      Australia  \n",
       "4          MUSGRAVE        AS      Australia  "
      ]
     },
     "execution_count": 7,
     "metadata": {},
     "output_type": "execute_result"
    }
   ],
   "source": [
    "df.head(5)"
   ]
  },
  {
   "cell_type": "code",
   "execution_count": 8,
   "id": "ce4f8e83-c187-41e7-bee4-90107f5ca17d",
   "metadata": {},
   "outputs": [
    {
     "name": "stdout",
     "output_type": "stream",
     "text": [
      "<class 'pandas.core.frame.DataFrame'>\n",
      "RangeIndex: 100000 entries, 0 to 99999\n",
      "Data columns (total 10 columns):\n",
      " #   Column      Non-Null Count   Dtype  \n",
      "---  ------      --------------   -----  \n",
      " 0   station_id  100000 non-null  object \n",
      " 1   year        100000 non-null  int64  \n",
      " 2   month       100000 non-null  int64  \n",
      " 3   avg_temp    85554 non-null   float64\n",
      " 4   latitude    100000 non-null  float64\n",
      " 5   longitude   100000 non-null  float64\n",
      " 6   elevation   100000 non-null  float64\n",
      " 7   station     100000 non-null  object \n",
      " 8   countryid   100000 non-null  object \n",
      " 9   country     99995 non-null   object \n",
      "dtypes: float64(4), int64(2), object(4)\n",
      "memory usage: 7.6+ MB\n"
     ]
    }
   ],
   "source": [
    "# Checking the overall view of the data\n",
    "\n",
    "df.info()"
   ]
  },
  {
   "cell_type": "code",
   "execution_count": 9,
   "id": "8621bdf3-2bc1-45f3-af59-f85a5d9d4cb3",
   "metadata": {},
   "outputs": [
    {
     "data": {
      "text/plain": [
       "(100000, 10)"
      ]
     },
     "execution_count": 9,
     "metadata": {},
     "output_type": "execute_result"
    }
   ],
   "source": [
    "# Checking the shape of the dataframe (rows by columns)\n",
    "\n",
    "df.shape"
   ]
  },
  {
   "cell_type": "code",
   "execution_count": 12,
   "id": "f1c85738-da50-4fa6-8d49-bc13e463a8d9",
   "metadata": {},
   "outputs": [],
   "source": [
    "# Create a new column  \"date\" by combining \"month\" and \"year\" column\n",
    "\n",
    "df[\"date\"] = pd.to_datetime(df[\"year\"].astype(str) + \"-\" + df[\"month\"].astype(str) + \"-01\")\n",
    "\n"
   ]
  },
  {
   "cell_type": "code",
   "execution_count": 13,
   "id": "d5ce5852-495c-48f5-a4f7-b36d3efaf575",
   "metadata": {},
   "outputs": [
    {
     "data": {
      "text/html": [
       "<div>\n",
       "<style scoped>\n",
       "    .dataframe tbody tr th:only-of-type {\n",
       "        vertical-align: middle;\n",
       "    }\n",
       "\n",
       "    .dataframe tbody tr th {\n",
       "        vertical-align: top;\n",
       "    }\n",
       "\n",
       "    .dataframe thead th {\n",
       "        text-align: right;\n",
       "    }\n",
       "</style>\n",
       "<table border=\"1\" class=\"dataframe\">\n",
       "  <thead>\n",
       "    <tr style=\"text-align: right;\">\n",
       "      <th></th>\n",
       "      <th>station_id</th>\n",
       "      <th>year</th>\n",
       "      <th>month</th>\n",
       "      <th>avg_temp</th>\n",
       "      <th>latitude</th>\n",
       "      <th>longitude</th>\n",
       "      <th>elevation</th>\n",
       "      <th>station</th>\n",
       "      <th>countryid</th>\n",
       "      <th>country</th>\n",
       "      <th>date</th>\n",
       "    </tr>\n",
       "  </thead>\n",
       "  <tbody>\n",
       "    <tr>\n",
       "      <th>0</th>\n",
       "      <td>USS0010K01S</td>\n",
       "      <td>2000</td>\n",
       "      <td>4</td>\n",
       "      <td>5.27</td>\n",
       "      <td>39.9000</td>\n",
       "      <td>-110.7500</td>\n",
       "      <td>2773.7</td>\n",
       "      <td>INDIAN_CANYON</td>\n",
       "      <td>US</td>\n",
       "      <td>United States</td>\n",
       "      <td>2000-04-01</td>\n",
       "    </tr>\n",
       "    <tr>\n",
       "      <th>1</th>\n",
       "      <td>CI000085406</td>\n",
       "      <td>1940</td>\n",
       "      <td>5</td>\n",
       "      <td>18.04</td>\n",
       "      <td>-18.3500</td>\n",
       "      <td>-70.3330</td>\n",
       "      <td>58.0</td>\n",
       "      <td>ARICA</td>\n",
       "      <td>CI</td>\n",
       "      <td>Chile</td>\n",
       "      <td>1940-05-01</td>\n",
       "    </tr>\n",
       "    <tr>\n",
       "      <th>2</th>\n",
       "      <td>USC00036376</td>\n",
       "      <td>2013</td>\n",
       "      <td>12</td>\n",
       "      <td>6.22</td>\n",
       "      <td>34.3703</td>\n",
       "      <td>-91.1242</td>\n",
       "      <td>61.0</td>\n",
       "      <td>SAINT_CHARLES</td>\n",
       "      <td>US</td>\n",
       "      <td>United States</td>\n",
       "      <td>2013-12-01</td>\n",
       "    </tr>\n",
       "    <tr>\n",
       "      <th>3</th>\n",
       "      <td>ASN00024002</td>\n",
       "      <td>1963</td>\n",
       "      <td>2</td>\n",
       "      <td>22.93</td>\n",
       "      <td>-34.2833</td>\n",
       "      <td>140.6000</td>\n",
       "      <td>65.5</td>\n",
       "      <td>BERRI_IRRIGATION</td>\n",
       "      <td>AS</td>\n",
       "      <td>Australia</td>\n",
       "      <td>1963-02-01</td>\n",
       "    </tr>\n",
       "    <tr>\n",
       "      <th>4</th>\n",
       "      <td>ASN00028007</td>\n",
       "      <td>2001</td>\n",
       "      <td>11</td>\n",
       "      <td>NaN</td>\n",
       "      <td>-14.7803</td>\n",
       "      <td>143.5036</td>\n",
       "      <td>79.4</td>\n",
       "      <td>MUSGRAVE</td>\n",
       "      <td>AS</td>\n",
       "      <td>Australia</td>\n",
       "      <td>2001-11-01</td>\n",
       "    </tr>\n",
       "  </tbody>\n",
       "</table>\n",
       "</div>"
      ],
      "text/plain": [
       "    station_id  year  month  avg_temp  latitude  longitude  elevation  \\\n",
       "0  USS0010K01S  2000      4      5.27   39.9000  -110.7500     2773.7   \n",
       "1  CI000085406  1940      5     18.04  -18.3500   -70.3330       58.0   \n",
       "2  USC00036376  2013     12      6.22   34.3703   -91.1242       61.0   \n",
       "3  ASN00024002  1963      2     22.93  -34.2833   140.6000       65.5   \n",
       "4  ASN00028007  2001     11       NaN  -14.7803   143.5036       79.4   \n",
       "\n",
       "            station countryid        country       date  \n",
       "0     INDIAN_CANYON        US  United States 2000-04-01  \n",
       "1             ARICA        CI          Chile 1940-05-01  \n",
       "2     SAINT_CHARLES        US  United States 2013-12-01  \n",
       "3  BERRI_IRRIGATION        AS      Australia 1963-02-01  \n",
       "4          MUSGRAVE        AS      Australia 2001-11-01  "
      ]
     },
     "execution_count": 13,
     "metadata": {},
     "output_type": "execute_result"
    }
   ],
   "source": [
    "df.head()"
   ]
  },
  {
   "cell_type": "code",
   "execution_count": 14,
   "id": "43de2caa-1f57-473a-ba74-b1747a07deb7",
   "metadata": {},
   "outputs": [
    {
     "data": {
      "text/html": [
       "<div>\n",
       "<style scoped>\n",
       "    .dataframe tbody tr th:only-of-type {\n",
       "        vertical-align: middle;\n",
       "    }\n",
       "\n",
       "    .dataframe tbody tr th {\n",
       "        vertical-align: top;\n",
       "    }\n",
       "\n",
       "    .dataframe thead th {\n",
       "        text-align: right;\n",
       "    }\n",
       "</style>\n",
       "<table border=\"1\" class=\"dataframe\">\n",
       "  <thead>\n",
       "    <tr style=\"text-align: right;\">\n",
       "      <th></th>\n",
       "      <th>year</th>\n",
       "      <th>month</th>\n",
       "      <th>avg_temp</th>\n",
       "      <th>latitude</th>\n",
       "      <th>longitude</th>\n",
       "      <th>elevation</th>\n",
       "    </tr>\n",
       "  </thead>\n",
       "  <tbody>\n",
       "    <tr>\n",
       "      <th>count</th>\n",
       "      <td>100000.000000</td>\n",
       "      <td>100000.000000</td>\n",
       "      <td>85554.000000</td>\n",
       "      <td>100000.000000</td>\n",
       "      <td>100000.000000</td>\n",
       "      <td>100000.000000</td>\n",
       "    </tr>\n",
       "    <tr>\n",
       "      <th>mean</th>\n",
       "      <td>1969.458030</td>\n",
       "      <td>6.494640</td>\n",
       "      <td>10.920770</td>\n",
       "      <td>35.075456</td>\n",
       "      <td>-38.123732</td>\n",
       "      <td>565.562545</td>\n",
       "    </tr>\n",
       "    <tr>\n",
       "      <th>std</th>\n",
       "      <td>35.836832</td>\n",
       "      <td>3.446463</td>\n",
       "      <td>11.522444</td>\n",
       "      <td>23.545646</td>\n",
       "      <td>84.297049</td>\n",
       "      <td>1073.647214</td>\n",
       "    </tr>\n",
       "    <tr>\n",
       "      <th>min</th>\n",
       "      <td>1720.000000</td>\n",
       "      <td>1.000000</td>\n",
       "      <td>-70.700000</td>\n",
       "      <td>-90.000000</td>\n",
       "      <td>-179.983000</td>\n",
       "      <td>-350.000000</td>\n",
       "    </tr>\n",
       "    <tr>\n",
       "      <th>25%</th>\n",
       "      <td>1949.000000</td>\n",
       "      <td>3.000000</td>\n",
       "      <td>3.460000</td>\n",
       "      <td>33.190675</td>\n",
       "      <td>-101.657925</td>\n",
       "      <td>64.000000</td>\n",
       "    </tr>\n",
       "    <tr>\n",
       "      <th>50%</th>\n",
       "      <td>1975.000000</td>\n",
       "      <td>6.000000</td>\n",
       "      <td>12.220000</td>\n",
       "      <td>40.793050</td>\n",
       "      <td>-79.568300</td>\n",
       "      <td>240.800000</td>\n",
       "    </tr>\n",
       "    <tr>\n",
       "      <th>75%</th>\n",
       "      <td>1998.000000</td>\n",
       "      <td>9.000000</td>\n",
       "      <td>19.570000</td>\n",
       "      <td>47.424700</td>\n",
       "      <td>17.533100</td>\n",
       "      <td>644.700000</td>\n",
       "    </tr>\n",
       "    <tr>\n",
       "      <th>max</th>\n",
       "      <td>2020.000000</td>\n",
       "      <td>12.000000</td>\n",
       "      <td>39.950000</td>\n",
       "      <td>82.516700</td>\n",
       "      <td>179.750000</td>\n",
       "      <td>9999.000000</td>\n",
       "    </tr>\n",
       "  </tbody>\n",
       "</table>\n",
       "</div>"
      ],
      "text/plain": [
       "                year          month      avg_temp       latitude  \\\n",
       "count  100000.000000  100000.000000  85554.000000  100000.000000   \n",
       "mean     1969.458030       6.494640     10.920770      35.075456   \n",
       "std        35.836832       3.446463     11.522444      23.545646   \n",
       "min      1720.000000       1.000000    -70.700000     -90.000000   \n",
       "25%      1949.000000       3.000000      3.460000      33.190675   \n",
       "50%      1975.000000       6.000000     12.220000      40.793050   \n",
       "75%      1998.000000       9.000000     19.570000      47.424700   \n",
       "max      2020.000000      12.000000     39.950000      82.516700   \n",
       "\n",
       "           longitude      elevation  \n",
       "count  100000.000000  100000.000000  \n",
       "mean      -38.123732     565.562545  \n",
       "std        84.297049    1073.647214  \n",
       "min      -179.983000    -350.000000  \n",
       "25%      -101.657925      64.000000  \n",
       "50%       -79.568300     240.800000  \n",
       "75%        17.533100     644.700000  \n",
       "max       179.750000    9999.000000  "
      ]
     },
     "execution_count": 14,
     "metadata": {},
     "output_type": "execute_result"
    }
   ],
   "source": [
    "# Checking the statistical information of the data\n",
    "\n",
    "df.describe()  #for only the numerical values"
   ]
  },
  {
   "cell_type": "code",
   "execution_count": 15,
   "id": "ca730220-5cd6-4810-b797-b71ed5bd9385",
   "metadata": {},
   "outputs": [
    {
     "data": {
      "text/plain": [
       "count    85554.000000\n",
       "mean        10.920770\n",
       "std         11.522444\n",
       "min        -70.700000\n",
       "25%          3.460000\n",
       "50%         12.220000\n",
       "75%         19.570000\n",
       "max         39.950000\n",
       "Name: avg_temp, dtype: float64"
      ]
     },
     "execution_count": 15,
     "metadata": {},
     "output_type": "execute_result"
    }
   ],
   "source": [
    "# Checking the statistical information for a particular column \"avg_temp\" in the data\n",
    "\n",
    "df[\"avg_temp\"].describe()"
   ]
  },
  {
   "cell_type": "code",
   "execution_count": 16,
   "id": "555378ad-edce-4649-999a-60ae66cb75f4",
   "metadata": {},
   "outputs": [
    {
     "data": {
      "text/plain": [
       "count    85554.000000\n",
       "mean        10.920770\n",
       "std         11.522444\n",
       "min        -70.700000\n",
       "25%          3.460000\n",
       "50%         12.220000\n",
       "75%         19.570000\n",
       "max         39.950000\n",
       "Name: avg_temp, dtype: float64"
      ]
     },
     "execution_count": 16,
     "metadata": {},
     "output_type": "execute_result"
    }
   ],
   "source": [
    "df.avg_temp.describe()"
   ]
  },
  {
   "cell_type": "code",
   "execution_count": 17,
   "id": "81133264-5ef8-4c4e-a933-bb0227a521da",
   "metadata": {},
   "outputs": [
    {
     "data": {
      "text/plain": [
       "station_id        0\n",
       "year              0\n",
       "month             0\n",
       "avg_temp      14446\n",
       "latitude          0\n",
       "longitude         0\n",
       "elevation         0\n",
       "station           0\n",
       "countryid         0\n",
       "country           5\n",
       "date              0\n",
       "dtype: int64"
      ]
     },
     "execution_count": 17,
     "metadata": {},
     "output_type": "execute_result"
    }
   ],
   "source": [
    "# Checking for null values or missing values in the dataframe\n",
    "\n",
    "df.isnull().sum()"
   ]
  },
  {
   "cell_type": "code",
   "execution_count": 18,
   "id": "555d50ab-1ed5-4418-9d6f-0e1307e2ea87",
   "metadata": {},
   "outputs": [
    {
     "data": {
      "text/plain": [
       "(100000, 11)"
      ]
     },
     "execution_count": 18,
     "metadata": {},
     "output_type": "execute_result"
    }
   ],
   "source": [
    "df.shape"
   ]
  },
  {
   "cell_type": "code",
   "execution_count": 19,
   "id": "dedaf7af-78c6-4fb9-9a0f-5295cfb1b8dc",
   "metadata": {},
   "outputs": [],
   "source": [
    "# Dropping(deleting) the rows where there are missing/null values\n",
    "\n",
    "df.dropna(subset =['avg_temp','country'],inplace =True, how = \"any\")"
   ]
  },
  {
   "cell_type": "code",
   "execution_count": 20,
   "id": "b65e1fbb-f583-4c5b-b22c-41ef29a8937c",
   "metadata": {},
   "outputs": [
    {
     "data": {
      "text/plain": [
       "(85552, 11)"
      ]
     },
     "execution_count": 20,
     "metadata": {},
     "output_type": "execute_result"
    }
   ],
   "source": [
    "df.shape"
   ]
  },
  {
   "cell_type": "code",
   "execution_count": null,
   "id": "36a1ed33-362f-46bb-88c4-d02721343803",
   "metadata": {},
   "outputs": [],
   "source": []
  }
 ],
 "metadata": {
  "kernelspec": {
   "display_name": "Python 3 (ipykernel)",
   "language": "python",
   "name": "python3"
  },
  "language_info": {
   "codemirror_mode": {
    "name": "ipython",
    "version": 3
   },
   "file_extension": ".py",
   "mimetype": "text/x-python",
   "name": "python",
   "nbconvert_exporter": "python",
   "pygments_lexer": "ipython3",
   "version": "3.10.11"
  }
 },
 "nbformat": 4,
 "nbformat_minor": 5
}
