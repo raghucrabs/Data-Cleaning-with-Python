{
 "cells": [
  {
   "cell_type": "markdown",
   "id": "ce761bbf-7e31-43ae-b27b-480790c0605d",
   "metadata": {},
   "source": [
    "## How to check Python Environment in Jupyter"
   ]
  },
  {
   "cell_type": "code",
   "execution_count": 46,
   "id": "01df2b4f-20f2-425d-a915-b04e3d555d85",
   "metadata": {},
   "outputs": [
    {
     "name": "stdout",
     "output_type": "stream",
     "text": [
      "/Users/hk/anaconda3/bin/python\n"
     ]
    }
   ],
   "source": [
    "import sys\n",
    "\n",
    "print(sys.executable)"
   ]
  },
  {
   "cell_type": "markdown",
   "id": "d1efd663-5cb6-4a2d-a778-e9b987fc09ac",
   "metadata": {},
   "source": [
    "## How to check all the installed libraries in the conda environment"
   ]
  },
  {
   "cell_type": "code",
   "execution_count": 1,
   "id": "80535f0a-9f23-4a18-86dc-fd5ef26f37c0",
   "metadata": {
    "scrolled": true
   },
   "outputs": [
    {
     "name": "stdout",
     "output_type": "stream",
     "text": [
      "# packages in environment at /Users/hk/anaconda3:\n",
      "#\n",
      "# Name                    Version                   Build  Channel\n",
      "_py-xgboost-mutex         2.0                       cpu_0  \n",
      "anaconda-client           1.11.2          py310hca03da5_0  \n",
      "anaconda-navigator        2.4.0           py310hca03da5_0  \n",
      "anaconda-project          0.11.1          py310hca03da5_0  \n",
      "anyio                     3.7.0              pyhd8ed1ab_1    conda-forge\n",
      "appdirs                   1.4.4              pyhd3eb1b0_0  \n",
      "appnope                   0.1.3              pyhd8ed1ab_0    conda-forge\n",
      "argon2-cffi               21.3.0             pyhd8ed1ab_0    conda-forge\n",
      "argon2-cffi-bindings      21.2.0          py310h1a28f6b_0  \n",
      "asttokens                 2.2.1              pyhd8ed1ab_0    conda-forge\n",
      "async-lru                 2.0.2              pyhd8ed1ab_0    conda-forge\n",
      "attrs                     22.1.0          py310hca03da5_0  \n",
      "babel                     2.12.1             pyhd8ed1ab_1    conda-forge\n",
      "backcall                  0.2.0              pyh9f0ad1d_0    conda-forge\n",
      "backports                 1.1                pyhd3eb1b0_0  \n",
      "backports.functools_lru_cache 1.6.4              pyhd3eb1b0_0  \n",
      "backports.tempfile        1.0                pyhd3eb1b0_1  \n",
      "backports.weakref         1.0.post1                  py_1  \n",
      "bcrypt                    4.0.1                    pypi_0    pypi\n",
      "beautifulsoup4            4.12.2          py310hca03da5_0  \n",
      "blas                      1.0                    openblas  \n",
      "bleach                    6.0.0              pyhd8ed1ab_0    conda-forge\n",
      "boltons                   23.0.0          py310hca03da5_0  \n",
      "bottleneck                1.3.5           py310h96f19d2_0  \n",
      "brotlipy                  0.7.0           py310h1a28f6b_1002  \n",
      "bzip2                     1.0.8                h620ffc9_4  \n",
      "ca-certificates           2023.05.30           hca03da5_0  \n",
      "cachetools                5.3.0                    pypi_0    pypi\n",
      "cctools                   949.0.1             hc179dcd_25  \n",
      "cctools_osx-arm64         949.0.1             h332cad3_25  \n",
      "certifi                   2023.5.7        py310hca03da5_0  \n",
      "cffi                      1.15.1          py310h80987f9_3  \n",
      "chardet                   4.0.0           py310hca03da5_1003  \n",
      "charset-normalizer        2.0.4              pyhd3eb1b0_0  \n",
      "click                     8.0.4           py310hca03da5_0  \n",
      "clyent                    1.2.2           py310hca03da5_1  \n",
      "conda                     23.5.0          py310hca03da5_0  \n",
      "conda-build               3.24.0          py310hca03da5_0  \n",
      "conda-content-trust       0.1.3           py310hca03da5_0  \n",
      "conda-pack                0.6.0              pyhd3eb1b0_0  \n",
      "conda-package-handling    2.0.2           py310hca03da5_0  \n",
      "conda-package-streaming   0.7.0           py310hca03da5_0  \n",
      "conda-repo-cli            1.0.41          py310hca03da5_0  \n",
      "conda-token               0.4.0              pyhd3eb1b0_0  \n",
      "conda-verify              3.4.2                      py_1  \n",
      "contourpy                 1.1.0                    pypi_0    pypi\n",
      "cryptography              39.0.1          py310h834c97f_2  \n",
      "cycler                    0.11.0                   pypi_0    pypi\n",
      "debugpy                   1.5.1           py310hc377ac9_0  \n",
      "decorator                 5.1.1              pyhd8ed1ab_0    conda-forge\n",
      "defusedxml                0.7.1              pyhd3eb1b0_0  \n",
      "distlib                   0.3.8                    pypi_0    pypi\n",
      "distro                    1.8.0                    pypi_0    pypi\n",
      "docker                    6.1.3                    pypi_0    pypi\n",
      "docker-compose            1.29.2                   pypi_0    pypi\n",
      "dockerpty                 0.4.1                    pypi_0    pypi\n",
      "docopt                    0.6.2                    pypi_0    pypi\n",
      "entrypoints               0.4                pyhd8ed1ab_0    conda-forge\n",
      "exceptiongroup            1.1.1              pyhd8ed1ab_0    conda-forge\n",
      "executing                 1.2.0              pyhd8ed1ab_0    conda-forge\n",
      "flit-core                 3.9.0              pyhd8ed1ab_0    conda-forge\n",
      "fonttools                 4.42.1                   pypi_0    pypi\n",
      "freetype                  2.12.1               h1192e45_0  \n",
      "future                    0.18.3          py310hca03da5_0  \n",
      "gettext                   0.21.0               h13f89a0_1  \n",
      "giflib                    5.2.1                h80987f9_3  \n",
      "glib                      2.69.1               h514c7bf_2  \n",
      "glob2                     0.7                pyhd3eb1b0_0  \n",
      "google-api-core           2.11.0                   pypi_0    pypi\n",
      "google-api-python-client  2.86.0                   pypi_0    pypi\n",
      "google-auth               2.18.1                   pypi_0    pypi\n",
      "google-auth-httplib2      0.1.0                    pypi_0    pypi\n",
      "googleapis-common-protos  1.59.0                   pypi_0    pypi\n",
      "gst-plugins-base          1.14.1               h313beb8_1  \n",
      "gstreamer                 1.14.1               h80987f9_1  \n",
      "httplib2                  0.22.0                   pypi_0    pypi\n",
      "icu                       68.1                 hc377ac9_0  \n",
      "idna                      3.4             py310hca03da5_0  \n",
      "importlib-metadata        6.6.0              pyha770c72_0    conda-forge\n",
      "importlib_metadata        6.6.0                hd8ed1ab_0    conda-forge\n",
      "importlib_resources       5.12.0             pyhd8ed1ab_0    conda-forge\n",
      "ipykernel                 6.15.0             pyh736e0ef_0    conda-forge\n",
      "ipython                   8.14.0             pyhd1c38e8_0    conda-forge\n",
      "jedi                      0.18.2             pyhd8ed1ab_0    conda-forge\n",
      "jinja2                    3.1.2           py310hca03da5_0  \n",
      "joblib                    1.2.0           py310hca03da5_0  \n",
      "jpeg                      9e                   h80987f9_1  \n",
      "json5                     0.9.5              pyh9f0ad1d_0    conda-forge\n",
      "jsonpatch                 1.32               pyhd3eb1b0_0  \n",
      "jsonpointer               2.1                pyhd3eb1b0_0  \n",
      "jsonschema                3.2.0                    pypi_0    pypi\n",
      "jupyter-lsp               2.2.0              pyhd8ed1ab_0    conda-forge\n",
      "jupyter_client            8.2.0              pyhd8ed1ab_0    conda-forge\n",
      "jupyter_core              5.3.0           py310hca03da5_0  \n",
      "jupyter_events            0.6.3              pyhd8ed1ab_0    conda-forge\n",
      "jupyter_server            2.6.0              pyhd8ed1ab_0    conda-forge\n",
      "jupyter_server_terminals  0.4.4              pyhd8ed1ab_1    conda-forge\n",
      "jupyterlab                4.0.2              pyhd8ed1ab_0    conda-forge\n",
      "jupyterlab_pygments       0.2.2              pyhd8ed1ab_0    conda-forge\n",
      "jupyterlab_server         2.23.0             pyhd8ed1ab_0    conda-forge\n",
      "kiwisolver                1.4.5                    pypi_0    pypi\n",
      "krb5                      1.20.1               h48293ea_0  \n",
      "lcms2                     2.12                 hba8e193_0  \n",
      "ld64                      530                 hb29bf3f_25  \n",
      "ld64_osx-arm64            530                 h001ce53_25  \n",
      "ldid                      2.1.2                h64d1936_2  \n",
      "lerc                      3.0                  hc377ac9_0  \n",
      "libarchive                3.6.2                h62fee54_2  \n",
      "libclang                  12.0.0          default_hc321e17_4  \n",
      "libcxx                    14.0.6               h848a8c0_0  \n",
      "libdeflate                1.17                 h80987f9_0  \n",
      "libedit                   3.1.20221030         h80987f9_0  \n",
      "libffi                    3.4.4                hca03da5_0  \n",
      "libgfortran               5.0.0           11_3_0_hca03da5_28  \n",
      "libgfortran5              11.3.0              h009349e_28  \n",
      "libiconv                  1.16                 h1a28f6b_2  \n",
      "liblief                   0.12.3               h313beb8_0  \n",
      "libllvm12                 12.0.0               h12f7ac0_4  \n",
      "libllvm14                 14.0.6               h7ec7a93_3  \n",
      "libopenblas               0.3.21               h269037a_0  \n",
      "libpng                    1.6.39               h80987f9_0  \n",
      "libpq                     12.15                h3e2b118_0  \n",
      "libsodium                 1.0.18               h27ca646_1    conda-forge\n",
      "libtiff                   4.5.0                h313beb8_2  \n",
      "libwebp                   1.2.4                ha3663a8_1  \n",
      "libwebp-base              1.2.4                h80987f9_1  \n",
      "libxgboost                1.7.3                h313beb8_0  \n",
      "libxml2                   2.10.3               h372ba2a_0  \n",
      "libxslt                   1.1.37               habca612_0  \n",
      "llvm-openmp               14.0.6               hc6e5704_0  \n",
      "lz4-c                     1.9.4                h313beb8_0  \n",
      "markupsafe                2.1.1           py310h1a28f6b_0  \n",
      "matplotlib                3.7.2                    pypi_0    pypi\n",
      "matplotlib-inline         0.1.6              pyhd8ed1ab_0    conda-forge\n",
      "mistune                   2.0.5              pyhd8ed1ab_0    conda-forge\n",
      "navigator-updater         0.3.0           py310hca03da5_0  \n",
      "nbclient                  0.8.0              pyhd8ed1ab_0    conda-forge\n",
      "nbconvert-core            7.5.0              pyhd8ed1ab_0    conda-forge\n",
      "nbformat                  5.7.0           py310hca03da5_0  \n",
      "ncurses                   6.4                  h313beb8_0  \n",
      "nest-asyncio              1.5.6              pyhd8ed1ab_0    conda-forge\n",
      "notebook-shim             0.2.3              pyhd8ed1ab_0    conda-forge\n",
      "nspr                      4.35                 h313beb8_0  \n",
      "nss                       3.89.1               h313beb8_0  \n",
      "numexpr                   2.8.4           py310hecc3335_1  \n",
      "numpy                     1.24.3          py310hb93e574_0  \n",
      "numpy-base                1.24.3          py310haf87e8b_0  \n",
      "openssl                   3.0.8                h1a28f6b_0  \n",
      "overrides                 7.3.1              pyhd8ed1ab_0    conda-forge\n",
      "packaging                 23.0            py310hca03da5_0  \n",
      "pandas                    1.5.3           py310h46d7db6_0  \n",
      "pandocfilters             1.5.0              pyhd8ed1ab_0    conda-forge\n",
      "paramiko                  3.2.0                    pypi_0    pypi\n",
      "parso                     0.8.3              pyhd8ed1ab_0    conda-forge\n",
      "patch                     2.7.6             h1a28f6b_1001  \n",
      "pathlib                   1.0.1              pyhd3eb1b0_1  \n",
      "pcre                      8.45                 hc377ac9_0  \n",
      "pexpect                   4.8.0              pyh1a96a4e_2    conda-forge\n",
      "pickleshare               0.7.5                   py_1003    conda-forge\n",
      "pillow                    9.4.0           py310h313beb8_0  \n",
      "pip                       22.3.1          py310hca03da5_0  \n",
      "pipenv                    2023.12.1                pypi_0    pypi\n",
      "pkginfo                   1.9.6           py310hca03da5_0  \n",
      "platformdirs              4.2.0                    pypi_0    pypi\n",
      "pluggy                    1.0.0           py310hca03da5_1  \n",
      "ply                       3.11            py310hca03da5_0  \n",
      "pooch                     1.4.0              pyhd3eb1b0_0  \n",
      "prometheus_client         0.17.0             pyhd8ed1ab_0    conda-forge\n",
      "prompt-toolkit            3.0.38             pyha770c72_0    conda-forge\n",
      "prompt_toolkit            3.0.38               hd8ed1ab_0    conda-forge\n",
      "protobuf                  4.23.1                   pypi_0    pypi\n",
      "psutil                    5.9.0           py310h1a28f6b_0  \n",
      "ptyprocess                0.7.0              pyhd3deb0d_0    conda-forge\n",
      "pure_eval                 0.2.2              pyhd8ed1ab_0    conda-forge\n",
      "py-lief                   0.12.3          py310h313beb8_0  \n",
      "py-xgboost                1.7.3           py310hca03da5_0  \n",
      "pycosat                   0.6.4           py310h1a28f6b_0  \n",
      "pycparser                 2.21               pyhd3eb1b0_0  \n",
      "pygments                  2.15.1             pyhd8ed1ab_0    conda-forge\n",
      "pyjwt                     2.4.0           py310hca03da5_0  \n",
      "pynacl                    1.5.0                    pypi_0    pypi\n",
      "pyopenssl                 23.0.0          py310hca03da5_0  \n",
      "pyparsing                 3.0.9                    pypi_0    pypi\n",
      "pyqt                      5.15.7          py310hc377ac9_0  \n",
      "pyqt5-sip                 12.11.0                  pypi_0    pypi\n",
      "pyrsistent                0.18.0          py310h1a28f6b_0  \n",
      "pysocks                   1.7.1           py310hca03da5_0  \n",
      "python                    3.10.11              hb885b13_3  \n",
      "python-dateutil           2.8.2              pyhd3eb1b0_0  \n",
      "python-dotenv             0.21.1                   pypi_0    pypi\n",
      "python-fastjsonschema     2.16.2          py310hca03da5_0  \n",
      "python-json-logger        2.0.7              pyhd8ed1ab_0    conda-forge\n",
      "python-libarchive-c       2.9                pyhd3eb1b0_1  \n",
      "python.app                3               py310h1a28f6b_0  \n",
      "pytz                      2022.7          py310hca03da5_0  \n",
      "pyyaml                    5.4.1                    pypi_0    pypi\n",
      "pyzmq                     25.1.0          py310h313beb8_0  \n",
      "qt-main                   5.15.2               ha2d02b5_7  \n",
      "qt-webengine              5.15.9               h2903aaf_4  \n",
      "qtpy                      2.2.0           py310hca03da5_0  \n",
      "qtwebkit                  5.212                h19f419d_5  \n",
      "readline                  8.2                  h1a28f6b_0  \n",
      "requests                  2.29.0          py310hca03da5_0  \n",
      "requests-toolbelt         0.9.1              pyhd3eb1b0_0  \n",
      "rfc3339-validator         0.1.4              pyhd8ed1ab_0    conda-forge\n",
      "rfc3986-validator         0.1.1              pyh9f0ad1d_0    conda-forge\n",
      "rsa                       4.9                      pypi_0    pypi\n",
      "ruamel.yaml               0.17.21         py310h1a28f6b_0  \n",
      "ruamel.yaml.clib          0.2.6           py310h1a28f6b_1  \n",
      "ruamel_yaml               0.17.21         py310h1a28f6b_0  \n",
      "scikit-learn              1.2.2           py310h313beb8_1  \n",
      "scipy                     1.10.1          py310h20cbe94_1  \n",
      "seaborn                   0.12.2                   pypi_0    pypi\n",
      "send2trash                1.8.0              pyhd3eb1b0_1  \n",
      "setuptools                69.0.3                   pypi_0    pypi\n",
      "sip                       6.6.2           py310hc377ac9_0  \n",
      "six                       1.16.0             pyhd3eb1b0_1  \n",
      "sniffio                   1.3.0              pyhd8ed1ab_0    conda-forge\n",
      "soupsieve                 2.4             py310hca03da5_0  \n",
      "sqlite                    3.41.2               h80987f9_0  \n",
      "stack_data                0.6.2              pyhd8ed1ab_0    conda-forge\n",
      "tapi                      1100.0.11            h8754e6a_1  \n",
      "terminado                 0.17.1             pyhd1c38e8_0    conda-forge\n",
      "texttable                 1.6.7                    pypi_0    pypi\n",
      "threadpoolctl             2.2.0              pyh0d69192_0  \n",
      "tinycss2                  1.2.1              pyhd8ed1ab_0    conda-forge\n",
      "tk                        8.6.12               hb8d0fd4_0  \n",
      "toml                      0.10.2             pyhd3eb1b0_0  \n",
      "tomli                     2.0.1           py310hca03da5_0  \n",
      "toolz                     0.12.0          py310hca03da5_0  \n",
      "tornado                   6.2             py310h1a28f6b_0  \n",
      "tqdm                      4.65.0          py310h33ce5c2_0  \n",
      "traitlets                 5.7.1           py310hca03da5_0  \n",
      "typing_extensions         4.6.3              pyha770c72_0    conda-forge\n",
      "typing_utils              0.1.0              pyhd8ed1ab_0    conda-forge\n",
      "tzdata                    2023c                h04d1e81_0  \n",
      "ujson                     5.4.0           py310hc377ac9_0  \n",
      "uritemplate               4.1.1                    pypi_0    pypi\n",
      "urllib3                   1.26.16         py310hca03da5_0  \n",
      "virtualenv                20.25.0                  pypi_0    pypi\n",
      "wcwidth                   0.2.6              pyhd8ed1ab_0    conda-forge\n",
      "webencodings              0.5.1                      py_1    conda-forge\n",
      "websocket-client          0.59.0                   pypi_0    pypi\n",
      "wheel                     0.38.4          py310hca03da5_0  \n",
      "xgboost                   1.7.3           py310hca03da5_0  \n",
      "xz                        5.4.2                h80987f9_0  \n",
      "yaml                      0.2.5                h1a28f6b_0  \n",
      "zeromq                    4.3.4                hbdafb3b_1    conda-forge\n",
      "zipp                      3.15.0             pyhd8ed1ab_0    conda-forge\n",
      "zlib                      1.2.13               h5a0b063_0  \n",
      "zstandard                 0.19.0          py310h80987f9_0  \n",
      "zstd                      1.5.5                hd90d995_0  \n"
     ]
    }
   ],
   "source": [
    "! conda list"
   ]
  },
  {
   "cell_type": "code",
   "execution_count": null,
   "id": "b3e05ffa-858f-45a1-91bb-5b9d47c76d12",
   "metadata": {},
   "outputs": [],
   "source": []
  },
  {
   "cell_type": "markdown",
   "id": "ce9926f3-a8ab-4fab-8e0d-23eaab61eec7",
   "metadata": {},
   "source": [
    "## How to install a package using conda"
   ]
  },
  {
   "cell_type": "code",
   "execution_count": null,
   "id": "fa7a2284-d60d-478d-bb2c-05aa7aa30c49",
   "metadata": {},
   "outputs": [],
   "source": [
    "\"\"\"!conda install package_name -y\"\"\"\n",
    "\n",
    "# The -y tag is used to confirm the installation without prompting the user for confirmation\n",
    "\n",
    "# useful for automation and scripting "
   ]
  },
  {
   "cell_type": "markdown",
   "id": "462e52dc-81d6-42f7-8232-1b02c34c5683",
   "metadata": {},
   "source": [
    "## How to launch jupyter lab from the terminal"
   ]
  },
  {
   "cell_type": "markdown",
   "id": "8264f2d5-4a37-45c8-9682-cb83adc7c3ab",
   "metadata": {},
   "source": [
    "\n",
    "1. Go to the directory where you want to launch\n",
    "2. Create an enviroment using the following command\n",
    "    conda activate <env_name>\n",
    "3. jupyter lab\n"
   ]
  },
  {
   "cell_type": "markdown",
   "id": "8478d8ee-79ae-4a60-a52c-413f3a9002d5",
   "metadata": {},
   "source": [
    "## Working with CSV file"
   ]
  },
  {
   "cell_type": "code",
   "execution_count": 1,
   "id": "8493627e-c0fe-494d-8d28-afe4119dec6c",
   "metadata": {},
   "outputs": [],
   "source": [
    "import pandas as pd"
   ]
  },
  {
   "cell_type": "code",
   "execution_count": 7,
   "id": "10fe5597-8a18-4520-b739-84b17304a41c",
   "metadata": {},
   "outputs": [],
   "source": [
    "land_temps_df = pd.read_csv(\"./raw_data/landtempssample.csv\")"
   ]
  },
  {
   "cell_type": "code",
   "execution_count": 8,
   "id": "ee66392e-7e3d-40c4-bc97-77a3ee5ebfba",
   "metadata": {},
   "outputs": [
    {
     "data": {
      "text/plain": [
       "Index(['locationid', 'year', 'month', 'temp', 'latitude', 'longitude',\n",
       "       'stnelev', 'station', 'countryid', 'country'],\n",
       "      dtype='object')"
      ]
     },
     "execution_count": 8,
     "metadata": {},
     "output_type": "execute_result"
    }
   ],
   "source": [
    "land_temps_df.columns"
   ]
  },
  {
   "cell_type": "code",
   "execution_count": 10,
   "id": "5905107c-967c-4107-af79-f9eaf20d7dc8",
   "metadata": {},
   "outputs": [],
   "source": [
    "df = land_temps_df\n"
   ]
  },
  {
   "cell_type": "markdown",
   "id": "a03c4e37-3423-4c1e-9798-b492b160498a",
   "metadata": {},
   "source": [
    "## Renaming a couple of columns"
   ]
  },
  {
   "cell_type": "code",
   "execution_count": 15,
   "id": "846695cb-b1f0-4b97-8ffd-90ce3a61da8d",
   "metadata": {},
   "outputs": [],
   "source": [
    "df = df.rename(columns = {\"locationid\" : \"station_id\",\n",
    "                     \"temp\" : \"avg_temp\",\n",
    "                     \"stnelev\" : \"elevation\"})\n",
    "                     "
   ]
  },
  {
   "cell_type": "markdown",
   "id": "47efad55-ad3c-4292-99e7-5ace784a9540",
   "metadata": {},
   "source": [
    "### Why did we reassign the dataframe?"
   ]
  },
  {
   "cell_type": "code",
   "execution_count": null,
   "id": "066931e9-a08a-4edc-a867-4f10b578f88a",
   "metadata": {},
   "outputs": [],
   "source": [
    "\"\"\"\n",
    "\n",
    "Because any modification on the dataframe is done on a new modified dataframe\n",
    "by default. It uses \"inplace = False\" argument by default.\n",
    "\n",
    "To avoid this, we can give an argument - \"inplace = True\". This saves memory as \n",
    "the modifications are done on the same dataframe. This is good to improve \n",
    "performance on large datasets.\n",
    "\n",
    "So in the above example, if we want to save memory and make changes on the\n",
    "same dataframe , we can use inplace = True argument as follows:\n",
    "\n",
    "\n",
    "df.rename(columns = {\"locationid\" : \"station_id\",\n",
    "                     \"temp\" : \"avg_temp\",\n",
    "                     \"stnelev\" : \"elevation\"},inplace= True)\n",
    "\n",
    "\n",
    "\n",
    "Note:\n",
    "\t•\tinplace=True saves memory but does not allow undoing changes easily.\n",
    "\t•\tinplace=False (default) ensures that the original DataFrame \n",
    " remains unchanged unless explicitly reassigned.\n",
    "\n",
    "\"\"\""
   ]
  },
  {
   "cell_type": "markdown",
   "id": "11f5780a-661e-4946-8d8c-5128227a90fe",
   "metadata": {},
   "source": [
    "### How to check the memory usage?"
   ]
  },
  {
   "cell_type": "code",
   "execution_count": 29,
   "id": "76d46323-886c-4f4c-ba65-92fbc8759f9b",
   "metadata": {},
   "outputs": [
    {
     "data": {
      "text/plain": [
       "Index             128\n",
       "station_id    6800000\n",
       "year           800000\n",
       "month          800000\n",
       "avg_temp       800000\n",
       "latitude       800000\n",
       "longitude      800000\n",
       "elevation      800000\n",
       "station       6870902\n",
       "countryid     5900000\n",
       "country       6701794\n",
       "date           800000\n",
       "dtype: int64"
      ]
     },
     "execution_count": 29,
     "metadata": {},
     "output_type": "execute_result"
    }
   ],
   "source": [
    "# Check memory Usage of column\n",
    "\n",
    "df.memory_usage(deep = True)"
   ]
  },
  {
   "cell_type": "code",
   "execution_count": null,
   "id": "0cbf23cd-99d3-4fd7-bd6a-7338f90d1349",
   "metadata": {},
   "outputs": [],
   "source": [
    "\"\"\"\t\n",
    "•\tThis returns the memory usage (in bytes) for each column.\n",
    "•\tThe deep=True argument ensures it accounts for object (string) \n",
    "data types accurately.\n",
    " \"\"\""
   ]
  },
  {
   "cell_type": "code",
   "execution_count": 33,
   "id": "e2f93978-7531-4a43-b64d-9aa1a8e5e249",
   "metadata": {},
   "outputs": [
    {
     "data": {
      "text/plain": [
       "31872824"
      ]
     },
     "execution_count": 33,
     "metadata": {},
     "output_type": "execute_result"
    }
   ],
   "source": [
    "# Check total memory usage of the dataframe\n",
    "\n",
    "df.memory_usage(deep= True).sum()"
   ]
  },
  {
   "cell_type": "code",
   "execution_count": null,
   "id": "e3c4e6bc-824e-42f6-b7b0-cfb81620e4f7",
   "metadata": {},
   "outputs": [],
   "source": [
    "\"\"\"\tThis returns the total memory usage of the entire DataFrame in bytes.\"\"\""
   ]
  },
  {
   "cell_type": "code",
   "execution_count": 34,
   "id": "e0ae401e-8ccc-4f9e-a921-eeee93108ff4",
   "metadata": {},
   "outputs": [
    {
     "name": "stdout",
     "output_type": "stream",
     "text": [
      "<class 'pandas.core.frame.DataFrame'>\n",
      "RangeIndex: 100000 entries, 0 to 99999\n",
      "Data columns (total 11 columns):\n",
      " #   Column      Non-Null Count   Dtype         \n",
      "---  ------      --------------   -----         \n",
      " 0   station_id  100000 non-null  object        \n",
      " 1   year        100000 non-null  int64         \n",
      " 2   month       100000 non-null  int64         \n",
      " 3   avg_temp    85554 non-null   float64       \n",
      " 4   latitude    100000 non-null  float64       \n",
      " 5   longitude   100000 non-null  float64       \n",
      " 6   elevation   100000 non-null  float64       \n",
      " 7   station     100000 non-null  object        \n",
      " 8   countryid   100000 non-null  object        \n",
      " 9   country     99995 non-null   object        \n",
      " 10  date        100000 non-null  datetime64[ns]\n",
      "dtypes: datetime64[ns](1), float64(4), int64(2), object(4)\n",
      "memory usage: 30.4 MB\n"
     ]
    }
   ],
   "source": [
    "# Check memory usage with .info()\n",
    "\n",
    "df.info(memory_usage = \"deep\")"
   ]
  },
  {
   "cell_type": "code",
   "execution_count": 36,
   "id": "c2ab6b64-3757-4a7e-80ae-3b9feffef5b8",
   "metadata": {},
   "outputs": [
    {
     "name": "stdout",
     "output_type": "stream",
     "text": [
      "Memory Usage:30.40 MB\n"
     ]
    }
   ],
   "source": [
    "# Convert Bytes to MB or GB for better readability\n",
    "\n",
    "memory_in_mb = df.memory_usage(deep= True).sum()/(1024**2)\n",
    "print (f\"Memory Usage:{memory_in_mb:.2f} MB\")"
   ]
  },
  {
   "cell_type": "markdown",
   "id": "fff4472e-30ee-4adc-824c-199ddf4235eb",
   "metadata": {},
   "source": [
    "## Checking the attributes of the dataframe"
   ]
  },
  {
   "cell_type": "markdown",
   "id": "fdda08ea-5a78-4e57-a616-34467b38df62",
   "metadata": {},
   "source": [
    "### Check the column names"
   ]
  },
  {
   "cell_type": "code",
   "execution_count": 27,
   "id": "1e3872c6-72e9-4545-869b-8283bc1275ec",
   "metadata": {},
   "outputs": [
    {
     "data": {
      "text/plain": [
       "Index(['station_id', 'year', 'month', 'avg_temp', 'latitude', 'longitude',\n",
       "       'elevation', 'station', 'countryid', 'country', 'date'],\n",
       "      dtype='object')"
      ]
     },
     "execution_count": 27,
     "metadata": {},
     "output_type": "execute_result"
    }
   ],
   "source": [
    "df.columns"
   ]
  },
  {
   "cell_type": "markdown",
   "id": "867b63bf-53a5-4972-8783-fb2058c701ea",
   "metadata": {},
   "source": [
    "### Check the data_types"
   ]
  },
  {
   "cell_type": "code",
   "execution_count": 20,
   "id": "fc37146e-bc3f-4d44-9b50-599d386de3e7",
   "metadata": {},
   "outputs": [
    {
     "data": {
      "text/plain": [
       "station_id            object\n",
       "year                   int64\n",
       "month                  int64\n",
       "avg_temp             float64\n",
       "latitude             float64\n",
       "longitude            float64\n",
       "elevation            float64\n",
       "station               object\n",
       "countryid             object\n",
       "country               object\n",
       "date          datetime64[ns]\n",
       "dtype: object"
      ]
     },
     "execution_count": 20,
     "metadata": {},
     "output_type": "execute_result"
    }
   ],
   "source": [
    "df.dtypes"
   ]
  },
  {
   "cell_type": "markdown",
   "id": "49e0a83a-aba5-4ea4-ae72-2e44591e3dc9",
   "metadata": {},
   "source": [
    "### Check the shape of the dataframe"
   ]
  },
  {
   "cell_type": "code",
   "execution_count": 37,
   "id": "1f1f4f41-e8eb-4243-b19f-713631267f97",
   "metadata": {},
   "outputs": [
    {
     "data": {
      "text/plain": [
       "(100000, 11)"
      ]
     },
     "execution_count": 37,
     "metadata": {},
     "output_type": "execute_result"
    }
   ],
   "source": [
    "df.shape"
   ]
  },
  {
   "cell_type": "markdown",
   "id": "1d754750-1007-44aa-8b35-444bc30319ab",
   "metadata": {},
   "source": [
    "## Creating a new column combining \"month\" and \"year\" columns"
   ]
  },
  {
   "cell_type": "code",
   "execution_count": 17,
   "id": "a4f8ab97-1a9a-482d-83fd-cee046fed457",
   "metadata": {},
   "outputs": [],
   "source": [
    "df[\"date\"] = pd.to_datetime(df[\"year\"].astype(str) + \"-\" + df[\"month\"].astype(str)+ \"-01\")"
   ]
  },
  {
   "cell_type": "code",
   "execution_count": 18,
   "id": "934d57e3-7032-4830-933c-7665cf38648e",
   "metadata": {},
   "outputs": [
    {
     "data": {
      "text/plain": [
       "Index(['station_id', 'year', 'month', 'avg_temp', 'latitude', 'longitude',\n",
       "       'elevation', 'station', 'countryid', 'country', 'date'],\n",
       "      dtype='object')"
      ]
     },
     "execution_count": 18,
     "metadata": {},
     "output_type": "execute_result"
    }
   ],
   "source": [
    "df.columns"
   ]
  },
  {
   "cell_type": "code",
   "execution_count": 19,
   "id": "e8b90e9a-8d60-41d4-807c-2a7cb6a37f00",
   "metadata": {},
   "outputs": [
    {
     "data": {
      "text/html": [
       "<div>\n",
       "<style scoped>\n",
       "    .dataframe tbody tr th:only-of-type {\n",
       "        vertical-align: middle;\n",
       "    }\n",
       "\n",
       "    .dataframe tbody tr th {\n",
       "        vertical-align: top;\n",
       "    }\n",
       "\n",
       "    .dataframe thead th {\n",
       "        text-align: right;\n",
       "    }\n",
       "</style>\n",
       "<table border=\"1\" class=\"dataframe\">\n",
       "  <thead>\n",
       "    <tr style=\"text-align: right;\">\n",
       "      <th></th>\n",
       "      <th>station_id</th>\n",
       "      <th>year</th>\n",
       "      <th>month</th>\n",
       "      <th>avg_temp</th>\n",
       "      <th>latitude</th>\n",
       "      <th>longitude</th>\n",
       "      <th>elevation</th>\n",
       "      <th>station</th>\n",
       "      <th>countryid</th>\n",
       "      <th>country</th>\n",
       "      <th>date</th>\n",
       "    </tr>\n",
       "  </thead>\n",
       "  <tbody>\n",
       "    <tr>\n",
       "      <th>0</th>\n",
       "      <td>USS0010K01S</td>\n",
       "      <td>2000</td>\n",
       "      <td>4</td>\n",
       "      <td>5.27</td>\n",
       "      <td>39.9000</td>\n",
       "      <td>-110.7500</td>\n",
       "      <td>2773.7</td>\n",
       "      <td>INDIAN_CANYON</td>\n",
       "      <td>US</td>\n",
       "      <td>United States</td>\n",
       "      <td>2000-04-01</td>\n",
       "    </tr>\n",
       "    <tr>\n",
       "      <th>1</th>\n",
       "      <td>CI000085406</td>\n",
       "      <td>1940</td>\n",
       "      <td>5</td>\n",
       "      <td>18.04</td>\n",
       "      <td>-18.3500</td>\n",
       "      <td>-70.3330</td>\n",
       "      <td>58.0</td>\n",
       "      <td>ARICA</td>\n",
       "      <td>CI</td>\n",
       "      <td>Chile</td>\n",
       "      <td>1940-05-01</td>\n",
       "    </tr>\n",
       "    <tr>\n",
       "      <th>2</th>\n",
       "      <td>USC00036376</td>\n",
       "      <td>2013</td>\n",
       "      <td>12</td>\n",
       "      <td>6.22</td>\n",
       "      <td>34.3703</td>\n",
       "      <td>-91.1242</td>\n",
       "      <td>61.0</td>\n",
       "      <td>SAINT_CHARLES</td>\n",
       "      <td>US</td>\n",
       "      <td>United States</td>\n",
       "      <td>2013-12-01</td>\n",
       "    </tr>\n",
       "    <tr>\n",
       "      <th>3</th>\n",
       "      <td>ASN00024002</td>\n",
       "      <td>1963</td>\n",
       "      <td>2</td>\n",
       "      <td>22.93</td>\n",
       "      <td>-34.2833</td>\n",
       "      <td>140.6000</td>\n",
       "      <td>65.5</td>\n",
       "      <td>BERRI_IRRIGATION</td>\n",
       "      <td>AS</td>\n",
       "      <td>Australia</td>\n",
       "      <td>1963-02-01</td>\n",
       "    </tr>\n",
       "    <tr>\n",
       "      <th>4</th>\n",
       "      <td>ASN00028007</td>\n",
       "      <td>2001</td>\n",
       "      <td>11</td>\n",
       "      <td>NaN</td>\n",
       "      <td>-14.7803</td>\n",
       "      <td>143.5036</td>\n",
       "      <td>79.4</td>\n",
       "      <td>MUSGRAVE</td>\n",
       "      <td>AS</td>\n",
       "      <td>Australia</td>\n",
       "      <td>2001-11-01</td>\n",
       "    </tr>\n",
       "  </tbody>\n",
       "</table>\n",
       "</div>"
      ],
      "text/plain": [
       "    station_id  year  month  avg_temp  latitude  longitude  elevation  \\\n",
       "0  USS0010K01S  2000      4      5.27   39.9000  -110.7500     2773.7   \n",
       "1  CI000085406  1940      5     18.04  -18.3500   -70.3330       58.0   \n",
       "2  USC00036376  2013     12      6.22   34.3703   -91.1242       61.0   \n",
       "3  ASN00024002  1963      2     22.93  -34.2833   140.6000       65.5   \n",
       "4  ASN00028007  2001     11       NaN  -14.7803   143.5036       79.4   \n",
       "\n",
       "            station countryid        country       date  \n",
       "0     INDIAN_CANYON        US  United States 2000-04-01  \n",
       "1             ARICA        CI          Chile 1940-05-01  \n",
       "2     SAINT_CHARLES        US  United States 2013-12-01  \n",
       "3  BERRI_IRRIGATION        AS      Australia 1963-02-01  \n",
       "4          MUSGRAVE        AS      Australia 2001-11-01  "
      ]
     },
     "execution_count": 19,
     "metadata": {},
     "output_type": "execute_result"
    }
   ],
   "source": [
    "df.head()"
   ]
  },
  {
   "cell_type": "markdown",
   "id": "9270b9cf-5b3d-48c1-bd81-6457ba30816f",
   "metadata": {},
   "source": [
    "### Why do we use parentheses() sometimes and we do not use them other times? "
   ]
  },
  {
   "cell_type": "code",
   "execution_count": 25,
   "id": "0e9b5d5c-8e11-49fc-a544-f50fa7cd62e0",
   "metadata": {},
   "outputs": [
    {
     "ename": "SyntaxError",
     "evalue": "invalid character '’' (U+2019) (3400548944.py, line 1)",
     "output_type": "error",
     "traceback": [
      "\u001b[0;36m  Cell \u001b[0;32mIn[25], line 1\u001b[0;36m\u001b[0m\n\u001b[0;31m    The difference between using parentheses () and not using them in pandas depends on whether you’re accessing an attribute or calling a method.\u001b[0m\n\u001b[0m                                                                                                   ^\u001b[0m\n\u001b[0;31mSyntaxError\u001b[0m\u001b[0;31m:\u001b[0m invalid character '’' (U+2019)\n"
     ]
    }
   ],
   "source": [
    "The difference between using parentheses () and not using them \n",
    "in pandas depends on whether you’re accessing an attribute or calling a method.\n",
    "\n",
    "\n",
    "1️⃣ Attributes (No Parentheses)\n",
    "\t•\tAttributes store information about the DataFrame \n",
    "    and do not require parentheses.\n",
    "\n",
    "\n",
    "df.columns  # Returns the column names\n",
    "df.dtypes   # Returns the data types of each column\n",
    "df.shape    # Returns the number of rows and columns as a tuple (rows, columns)\n",
    "df.index    # Returns the index labels of the DataFrame\n",
    "\n",
    "Why no parentheses?\n",
    "\t•\tThese are properties of the DataFrame that simply hold values, \n",
    "    so we access them directly.\n",
    "\n",
    "2️⃣ Methods (With Parentheses)\n",
    "\t•\tMethods perform an action on the DataFrame, so they require parentheses.\n",
    "\t•\tExamples:\n",
    "\n",
    "df.head()      # Returns the first 5 rows of the DataFrame\n",
    "df.info()      # Prints a summary of the DataFrame\n",
    "df.describe()  # Generates summary statistics\n",
    "df.rename()    # Renames columns or index\n",
    "\n",
    "Why use parentheses?\n",
    "\t•\tMethods are functions that do something to the DataFrame, \n",
    "    and parentheses allow you to execute them.\n",
    "\n",
    "\t•\tIf you’re getting some information about the DataFrame → No parentheses (e.g., df.columns).\n",
    "\t•\tIf you’re doing something (modifying, summarizing, etc.) → Use parentheses (e.g., df.head())."
   ]
  },
  {
   "cell_type": "markdown",
   "id": "3b7b3cf5-f937-47fa-b214-206a03360a22",
   "metadata": {},
   "source": [
    "## Getting the info of the dataframe"
   ]
  },
  {
   "cell_type": "code",
   "execution_count": 38,
   "id": "d883d4d7-487b-4bc0-b710-06d5968720da",
   "metadata": {},
   "outputs": [
    {
     "name": "stdout",
     "output_type": "stream",
     "text": [
      "<class 'pandas.core.frame.DataFrame'>\n",
      "RangeIndex: 100000 entries, 0 to 99999\n",
      "Data columns (total 11 columns):\n",
      " #   Column      Non-Null Count   Dtype         \n",
      "---  ------      --------------   -----         \n",
      " 0   station_id  100000 non-null  object        \n",
      " 1   year        100000 non-null  int64         \n",
      " 2   month       100000 non-null  int64         \n",
      " 3   avg_temp    85554 non-null   float64       \n",
      " 4   latitude    100000 non-null  float64       \n",
      " 5   longitude   100000 non-null  float64       \n",
      " 6   elevation   100000 non-null  float64       \n",
      " 7   station     100000 non-null  object        \n",
      " 8   countryid   100000 non-null  object        \n",
      " 9   country     99995 non-null   object        \n",
      " 10  date        100000 non-null  datetime64[ns]\n",
      "dtypes: datetime64[ns](1), float64(4), int64(2), object(4)\n",
      "memory usage: 8.4+ MB\n"
     ]
    }
   ],
   "source": [
    "df.info()"
   ]
  },
  {
   "cell_type": "markdown",
   "id": "8b75804b-3c3a-46f7-ac45-80dd2fefc828",
   "metadata": {},
   "source": [
    "### Getting statistical Data of a column"
   ]
  },
  {
   "cell_type": "code",
   "execution_count": 39,
   "id": "aceec2fd-50fc-4332-9707-76a7a4c739a8",
   "metadata": {},
   "outputs": [
    {
     "data": {
      "text/plain": [
       "count    85554.000000\n",
       "mean        10.920770\n",
       "std         11.522444\n",
       "min        -70.700000\n",
       "25%          3.460000\n",
       "50%         12.220000\n",
       "75%         19.570000\n",
       "max         39.950000\n",
       "Name: avg_temp, dtype: float64"
      ]
     },
     "execution_count": 39,
     "metadata": {},
     "output_type": "execute_result"
    }
   ],
   "source": [
    "df.avg_temp.describe()"
   ]
  },
  {
   "cell_type": "markdown",
   "id": "125461c7-fe8f-44a1-8d9f-b67ed3b65d32",
   "metadata": {},
   "source": [
    "### Checking the missing values "
   ]
  },
  {
   "cell_type": "code",
   "execution_count": 40,
   "id": "ad77ad2b-ceef-4859-9f81-5ab59f810445",
   "metadata": {},
   "outputs": [
    {
     "data": {
      "text/plain": [
       "station_id        0\n",
       "year              0\n",
       "month             0\n",
       "avg_temp      14446\n",
       "latitude          0\n",
       "longitude         0\n",
       "elevation         0\n",
       "station           0\n",
       "countryid         0\n",
       "country           5\n",
       "date              0\n",
       "dtype: int64"
      ]
     },
     "execution_count": 40,
     "metadata": {},
     "output_type": "execute_result"
    }
   ],
   "source": [
    "df.isnull().sum()"
   ]
  },
  {
   "cell_type": "markdown",
   "id": "cd9d61c7-5e73-4d23-bec3-82f2956e907b",
   "metadata": {},
   "source": [
    "### Dropping the rows where there are missing values in atleast one of the columns"
   ]
  },
  {
   "cell_type": "code",
   "execution_count": 44,
   "id": "3630fbc0-38a0-4e67-81d3-d86c8d331aff",
   "metadata": {},
   "outputs": [
    {
     "data": {
      "text/plain": [
       "(85552, 11)"
      ]
     },
     "execution_count": 44,
     "metadata": {},
     "output_type": "execute_result"
    }
   ],
   "source": [
    "df.shape"
   ]
  },
  {
   "cell_type": "code",
   "execution_count": 45,
   "id": "864140f3-0c26-4d5d-b270-495e6f013e87",
   "metadata": {},
   "outputs": [],
   "source": [
    "df.dropna(subset = ['avg_temp','country'], inplace = True)\n",
    "\n",
    "# we can optionally use how = \"any\" argument "
   ]
  },
  {
   "cell_type": "code",
   "execution_count": 43,
   "id": "9f90c13b-6eca-41e2-9732-6afbacf82abf",
   "metadata": {},
   "outputs": [
    {
     "data": {
      "text/plain": [
       "(85552, 11)"
      ]
     },
     "execution_count": 43,
     "metadata": {},
     "output_type": "execute_result"
    }
   ],
   "source": [
    "df.shape"
   ]
  },
  {
   "cell_type": "code",
   "execution_count": null,
   "id": "fe2b6517-066c-456f-9a74-296a044a848d",
   "metadata": {},
   "outputs": [],
   "source": [
    "### Drop rows when missing values in both columns - use how = \"all\" argument\n",
    "\n",
    "df.dropna(subset = [\"avg_temp\",\"country\"], inplace = True, how=\"all\")"
   ]
  },
  {
   "cell_type": "code",
   "execution_count": null,
   "id": "841618d7-939a-45c0-b5d2-ac370d2b1272",
   "metadata": {},
   "outputs": [],
   "source": []
  }
 ],
 "metadata": {
  "kernelspec": {
   "display_name": "Python 3 (ipykernel)",
   "language": "python",
   "name": "python3"
  },
  "language_info": {
   "codemirror_mode": {
    "name": "ipython",
    "version": 3
   },
   "file_extension": ".py",
   "mimetype": "text/x-python",
   "name": "python",
   "nbconvert_exporter": "python",
   "pygments_lexer": "ipython3",
   "version": "3.10.11"
  }
 },
 "nbformat": 4,
 "nbformat_minor": 5
}
