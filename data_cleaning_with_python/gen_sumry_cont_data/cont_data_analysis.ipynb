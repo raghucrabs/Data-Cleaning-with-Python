{
 "cells": [
  {
   "cell_type": "markdown",
   "id": "ceaca9b9-80b2-4f7f-bf0b-a8d19f9c1e5c",
   "metadata": {},
   "source": [
    "## Import the libraries"
   ]
  },
  {
   "cell_type": "code",
   "execution_count": 4,
   "id": "684cb7b8-7ac5-470e-add6-2d82bc713190",
   "metadata": {},
   "outputs": [],
   "source": [
    "import pandas as pd\n",
    "import numpy as np\n",
    "import matplotlib.pyplot as plt"
   ]
  },
  {
   "cell_type": "markdown",
   "id": "53a3f8aa-a029-4baa-a1f1-d8f4dd0ccf1d",
   "metadata": {},
   "source": [
    "## Read the data "
   ]
  },
  {
   "cell_type": "code",
   "execution_count": 7,
   "id": "905918cb-899a-4873-b23d-e5a1661d1810",
   "metadata": {},
   "outputs": [],
   "source": [
    "df = pd.read_csv(\"raw_data/covidtotals.csv\",\n",
    "                parse_dates=['lastdate']) #converts the column into datetime64 format while reading the file\n"
   ]
  },
  {
   "cell_type": "code",
   "execution_count": 10,
   "id": "409484c1-791b-46ef-93df-db4c80b155f6",
   "metadata": {},
   "outputs": [
    {
     "data": {
      "text/plain": [
       "(210, 12)"
      ]
     },
     "execution_count": 10,
     "metadata": {},
     "output_type": "execute_result"
    }
   ],
   "source": [
    "df.shape"
   ]
  },
  {
   "cell_type": "code",
   "execution_count": 12,
   "id": "fb60afd1-f547-4403-8557-5eea4316c6f6",
   "metadata": {},
   "outputs": [
    {
     "data": {
      "text/html": [
       "<div>\n",
       "<style scoped>\n",
       "    .dataframe tbody tr th:only-of-type {\n",
       "        vertical-align: middle;\n",
       "    }\n",
       "\n",
       "    .dataframe tbody tr th {\n",
       "        vertical-align: top;\n",
       "    }\n",
       "\n",
       "    .dataframe thead th {\n",
       "        text-align: right;\n",
       "    }\n",
       "</style>\n",
       "<table border=\"1\" class=\"dataframe\">\n",
       "  <thead>\n",
       "    <tr style=\"text-align: right;\">\n",
       "      <th></th>\n",
       "      <th>44</th>\n",
       "      <th>200</th>\n",
       "    </tr>\n",
       "  </thead>\n",
       "  <tbody>\n",
       "    <tr>\n",
       "      <th>iso_code</th>\n",
       "      <td>COG</td>\n",
       "      <td>VIR</td>\n",
       "    </tr>\n",
       "    <tr>\n",
       "      <th>lastdate</th>\n",
       "      <td>2020-06-01 00:00:00</td>\n",
       "      <td>2020-06-01 00:00:00</td>\n",
       "    </tr>\n",
       "    <tr>\n",
       "      <th>location</th>\n",
       "      <td>Congo</td>\n",
       "      <td>United States Virgin Islands</td>\n",
       "    </tr>\n",
       "    <tr>\n",
       "      <th>total_cases</th>\n",
       "      <td>611</td>\n",
       "      <td>69</td>\n",
       "    </tr>\n",
       "    <tr>\n",
       "      <th>total_deaths</th>\n",
       "      <td>20</td>\n",
       "      <td>6</td>\n",
       "    </tr>\n",
       "    <tr>\n",
       "      <th>total_cases_pm</th>\n",
       "      <td>110.727</td>\n",
       "      <td>660.774</td>\n",
       "    </tr>\n",
       "    <tr>\n",
       "      <th>total_deaths_pm</th>\n",
       "      <td>3.624</td>\n",
       "      <td>57.459</td>\n",
       "    </tr>\n",
       "    <tr>\n",
       "      <th>population</th>\n",
       "      <td>5518092.0</td>\n",
       "      <td>104423.0</td>\n",
       "    </tr>\n",
       "    <tr>\n",
       "      <th>pop_density</th>\n",
       "      <td>15.405</td>\n",
       "      <td>306.48</td>\n",
       "    </tr>\n",
       "    <tr>\n",
       "      <th>median_age</th>\n",
       "      <td>19.0</td>\n",
       "      <td>42.2</td>\n",
       "    </tr>\n",
       "    <tr>\n",
       "      <th>gdp_per_capita</th>\n",
       "      <td>4881.406</td>\n",
       "      <td>NaN</td>\n",
       "    </tr>\n",
       "    <tr>\n",
       "      <th>hosp_beds</th>\n",
       "      <td>NaN</td>\n",
       "      <td>NaN</td>\n",
       "    </tr>\n",
       "  </tbody>\n",
       "</table>\n",
       "</div>"
      ],
      "text/plain": [
       "                                 44                            200\n",
       "iso_code                         COG                           VIR\n",
       "lastdate         2020-06-01 00:00:00           2020-06-01 00:00:00\n",
       "location                       Congo  United States Virgin Islands\n",
       "total_cases                      611                            69\n",
       "total_deaths                      20                             6\n",
       "total_cases_pm               110.727                       660.774\n",
       "total_deaths_pm                3.624                        57.459\n",
       "population                 5518092.0                      104423.0\n",
       "pop_density                   15.405                        306.48\n",
       "median_age                      19.0                          42.2\n",
       "gdp_per_capita              4881.406                           NaN\n",
       "hosp_beds                        NaN                           NaN"
      ]
     },
     "execution_count": 12,
     "metadata": {},
     "output_type": "execute_result"
    }
   ],
   "source": [
    "df.sample(2, random_state=2).T"
   ]
  },
  {
   "cell_type": "markdown",
   "id": "9f7faaba-fd9f-4451-b26a-980dbc887079",
   "metadata": {},
   "source": [
    "## Check null values"
   ]
  },
  {
   "cell_type": "markdown",
   "id": "98d11775-33a7-4952-8f25-2ad6acef3189",
   "metadata": {},
   "source": [
    "df.isnull().sum()"
   ]
  },
  {
   "cell_type": "markdown",
   "id": "0fdeba68-8f53-414e-87e1-c6483e1eeccb",
   "metadata": {},
   "source": [
    "## Check Duplicates"
   ]
  },
  {
   "cell_type": "markdown",
   "id": "5fabea42-ca2f-4e28-99e9-27afc4ce70a4",
   "metadata": {},
   "source": [
    "df.duplicated(keep=\"first\")"
   ]
  },
  {
   "cell_type": "markdown",
   "id": "4bfc6427-a172-4f1e-beb0-2658525d675d",
   "metadata": {},
   "source": [
    "## Datatypes"
   ]
  },
  {
   "cell_type": "code",
   "execution_count": 14,
   "id": "079a8011-8579-4b45-bd4b-7b88a9024867",
   "metadata": {},
   "outputs": [
    {
     "data": {
      "text/plain": [
       "iso_code                   object\n",
       "lastdate           datetime64[ns]\n",
       "location                   object\n",
       "total_cases                 int64\n",
       "total_deaths                int64\n",
       "total_cases_pm            float64\n",
       "total_deaths_pm           float64\n",
       "population                float64\n",
       "pop_density               float64\n",
       "median_age                float64\n",
       "gdp_per_capita            float64\n",
       "hosp_beds                 float64\n",
       "dtype: object"
      ]
     },
     "execution_count": 14,
     "metadata": {},
     "output_type": "execute_result"
    }
   ],
   "source": [
    "df.dtypes"
   ]
  },
  {
   "cell_type": "markdown",
   "id": "b6a1735b-cbab-458c-af94-1523fabfe54c",
   "metadata": {},
   "source": [
    "## Descriptive statistics on the dataframe (numeric colums)"
   ]
  },
  {
   "cell_type": "code",
   "execution_count": 21,
   "id": "0730b69f-0944-4c20-8cd8-c7140a29d2e7",
   "metadata": {},
   "outputs": [
    {
     "data": {
      "text/html": [
       "<div>\n",
       "<style scoped>\n",
       "    .dataframe tbody tr th:only-of-type {\n",
       "        vertical-align: middle;\n",
       "    }\n",
       "\n",
       "    .dataframe tbody tr th {\n",
       "        vertical-align: top;\n",
       "    }\n",
       "\n",
       "    .dataframe thead th {\n",
       "        text-align: right;\n",
       "    }\n",
       "</style>\n",
       "<table border=\"1\" class=\"dataframe\">\n",
       "  <thead>\n",
       "    <tr style=\"text-align: right;\">\n",
       "      <th></th>\n",
       "      <th>count</th>\n",
       "      <th>mean</th>\n",
       "      <th>min</th>\n",
       "      <th>25%</th>\n",
       "      <th>50%</th>\n",
       "      <th>75%</th>\n",
       "      <th>max</th>\n",
       "      <th>std</th>\n",
       "    </tr>\n",
       "  </thead>\n",
       "  <tbody>\n",
       "    <tr>\n",
       "      <th>lastdate</th>\n",
       "      <td>210</td>\n",
       "      <td>2020-05-31 23:12:00</td>\n",
       "      <td>2020-05-26 00:00:00</td>\n",
       "      <td>2020-06-01 00:00:00</td>\n",
       "      <td>2020-06-01 00:00:00</td>\n",
       "      <td>2020-06-01 00:00:00</td>\n",
       "      <td>2020-06-01 00:00:00</td>\n",
       "      <td>NaN</td>\n",
       "    </tr>\n",
       "    <tr>\n",
       "      <th>total_cases</th>\n",
       "      <td>210.0</td>\n",
       "      <td>29216.138095</td>\n",
       "      <td>0.0</td>\n",
       "      <td>175.75</td>\n",
       "      <td>1242.5</td>\n",
       "      <td>10117.0</td>\n",
       "      <td>1790191.0</td>\n",
       "      <td>136397.804441</td>\n",
       "    </tr>\n",
       "    <tr>\n",
       "      <th>total_deaths</th>\n",
       "      <td>210.0</td>\n",
       "      <td>1770.714286</td>\n",
       "      <td>0.0</td>\n",
       "      <td>4.0</td>\n",
       "      <td>25.5</td>\n",
       "      <td>241.25</td>\n",
       "      <td>104383.0</td>\n",
       "      <td>8705.565857</td>\n",
       "    </tr>\n",
       "    <tr>\n",
       "      <th>total_cases_pm</th>\n",
       "      <td>209.0</td>\n",
       "      <td>1361.842909</td>\n",
       "      <td>0.894</td>\n",
       "      <td>96.785</td>\n",
       "      <td>281.997</td>\n",
       "      <td>1803.318</td>\n",
       "      <td>19771.348</td>\n",
       "      <td>2629.894101</td>\n",
       "    </tr>\n",
       "    <tr>\n",
       "      <th>total_deaths_pm</th>\n",
       "      <td>209.0</td>\n",
       "      <td>55.92544</td>\n",
       "      <td>0.0</td>\n",
       "      <td>0.893</td>\n",
       "      <td>6.214</td>\n",
       "      <td>32.158</td>\n",
       "      <td>1237.551</td>\n",
       "      <td>145.081876</td>\n",
       "    </tr>\n",
       "    <tr>\n",
       "      <th>population</th>\n",
       "      <td>210.0</td>\n",
       "      <td>36942762.357143</td>\n",
       "      <td>809.0</td>\n",
       "      <td>1031042.5</td>\n",
       "      <td>6909866.0</td>\n",
       "      <td>26158676.5</td>\n",
       "      <td>1439323774.0</td>\n",
       "      <td>142509205.134503</td>\n",
       "    </tr>\n",
       "    <tr>\n",
       "      <th>pop_density</th>\n",
       "      <td>198.0</td>\n",
       "      <td>362.867434</td>\n",
       "      <td>0.137</td>\n",
       "      <td>37.416</td>\n",
       "      <td>87.25</td>\n",
       "      <td>214.122</td>\n",
       "      <td>19347.5</td>\n",
       "      <td>1581.438294</td>\n",
       "    </tr>\n",
       "    <tr>\n",
       "      <th>median_age</th>\n",
       "      <td>186.0</td>\n",
       "      <td>30.627957</td>\n",
       "      <td>15.1</td>\n",
       "      <td>22.25</td>\n",
       "      <td>30.25</td>\n",
       "      <td>39.0</td>\n",
       "      <td>48.2</td>\n",
       "      <td>9.133152</td>\n",
       "    </tr>\n",
       "    <tr>\n",
       "      <th>gdp_per_capita</th>\n",
       "      <td>182.0</td>\n",
       "      <td>19539.154588</td>\n",
       "      <td>661.24</td>\n",
       "      <td>4485.329</td>\n",
       "      <td>13183.0815</td>\n",
       "      <td>28556.52725</td>\n",
       "      <td>116935.6</td>\n",
       "      <td>19862.354091</td>\n",
       "    </tr>\n",
       "    <tr>\n",
       "      <th>hosp_beds</th>\n",
       "      <td>164.0</td>\n",
       "      <td>3.012671</td>\n",
       "      <td>0.1</td>\n",
       "      <td>1.3</td>\n",
       "      <td>2.3585</td>\n",
       "      <td>3.89575</td>\n",
       "      <td>13.8</td>\n",
       "      <td>2.464917</td>\n",
       "    </tr>\n",
       "  </tbody>\n",
       "</table>\n",
       "</div>"
      ],
      "text/plain": [
       "                 count                 mean                  min  \\\n",
       "lastdate           210  2020-05-31 23:12:00  2020-05-26 00:00:00   \n",
       "total_cases      210.0         29216.138095                  0.0   \n",
       "total_deaths     210.0          1770.714286                  0.0   \n",
       "total_cases_pm   209.0          1361.842909                0.894   \n",
       "total_deaths_pm  209.0             55.92544                  0.0   \n",
       "population       210.0      36942762.357143                809.0   \n",
       "pop_density      198.0           362.867434                0.137   \n",
       "median_age       186.0            30.627957                 15.1   \n",
       "gdp_per_capita   182.0         19539.154588               661.24   \n",
       "hosp_beds        164.0             3.012671                  0.1   \n",
       "\n",
       "                                 25%                  50%  \\\n",
       "lastdate         2020-06-01 00:00:00  2020-06-01 00:00:00   \n",
       "total_cases                   175.75               1242.5   \n",
       "total_deaths                     4.0                 25.5   \n",
       "total_cases_pm                96.785              281.997   \n",
       "total_deaths_pm                0.893                6.214   \n",
       "population                 1031042.5            6909866.0   \n",
       "pop_density                   37.416                87.25   \n",
       "median_age                     22.25                30.25   \n",
       "gdp_per_capita              4485.329           13183.0815   \n",
       "hosp_beds                        1.3               2.3585   \n",
       "\n",
       "                                 75%                  max               std  \n",
       "lastdate         2020-06-01 00:00:00  2020-06-01 00:00:00               NaN  \n",
       "total_cases                  10117.0            1790191.0     136397.804441  \n",
       "total_deaths                  241.25             104383.0       8705.565857  \n",
       "total_cases_pm              1803.318            19771.348       2629.894101  \n",
       "total_deaths_pm               32.158             1237.551        145.081876  \n",
       "population                26158676.5         1439323774.0  142509205.134503  \n",
       "pop_density                  214.122              19347.5       1581.438294  \n",
       "median_age                      39.0                 48.2          9.133152  \n",
       "gdp_per_capita           28556.52725             116935.6      19862.354091  \n",
       "hosp_beds                    3.89575                 13.8          2.464917  "
      ]
     },
     "execution_count": 21,
     "metadata": {},
     "output_type": "execute_result"
    }
   ],
   "source": [
    "df.describe().T"
   ]
  },
  {
   "cell_type": "raw",
   "id": "863beb19-4685-41b2-a5ca-c2ae9269c18c",
   "metadata": {},
   "source": [
    "Observation:\n",
    "\n",
    "Mean is much higher than the median- means the data is skewed to the right\n",
    "This means there are outliers in the data\n"
   ]
  },
  {
   "cell_type": "code",
   "execution_count": null,
   "id": "a29e9537-92bb-4d10-9442-c9efd785e60a",
   "metadata": {},
   "outputs": [],
   "source": []
  },
  {
   "cell_type": "markdown",
   "id": "84bb6d60-8f2e-494f-9779-89fc8125bd50",
   "metadata": {},
   "source": [
    "## Get the quantile distribution data"
   ]
  },
  {
   "cell_type": "code",
   "execution_count": 44,
   "id": "bd177c28-5bb7-4c3d-a082-defd07f7a603",
   "metadata": {},
   "outputs": [
    {
     "data": {
      "text/html": [
       "<div>\n",
       "<style scoped>\n",
       "    .dataframe tbody tr th:only-of-type {\n",
       "        vertical-align: middle;\n",
       "    }\n",
       "\n",
       "    .dataframe tbody tr th {\n",
       "        vertical-align: top;\n",
       "    }\n",
       "\n",
       "    .dataframe thead th {\n",
       "        text-align: right;\n",
       "    }\n",
       "</style>\n",
       "<table border=\"1\" class=\"dataframe\">\n",
       "  <thead>\n",
       "    <tr style=\"text-align: right;\">\n",
       "      <th></th>\n",
       "      <th>total_cases</th>\n",
       "      <th>total_deaths</th>\n",
       "      <th>total_cases_pm</th>\n",
       "      <th>total_deaths_pm</th>\n",
       "    </tr>\n",
       "  </thead>\n",
       "  <tbody>\n",
       "    <tr>\n",
       "      <th>0.0</th>\n",
       "      <td>0.0</td>\n",
       "      <td>0.0</td>\n",
       "      <td>0.8940</td>\n",
       "      <td>0.0000</td>\n",
       "    </tr>\n",
       "    <tr>\n",
       "      <th>0.1</th>\n",
       "      <td>22.9</td>\n",
       "      <td>0.0</td>\n",
       "      <td>18.4870</td>\n",
       "      <td>0.0000</td>\n",
       "    </tr>\n",
       "    <tr>\n",
       "      <th>0.2</th>\n",
       "      <td>105.2</td>\n",
       "      <td>2.0</td>\n",
       "      <td>56.7386</td>\n",
       "      <td>0.4008</td>\n",
       "    </tr>\n",
       "    <tr>\n",
       "      <th>0.3</th>\n",
       "      <td>302.0</td>\n",
       "      <td>6.7</td>\n",
       "      <td>118.2282</td>\n",
       "      <td>1.7348</td>\n",
       "    </tr>\n",
       "    <tr>\n",
       "      <th>0.4</th>\n",
       "      <td>762.0</td>\n",
       "      <td>12.0</td>\n",
       "      <td>214.9182</td>\n",
       "      <td>3.9734</td>\n",
       "    </tr>\n",
       "    <tr>\n",
       "      <th>0.5</th>\n",
       "      <td>1242.5</td>\n",
       "      <td>25.5</td>\n",
       "      <td>281.9970</td>\n",
       "      <td>6.2140</td>\n",
       "    </tr>\n",
       "    <tr>\n",
       "      <th>0.6</th>\n",
       "      <td>2514.6</td>\n",
       "      <td>54.6</td>\n",
       "      <td>546.0534</td>\n",
       "      <td>12.5644</td>\n",
       "    </tr>\n",
       "    <tr>\n",
       "      <th>0.7</th>\n",
       "      <td>6959.8</td>\n",
       "      <td>137.2</td>\n",
       "      <td>1074.0324</td>\n",
       "      <td>26.0638</td>\n",
       "    </tr>\n",
       "    <tr>\n",
       "      <th>0.8</th>\n",
       "      <td>16847.2</td>\n",
       "      <td>323.2</td>\n",
       "      <td>2208.7374</td>\n",
       "      <td>50.2896</td>\n",
       "    </tr>\n",
       "    <tr>\n",
       "      <th>0.9</th>\n",
       "      <td>46513.1</td>\n",
       "      <td>1616.9</td>\n",
       "      <td>3771.9956</td>\n",
       "      <td>139.5290</td>\n",
       "    </tr>\n",
       "    <tr>\n",
       "      <th>1.0</th>\n",
       "      <td>1790191.0</td>\n",
       "      <td>104383.0</td>\n",
       "      <td>19771.3480</td>\n",
       "      <td>1237.5510</td>\n",
       "    </tr>\n",
       "  </tbody>\n",
       "</table>\n",
       "</div>"
      ],
      "text/plain": [
       "     total_cases  total_deaths  total_cases_pm  total_deaths_pm\n",
       "0.0          0.0           0.0          0.8940           0.0000\n",
       "0.1         22.9           0.0         18.4870           0.0000\n",
       "0.2        105.2           2.0         56.7386           0.4008\n",
       "0.3        302.0           6.7        118.2282           1.7348\n",
       "0.4        762.0          12.0        214.9182           3.9734\n",
       "0.5       1242.5          25.5        281.9970           6.2140\n",
       "0.6       2514.6          54.6        546.0534          12.5644\n",
       "0.7       6959.8         137.2       1074.0324          26.0638\n",
       "0.8      16847.2         323.2       2208.7374          50.2896\n",
       "0.9      46513.1        1616.9       3771.9956         139.5290\n",
       "1.0    1790191.0      104383.0      19771.3480        1237.5510"
      ]
     },
     "execution_count": 44,
     "metadata": {},
     "output_type": "execute_result"
    }
   ],
   "source": [
    "req_vars = ['total_cases', 'total_deaths','total_cases_pm', 'total_deaths_pm']\n",
    "\n",
    "df[req_vars].quantile(np.arange(0,1.1,0.1))"
   ]
  },
  {
   "cell_type": "raw",
   "id": "5971d0a4-a01f-4461-b8b8-aa7f096269ac",
   "metadata": {},
   "source": [
    "Observation:\n",
    "\n",
    "THe gap between 90th percentile and 100th percentile for cases and deaths is substantial.\n",
    "\n",
    "This means the data is not normally distributed. "
   ]
  },
  {
   "cell_type": "markdown",
   "id": "afe3025c-7459-43c7-9e0f-be2ced8d9926",
   "metadata": {},
   "source": [
    "## View the distribution of total cases"
   ]
  },
  {
   "cell_type": "code",
   "execution_count": 41,
   "id": "07f6cdcf-c816-49ef-880c-6eb36a458aeb",
   "metadata": {},
   "outputs": [
    {
     "data": {
      "image/png": "[encoded data removed]",
      "text/plain": [
       "<Figure size 640x480 with 1 Axes>"
      ]
     },
     "metadata": {},
     "output_type": "display_data"
    }
   ],
   "source": [
    "plt.hist(df['total_cases']/1000, bins =10)\n",
    "plt.title(\"Total Covid Cases\")\n",
    "plt.xlabel(\"Cases\")\n",
    "plt.ylabel(\"Number of Countries\")\n",
    "plt.show()"
   ]
  },
  {
   "cell_type": "code",
   "execution_count": null,
   "id": "32407412-4e21-44cd-a85b-2bcaf401cf50",
   "metadata": {},
   "outputs": [],
   "source": []
  }
 ],
 "metadata": {
  "kernelspec": {
   "display_name": "Python 3 (ipykernel)",
   "language": "python",
   "name": "python3"
  },
  "language_info": {
   "codemirror_mode": {
    "name": "ipython",
    "version": 3
   },
   "file_extension": ".py",
   "mimetype": "text/x-python",
   "name": "python",
   "nbconvert_exporter": "python",
   "pygments_lexer": "ipython3",
   "version": "3.12.4"
  }
 },
 "nbformat": 4,
 "nbformat_minor": 5
}
