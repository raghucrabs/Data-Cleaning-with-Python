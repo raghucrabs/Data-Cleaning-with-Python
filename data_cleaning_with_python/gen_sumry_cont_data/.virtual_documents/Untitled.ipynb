


import pandas as pd
import numpy as np
import matplotlib.pyplot as plt





df = pd.read_csv("raw_data/covidtotals.csv",
                parse_dates=['lastdate']) #converts the column into datetime64 format while reading the file



df.shape


df.sample(2, random_state=2).T

















df.dtypes





df.describe().T











req_vars = ['total_cases', 'total_deaths','total_cases_pm', 'total_deaths_pm']

df[req_vars].quantile(np.arange(0,1.1,0.1))








plt.hist(df['total_cases']/1000, bins =10)
plt.title("Total Covid Cases")
plt.xlabel("Cases")
plt.ylabel("Number of Countries")
plt.show()



