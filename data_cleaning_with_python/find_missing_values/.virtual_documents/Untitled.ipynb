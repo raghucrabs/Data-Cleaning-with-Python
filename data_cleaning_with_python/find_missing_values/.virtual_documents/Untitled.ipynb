


import pandas as pd
import numpy as np
import matplotlib.pyplot as plt





df = pd.read_csv("raw_data/covidtotalswithmissings.csv")



df.info()





total_cols = ['location', 'total_cases', 'total_deaths', 'total_cases_pm', 'total_deaths_pm']

dmg_cols = ['population', 'pop_density', 'median_age', 'gdp_per_capita', 'hosp_beds']






df[dmg_cols].isnull().sum()





dmg_cols_miss_count = df[dmg_cols].isnull().sum(axis=1)\

dmg_cols_miss_count





dmg_cols_miss_count.value_counts()








df.loc[dmg_cols_miss_count >=3, ['location'] + dmg_cols].head(5)





df[total_cols].isnull().sum(axis=0)


total_cols_miss_count = df[total_cols].isnull().sum(axis =1)

total_cols_miss_count


total_cols_miss_count.value_counts()





df.loc[total_cols_miss_count>0]





df.total_cases_pm.fillna(df.total_cases/(df.population/1000000), inplace = True)

df.total_deaths_pm.fillna(df.total_deaths/(df.population/1000000), inplace = True)



df[total_cols].isnull().sum(axis =0)



