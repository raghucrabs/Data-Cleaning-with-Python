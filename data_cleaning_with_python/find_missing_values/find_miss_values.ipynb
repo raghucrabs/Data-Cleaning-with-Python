{
 "cells": [
  {
   "cell_type": "markdown",
   "id": "ef46b2f7-ab32-46e9-9d78-4e49aba16734",
   "metadata": {},
   "source": [
    "## Import the libraries"
   ]
  },
  {
   "cell_type": "code",
   "execution_count": 3,
   "id": "ec1505d4-4463-4b4c-b4ba-dc5ed73f4750",
   "metadata": {},
   "outputs": [],
   "source": [
    "import pandas as pd\n",
    "import numpy as np\n",
    "import matplotlib.pyplot as plt"
   ]
  },
  {
   "cell_type": "markdown",
   "id": "3bb56eda-bf6b-4f79-a0b9-8156bb665f9e",
   "metadata": {},
   "source": [
    "## Load the data"
   ]
  },
  {
   "cell_type": "code",
   "execution_count": 6,
   "id": "f4b4faa0-f68c-4be6-8324-656844fd9971",
   "metadata": {},
   "outputs": [],
   "source": [
    "df = pd.read_csv(\"raw_data/covidtotalswithmissings.csv\")\n"
   ]
  },
  {
   "cell_type": "code",
   "execution_count": 9,
   "id": "584c7257-31f7-4324-86b4-38d0dfb62060",
   "metadata": {},
   "outputs": [
    {
     "name": "stdout",
     "output_type": "stream",
     "text": [
      "<class 'pandas.core.frame.DataFrame'>\n",
      "RangeIndex: 210 entries, 0 to 209\n",
      "Data columns (total 12 columns):\n",
      " #   Column           Non-Null Count  Dtype  \n",
      "---  ------           --------------  -----  \n",
      " 0   iso_code         210 non-null    object \n",
      " 1   lastdate         210 non-null    object \n",
      " 2   location         210 non-null    object \n",
      " 3   total_cases      210 non-null    int64  \n",
      " 4   total_deaths     210 non-null    int64  \n",
      " 5   total_cases_pm   209 non-null    float64\n",
      " 6   total_deaths_pm  209 non-null    float64\n",
      " 7   population       210 non-null    float64\n",
      " 8   pop_density      198 non-null    float64\n",
      " 9   median_age       186 non-null    float64\n",
      " 10  gdp_per_capita   182 non-null    float64\n",
      " 11  hosp_beds        164 non-null    float64\n",
      "dtypes: float64(7), int64(2), object(3)\n",
      "memory usage: 19.8+ KB\n"
     ]
    }
   ],
   "source": [
    "df.info()"
   ]
  },
  {
   "cell_type": "markdown",
   "id": "7bc8f8bf-7c11-4a84-910b-c56eb81ac815",
   "metadata": {},
   "source": [
    "## Create two lists for total related columns and demographic related columns"
   ]
  },
  {
   "cell_type": "code",
   "execution_count": 11,
   "id": "843b7713-b821-4124-af2c-ae5ddc9a98d5",
   "metadata": {},
   "outputs": [],
   "source": [
    "total_cols = ['location', 'total_cases', 'total_deaths', 'total_cases_pm', 'total_deaths_pm']\n",
    "\n",
    "dmg_cols = ['population', 'pop_density', 'median_age', 'gdp_per_capita', 'hosp_beds']\n"
   ]
  },
  {
   "cell_type": "markdown",
   "id": "ffae0924-190d-4a18-a1ae-1deb85313314",
   "metadata": {},
   "source": [
    "## Find missing values in demographic data"
   ]
  },
  {
   "cell_type": "code",
   "execution_count": 15,
   "id": "a95e47e0-573d-4ca4-bad4-f34effa00aa2",
   "metadata": {},
   "outputs": [
    {
     "data": {
      "text/plain": [
       "population         0\n",
       "pop_density       12\n",
       "median_age        24\n",
       "gdp_per_capita    28\n",
       "hosp_beds         46\n",
       "dtype: int64"
      ]
     },
     "execution_count": 15,
     "metadata": {},
     "output_type": "execute_result"
    }
   ],
   "source": [
    "df[dmg_cols].isnull().sum()"
   ]
  },
  {
   "cell_type": "markdown",
   "id": "8f9eb3a9-6f36-4983-ba4a-fdce4989feb2",
   "metadata": {},
   "source": [
    "## Set the axis=1 to get the number of demographic variables that are missing for each country (Missing values accross rows)"
   ]
  },
  {
   "cell_type": "code",
   "execution_count": 30,
   "id": "e41f205b-380c-4c4d-aa37-85c72793fa99",
   "metadata": {},
   "outputs": [
    {
     "data": {
      "text/plain": [
       "0      0\n",
       "1      0\n",
       "2      0\n",
       "3      3\n",
       "4      1\n",
       "      ..\n",
       "205    0\n",
       "206    3\n",
       "207    0\n",
       "208    0\n",
       "209    0\n",
       "Length: 210, dtype: int64"
      ]
     },
     "execution_count": 30,
     "metadata": {},
     "output_type": "execute_result"
    }
   ],
   "source": [
    "dmg_cols_miss_count = df[dmg_cols].isnull().sum(axis=1)\\\n",
    "\n",
    "dmg_cols_miss_count"
   ]
  },
  {
   "cell_type": "markdown",
   "id": "104c305c-190d-4f28-92f2-246e2e2bcbe0",
   "metadata": {},
   "source": [
    "## Get the value counts for the dmg columns"
   ]
  },
  {
   "cell_type": "code",
   "execution_count": 25,
   "id": "10811c26-c8ea-4cc2-b6c3-0a585b9d8c18",
   "metadata": {},
   "outputs": [
    {
     "data": {
      "text/plain": [
       "0    156\n",
       "1     24\n",
       "2     12\n",
       "3     10\n",
       "4      8\n",
       "Name: count, dtype: int64"
      ]
     },
     "execution_count": 25,
     "metadata": {},
     "output_type": "execute_result"
    }
   ],
   "source": [
    "dmg_cols_miss_count.value_counts()"
   ]
  },
  {
   "cell_type": "raw",
   "id": "78dd8cc5-cb2f-4646-8c5b-67cf01973e20",
   "metadata": {},
   "source": [
    "Meaning:\n",
    "\n",
    "12 countries have 2 dmg values (out of 5) missing accross the rows\n",
    "10 countries have 3 dmg values (out of 5) missing accross the rows\n",
    "8 countries have 4 dmg values (out of 5) missing accorss the rows"
   ]
  },
  {
   "cell_type": "markdown",
   "id": "2402cfaf-fab8-4158-ba82-4c90b50cb0e9",
   "metadata": {},
   "source": [
    "## List the countries with 3 or more missing values for the demographic columns"
   ]
  },
  {
   "cell_type": "code",
   "execution_count": 28,
   "id": "aaf0857c-2ce4-44b4-a085-51ac2100d7e1",
   "metadata": {},
   "outputs": [
    {
     "data": {
      "text/html": [
       "<div>\n",
       "<style scoped>\n",
       "    .dataframe tbody tr th:only-of-type {\n",
       "        vertical-align: middle;\n",
       "    }\n",
       "\n",
       "    .dataframe tbody tr th {\n",
       "        vertical-align: top;\n",
       "    }\n",
       "\n",
       "    .dataframe thead th {\n",
       "        text-align: right;\n",
       "    }\n",
       "</style>\n",
       "<table border=\"1\" class=\"dataframe\">\n",
       "  <thead>\n",
       "    <tr style=\"text-align: right;\">\n",
       "      <th></th>\n",
       "      <th>location</th>\n",
       "      <th>population</th>\n",
       "      <th>pop_density</th>\n",
       "      <th>median_age</th>\n",
       "      <th>gdp_per_capita</th>\n",
       "      <th>hosp_beds</th>\n",
       "    </tr>\n",
       "  </thead>\n",
       "  <tbody>\n",
       "    <tr>\n",
       "      <th>3</th>\n",
       "      <td>Andorra</td>\n",
       "      <td>77265.0</td>\n",
       "      <td>163.755</td>\n",
       "      <td>NaN</td>\n",
       "      <td>NaN</td>\n",
       "      <td>NaN</td>\n",
       "    </tr>\n",
       "    <tr>\n",
       "      <th>5</th>\n",
       "      <td>Anguilla</td>\n",
       "      <td>15002.0</td>\n",
       "      <td>NaN</td>\n",
       "      <td>NaN</td>\n",
       "      <td>NaN</td>\n",
       "      <td>NaN</td>\n",
       "    </tr>\n",
       "    <tr>\n",
       "      <th>24</th>\n",
       "      <td>Bonaire Sint Eustatius and Saba</td>\n",
       "      <td>26221.0</td>\n",
       "      <td>NaN</td>\n",
       "      <td>NaN</td>\n",
       "      <td>NaN</td>\n",
       "      <td>NaN</td>\n",
       "    </tr>\n",
       "    <tr>\n",
       "      <th>28</th>\n",
       "      <td>British Virgin Islands</td>\n",
       "      <td>30237.0</td>\n",
       "      <td>207.973</td>\n",
       "      <td>NaN</td>\n",
       "      <td>NaN</td>\n",
       "      <td>NaN</td>\n",
       "    </tr>\n",
       "    <tr>\n",
       "      <th>64</th>\n",
       "      <td>Faeroe Islands</td>\n",
       "      <td>48865.0</td>\n",
       "      <td>35.308</td>\n",
       "      <td>NaN</td>\n",
       "      <td>NaN</td>\n",
       "      <td>NaN</td>\n",
       "    </tr>\n",
       "  </tbody>\n",
       "</table>\n",
       "</div>"
      ],
      "text/plain": [
       "                           location  population  pop_density  median_age  \\\n",
       "3                           Andorra     77265.0      163.755         NaN   \n",
       "5                          Anguilla     15002.0          NaN         NaN   \n",
       "24  Bonaire Sint Eustatius and Saba     26221.0          NaN         NaN   \n",
       "28           British Virgin Islands     30237.0      207.973         NaN   \n",
       "64                   Faeroe Islands     48865.0       35.308         NaN   \n",
       "\n",
       "    gdp_per_capita  hosp_beds  \n",
       "3              NaN        NaN  \n",
       "5              NaN        NaN  \n",
       "24             NaN        NaN  \n",
       "28             NaN        NaN  \n",
       "64             NaN        NaN  "
      ]
     },
     "execution_count": 28,
     "metadata": {},
     "output_type": "execute_result"
    }
   ],
   "source": [
    "df.loc[dmg_cols_miss_count >=3, ['location'] + dmg_cols].head(5)"
   ]
  },
  {
   "cell_type": "markdown",
   "id": "4a13cf3d-11b8-49dc-a796-ccc288f887a3",
   "metadata": {},
   "source": [
    "## Check Covid Case data (total_cols) for missing values"
   ]
  },
  {
   "cell_type": "code",
   "execution_count": 34,
   "id": "4ec6ecb7-e49e-46aa-8939-ee62c54a39dd",
   "metadata": {},
   "outputs": [
    {
     "data": {
      "text/plain": [
       "location           0\n",
       "total_cases        0\n",
       "total_deaths       0\n",
       "total_cases_pm     1\n",
       "total_deaths_pm    1\n",
       "dtype: int64"
      ]
     },
     "execution_count": 34,
     "metadata": {},
     "output_type": "execute_result"
    }
   ],
   "source": [
    "df[total_cols].isnull().sum(axis=0)"
   ]
  },
  {
   "cell_type": "code",
   "execution_count": 36,
   "id": "6a8dc8a1-9655-423b-bcee-e9a372460c84",
   "metadata": {},
   "outputs": [
    {
     "data": {
      "text/plain": [
       "0      0\n",
       "1      0\n",
       "2      0\n",
       "3      0\n",
       "4      0\n",
       "      ..\n",
       "205    0\n",
       "206    0\n",
       "207    0\n",
       "208    0\n",
       "209    0\n",
       "Length: 210, dtype: int64"
      ]
     },
     "execution_count": 36,
     "metadata": {},
     "output_type": "execute_result"
    }
   ],
   "source": [
    "total_cols_miss_count = df[total_cols].isnull().sum(axis =1)\n",
    "\n",
    "total_cols_miss_count"
   ]
  },
  {
   "cell_type": "code",
   "execution_count": 38,
   "id": "f87c056e-1dbf-42c3-b4e4-5a6b483807a2",
   "metadata": {},
   "outputs": [
    {
     "data": {
      "text/plain": [
       "0    209\n",
       "2      1\n",
       "Name: count, dtype: int64"
      ]
     },
     "execution_count": 38,
     "metadata": {},
     "output_type": "execute_result"
    }
   ],
   "source": [
    "total_cols_miss_count.value_counts()"
   ]
  },
  {
   "cell_type": "raw",
   "id": "21008f5e-b349-4484-a345-13bbfe3efa0d",
   "metadata": {},
   "source": [
    "Meaning:\n",
    "\n",
    "There is 1 country which has 2 columns(out of 5 columns) with missing values"
   ]
  },
  {
   "cell_type": "code",
   "execution_count": 41,
   "id": "b9a49cd1-ba00-4d71-be87-908a6e9d4125",
   "metadata": {},
   "outputs": [
    {
     "data": {
      "text/html": [
       "<div>\n",
       "<style scoped>\n",
       "    .dataframe tbody tr th:only-of-type {\n",
       "        vertical-align: middle;\n",
       "    }\n",
       "\n",
       "    .dataframe tbody tr th {\n",
       "        vertical-align: top;\n",
       "    }\n",
       "\n",
       "    .dataframe thead th {\n",
       "        text-align: right;\n",
       "    }\n",
       "</style>\n",
       "<table border=\"1\" class=\"dataframe\">\n",
       "  <thead>\n",
       "    <tr style=\"text-align: right;\">\n",
       "      <th></th>\n",
       "      <th>iso_code</th>\n",
       "      <th>lastdate</th>\n",
       "      <th>location</th>\n",
       "      <th>total_cases</th>\n",
       "      <th>total_deaths</th>\n",
       "      <th>total_cases_pm</th>\n",
       "      <th>total_deaths_pm</th>\n",
       "      <th>population</th>\n",
       "      <th>pop_density</th>\n",
       "      <th>median_age</th>\n",
       "      <th>gdp_per_capita</th>\n",
       "      <th>hosp_beds</th>\n",
       "    </tr>\n",
       "  </thead>\n",
       "  <tbody>\n",
       "    <tr>\n",
       "      <th>87</th>\n",
       "      <td>HKG</td>\n",
       "      <td>2020-05-26</td>\n",
       "      <td>Hong Kong</td>\n",
       "      <td>0</td>\n",
       "      <td>0</td>\n",
       "      <td>NaN</td>\n",
       "      <td>NaN</td>\n",
       "      <td>7496988.0</td>\n",
       "      <td>7039.714</td>\n",
       "      <td>44.8</td>\n",
       "      <td>56054.92</td>\n",
       "      <td>NaN</td>\n",
       "    </tr>\n",
       "  </tbody>\n",
       "</table>\n",
       "</div>"
      ],
      "text/plain": [
       "   iso_code    lastdate   location  total_cases  total_deaths  total_cases_pm  \\\n",
       "87      HKG  2020-05-26  Hong Kong            0             0             NaN   \n",
       "\n",
       "    total_deaths_pm  population  pop_density  median_age  gdp_per_capita  \\\n",
       "87              NaN   7496988.0     7039.714        44.8        56054.92   \n",
       "\n",
       "    hosp_beds  \n",
       "87        NaN  "
      ]
     },
     "execution_count": 41,
     "metadata": {},
     "output_type": "execute_result"
    }
   ],
   "source": [
    "df.loc[total_cols_miss_count>0]"
   ]
  },
  {
   "cell_type": "markdown",
   "id": "22b0673a-2709-4621-b456-82bbde23c008",
   "metadata": {},
   "source": [
    "## Fixing the missing values with fillna() method"
   ]
  },
  {
   "cell_type": "code",
   "execution_count": 44,
   "id": "f2037174-d483-4caa-a937-01f6822e9fc8",
   "metadata": {},
   "outputs": [
    {
     "name": "stderr",
     "output_type": "stream",
     "text": [
      "/var/folders/ns/2_tv7tds1cd8rv7flp1l_2b80000gp/T/ipykernel_66005/64932708.py:1: FutureWarning: A value is trying to be set on a copy of a DataFrame or Series through chained assignment using an inplace method.\n",
      "The behavior will change in pandas 3.0. This inplace method will never work because the intermediate object on which we are setting values always behaves as a copy.\n",
      "\n",
      "For example, when doing 'df[col].method(value, inplace=True)', try using 'df.method({col: value}, inplace=True)' or df[col] = df[col].method(value) instead, to perform the operation inplace on the original object.\n",
      "\n",
      "\n",
      "  df.total_cases_pm.fillna(df.total_cases/(df.population/1000000), inplace = True)\n"
     ]
    }
   ],
   "source": [
    "df.total_cases_pm.fillna(df.total_cases/(df.population/1000000), inplace = True)\n",
    "\n",
    "df.total_deaths_pm.fillna(df.total_deaths/(df.population/1000000), inplace = True)\n"
   ]
  },
  {
   "cell_type": "code",
   "execution_count": 48,
   "id": "6c15a258-3543-43e1-9a85-7f2a002356d0",
   "metadata": {},
   "outputs": [
    {
     "data": {
      "text/plain": [
       "location           0\n",
       "total_cases        0\n",
       "total_deaths       0\n",
       "total_cases_pm     0\n",
       "total_deaths_pm    0\n",
       "dtype: int64"
      ]
     },
     "execution_count": 48,
     "metadata": {},
     "output_type": "execute_result"
    }
   ],
   "source": [
    "df[total_cols].isnull().sum(axis =0)"
   ]
  },
  {
   "cell_type": "code",
   "execution_count": null,
   "id": "0dea8885-6db3-4c6d-afab-6a3c546fe910",
   "metadata": {},
   "outputs": [],
   "source": []
  }
 ],
 "metadata": {
  "kernelspec": {
   "display_name": "Python 3 (ipykernel)",
   "language": "python",
   "name": "python3"
  },
  "language_info": {
   "codemirror_mode": {
    "name": "ipython",
    "version": 3
   },
   "file_extension": ".py",
   "mimetype": "text/x-python",
   "name": "python",
   "nbconvert_exporter": "python",
   "pygments_lexer": "ipython3",
   "version": "3.12.4"
  }
 },
 "nbformat": 4,
 "nbformat_minor": 5
}
