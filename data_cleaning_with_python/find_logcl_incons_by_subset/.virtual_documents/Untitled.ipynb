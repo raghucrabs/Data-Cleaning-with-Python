


import numpy as np
import pandas as pd





df = pd.read_csv("raw_data/nls97.csv")


df.set_index("personid", inplace = True)


df.columns





df[['wageincome', 'highestgradecompleted', 'highestdegree']].head(3)





df.loc[:,"weeksworked12":"weeksworked17"].head(3)





df.loc[:,"colenroct09":"colenroct14"].head(3)





df.loc[(df.weeksworked16 ==0) & (df.wageincome) >0, ['weeksworked16', 'wageincome']]





df.colenroct14.unique()





df.filter(like = 'colenr').apply(lambda x:x.str[0:1]=='3').head(4).T


df.filter(like = 'colenr').apply(lambda x: x.str[0:1] =='3').any(axis =1).head(2)





df.colenroct14.unique()


no_bachelors = df.loc[df.filter(like = 'colenr').apply(lambda x: x.str[0:1] == '4').\
               any(axis =1) & \
                ~df.filter(like = 'colenr').apply(lambda x: x.str[0:1] == '3').any(axis =1),\
                "colenrfeb97":"colenroct17"]


len(no_bachelors)


df.highestdegree.value_counts()


no_bachelors.head(2).T


df.highestdegree.value_counts()





no_4_year_enrolment = df.loc[df.highestdegree.str[0:1].isin(['4','5','6','7']) & \
                      ~df.filter(like = 'colenr').apply(lambda x: x.str[0:1] =='3').any(axis=1), \
                      "colenrfeb97":"colenroct17"]


len(no_4_year_enrolment)





highwages = df.loc[df.wageincome > df.wageincome.mean() +(df.wageincome.std() *3), ['wageincome']]


highwages.head(3)





workchanges = df.loc[~df.loc[:,"weeksworked12":"weeksworked16"].mean(axis =1).between(df.weeksworked17 * 0.5, df.weeksworked17*2)\
            & ~df.weeksworked17.isnull(),"weeksworked12":"weeksworked17"]





len(workchanges)


workchanges.sample(3).T





df.highestgradecompleted.value_counts()


df.highestdegree.value_counts()


less_than_12 = df.loc[df.highestgradecompleted <12, ["highestgradecompleted", "highestdegree"]]





pd.crosstab(less_than_12.highestgradecompleted, less_than_12.highestdegree)



