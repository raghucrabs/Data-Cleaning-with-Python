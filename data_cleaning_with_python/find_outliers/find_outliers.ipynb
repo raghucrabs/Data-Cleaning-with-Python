{
 "cells": [
  {
   "cell_type": "markdown",
   "id": "f98bf2d1-57ce-45fb-941c-1db9fb17c865",
   "metadata": {},
   "source": [
    "## Install libraries for statmodels and scipy"
   ]
  },
  {
   "cell_type": "code",
   "execution_count": 3,
   "id": "584a2e34-038d-4025-a646-db0216cfdb50",
   "metadata": {},
   "outputs": [
    {
     "name": "stdout",
     "output_type": "stream",
     "text": [
      "Requirement already satisfied: statsmodels in /opt/anaconda3/lib/python3.12/site-packages (0.14.2)\n",
      "Requirement already satisfied: scipy in /opt/anaconda3/lib/python3.12/site-packages (1.13.1)\n",
      "Requirement already satisfied: numpy>=1.22.3 in /opt/anaconda3/lib/python3.12/site-packages (from statsmodels) (1.26.4)\n",
      "Requirement already satisfied: pandas!=2.1.0,>=1.4 in /opt/anaconda3/lib/python3.12/site-packages (from statsmodels) (2.2.2)\n",
      "Requirement already satisfied: patsy>=0.5.6 in /opt/anaconda3/lib/python3.12/site-packages (from statsmodels) (0.5.6)\n",
      "Requirement already satisfied: packaging>=21.3 in /opt/anaconda3/lib/python3.12/site-packages (from statsmodels) (23.2)\n",
      "Requirement already satisfied: python-dateutil>=2.8.2 in /opt/anaconda3/lib/python3.12/site-packages (from pandas!=2.1.0,>=1.4->statsmodels) (2.9.0.post0)\n",
      "Requirement already satisfied: pytz>=2020.1 in /opt/anaconda3/lib/python3.12/site-packages (from pandas!=2.1.0,>=1.4->statsmodels) (2024.1)\n",
      "Requirement already satisfied: tzdata>=2022.7 in /opt/anaconda3/lib/python3.12/site-packages (from pandas!=2.1.0,>=1.4->statsmodels) (2023.3)\n",
      "Requirement already satisfied: six in /opt/anaconda3/lib/python3.12/site-packages (from patsy>=0.5.6->statsmodels) (1.16.0)\n"
     ]
    }
   ],
   "source": [
    "! pip install statsmodels scipy"
   ]
  },
  {
   "cell_type": "markdown",
   "id": "6b01ff5e-be30-4745-84f4-78bced9af8d7",
   "metadata": {},
   "source": [
    "## Import the libraries"
   ]
  },
  {
   "cell_type": "code",
   "execution_count": 25,
   "id": "c80a30cb-b935-4b7f-bd3e-8417de150913",
   "metadata": {},
   "outputs": [],
   "source": [
    "import pandas as pd\n",
    "import numpy as np\n",
    "import matplotlib.pyplot as plt\n",
    "import statsmodels.api as sm\n",
    "import scipy.stats as scistat"
   ]
  },
  {
   "cell_type": "code",
   "execution_count": 27,
   "id": "816caa91-e781-4d8e-8fc0-780e18e64032",
   "metadata": {},
   "outputs": [],
   "source": [
    "df = pd.read_csv(\"raw_data/covidtotals.csv\")\n"
   ]
  },
  {
   "cell_type": "code",
   "execution_count": 29,
   "id": "a30b4fa3-f21a-49f3-bc6a-9179b11ff426",
   "metadata": {},
   "outputs": [
    {
     "data": {
      "text/html": [
       "<div>\n",
       "<style scoped>\n",
       "    .dataframe tbody tr th:only-of-type {\n",
       "        vertical-align: middle;\n",
       "    }\n",
       "\n",
       "    .dataframe tbody tr th {\n",
       "        vertical-align: top;\n",
       "    }\n",
       "\n",
       "    .dataframe thead th {\n",
       "        text-align: right;\n",
       "    }\n",
       "</style>\n",
       "<table border=\"1\" class=\"dataframe\">\n",
       "  <thead>\n",
       "    <tr style=\"text-align: right;\">\n",
       "      <th></th>\n",
       "      <th>iso_code</th>\n",
       "      <th>lastdate</th>\n",
       "      <th>location</th>\n",
       "      <th>total_cases</th>\n",
       "      <th>total_deaths</th>\n",
       "      <th>total_cases_pm</th>\n",
       "      <th>total_deaths_pm</th>\n",
       "      <th>population</th>\n",
       "      <th>pop_density</th>\n",
       "      <th>median_age</th>\n",
       "      <th>gdp_per_capita</th>\n",
       "      <th>hosp_beds</th>\n",
       "    </tr>\n",
       "  </thead>\n",
       "  <tbody>\n",
       "    <tr>\n",
       "      <th>0</th>\n",
       "      <td>AFG</td>\n",
       "      <td>2020-06-01</td>\n",
       "      <td>Afghanistan</td>\n",
       "      <td>15205</td>\n",
       "      <td>257</td>\n",
       "      <td>390.589</td>\n",
       "      <td>6.602</td>\n",
       "      <td>38928341.0</td>\n",
       "      <td>54.422</td>\n",
       "      <td>18.6</td>\n",
       "      <td>1803.987</td>\n",
       "      <td>0.50</td>\n",
       "    </tr>\n",
       "    <tr>\n",
       "      <th>1</th>\n",
       "      <td>ALB</td>\n",
       "      <td>2020-06-01</td>\n",
       "      <td>Albania</td>\n",
       "      <td>1137</td>\n",
       "      <td>33</td>\n",
       "      <td>395.093</td>\n",
       "      <td>11.467</td>\n",
       "      <td>2877800.0</td>\n",
       "      <td>104.871</td>\n",
       "      <td>38.0</td>\n",
       "      <td>11803.431</td>\n",
       "      <td>2.89</td>\n",
       "    </tr>\n",
       "  </tbody>\n",
       "</table>\n",
       "</div>"
      ],
      "text/plain": [
       "  iso_code    lastdate     location  total_cases  total_deaths  \\\n",
       "0      AFG  2020-06-01  Afghanistan        15205           257   \n",
       "1      ALB  2020-06-01      Albania         1137            33   \n",
       "\n",
       "   total_cases_pm  total_deaths_pm  population  pop_density  median_age  \\\n",
       "0         390.589            6.602  38928341.0       54.422        18.6   \n",
       "1         395.093           11.467   2877800.0      104.871        38.0   \n",
       "\n",
       "   gdp_per_capita  hosp_beds  \n",
       "0        1803.987       0.50  \n",
       "1       11803.431       2.89  "
      ]
     },
     "execution_count": 29,
     "metadata": {},
     "output_type": "execute_result"
    }
   ],
   "source": [
    "df.head(2)"
   ]
  },
  {
   "cell_type": "code",
   "execution_count": 31,
   "id": "41161e2f-dfd1-48ee-b4e2-6e73db897c0b",
   "metadata": {},
   "outputs": [],
   "source": [
    "df.set_index('iso_code', inplace = True)"
   ]
  },
  {
   "cell_type": "code",
   "execution_count": 33,
   "id": "fe57d514-f554-4172-a31f-2fb4b7bfb586",
   "metadata": {},
   "outputs": [],
   "source": [
    "total_cols = ['location', 'total_cases', 'total_deaths', 'total_cases_pm', 'total_deaths_pm']\n",
    "\n",
    "dmg_cols = ['population', 'pop_density', 'median_age', 'gdp_per_capita', 'hosp_beds']"
   ]
  },
  {
   "cell_type": "markdown",
   "id": "3095ce58-4f64-4554-bb74-210449575439",
   "metadata": {},
   "source": [
    "## Get the descriptive statistics for Covid Case Data"
   ]
  },
  {
   "cell_type": "code",
   "execution_count": 36,
   "id": "f97f8d34-1f97-4e6b-aaca-7983fde178e7",
   "metadata": {},
   "outputs": [
    {
     "data": {
      "text/html": [
       "<div>\n",
       "<style scoped>\n",
       "    .dataframe tbody tr th:only-of-type {\n",
       "        vertical-align: middle;\n",
       "    }\n",
       "\n",
       "    .dataframe tbody tr th {\n",
       "        vertical-align: top;\n",
       "    }\n",
       "\n",
       "    .dataframe thead th {\n",
       "        text-align: right;\n",
       "    }\n",
       "</style>\n",
       "<table border=\"1\" class=\"dataframe\">\n",
       "  <thead>\n",
       "    <tr style=\"text-align: right;\">\n",
       "      <th></th>\n",
       "      <th>total_cases</th>\n",
       "      <th>total_deaths</th>\n",
       "      <th>total_cases_pm</th>\n",
       "      <th>total_deaths_pm</th>\n",
       "    </tr>\n",
       "  </thead>\n",
       "  <tbody>\n",
       "    <tr>\n",
       "      <th>count</th>\n",
       "      <td>2.100000e+02</td>\n",
       "      <td>210.000000</td>\n",
       "      <td>210.000000</td>\n",
       "      <td>210.000000</td>\n",
       "    </tr>\n",
       "    <tr>\n",
       "      <th>mean</th>\n",
       "      <td>2.921614e+04</td>\n",
       "      <td>1770.714286</td>\n",
       "      <td>1355.357943</td>\n",
       "      <td>55.659129</td>\n",
       "    </tr>\n",
       "    <tr>\n",
       "      <th>std</th>\n",
       "      <td>1.363978e+05</td>\n",
       "      <td>8705.565857</td>\n",
       "      <td>2625.277497</td>\n",
       "      <td>144.785816</td>\n",
       "    </tr>\n",
       "    <tr>\n",
       "      <th>min</th>\n",
       "      <td>0.000000e+00</td>\n",
       "      <td>0.000000</td>\n",
       "      <td>0.000000</td>\n",
       "      <td>0.000000</td>\n",
       "    </tr>\n",
       "    <tr>\n",
       "      <th>25%</th>\n",
       "      <td>1.757500e+02</td>\n",
       "      <td>4.000000</td>\n",
       "      <td>92.541500</td>\n",
       "      <td>0.884750</td>\n",
       "    </tr>\n",
       "    <tr>\n",
       "      <th>50%</th>\n",
       "      <td>1.242500e+03</td>\n",
       "      <td>25.500000</td>\n",
       "      <td>280.928500</td>\n",
       "      <td>6.154000</td>\n",
       "    </tr>\n",
       "    <tr>\n",
       "      <th>75%</th>\n",
       "      <td>1.011700e+04</td>\n",
       "      <td>241.250000</td>\n",
       "      <td>1801.394750</td>\n",
       "      <td>31.777250</td>\n",
       "    </tr>\n",
       "    <tr>\n",
       "      <th>max</th>\n",
       "      <td>1.790191e+06</td>\n",
       "      <td>104383.000000</td>\n",
       "      <td>19771.348000</td>\n",
       "      <td>1237.551000</td>\n",
       "    </tr>\n",
       "  </tbody>\n",
       "</table>\n",
       "</div>"
      ],
      "text/plain": [
       "        total_cases   total_deaths  total_cases_pm  total_deaths_pm\n",
       "count  2.100000e+02     210.000000      210.000000       210.000000\n",
       "mean   2.921614e+04    1770.714286     1355.357943        55.659129\n",
       "std    1.363978e+05    8705.565857     2625.277497       144.785816\n",
       "min    0.000000e+00       0.000000        0.000000         0.000000\n",
       "25%    1.757500e+02       4.000000       92.541500         0.884750\n",
       "50%    1.242500e+03      25.500000      280.928500         6.154000\n",
       "75%    1.011700e+04     241.250000     1801.394750        31.777250\n",
       "max    1.790191e+06  104383.000000    19771.348000      1237.551000"
      ]
     },
     "execution_count": 36,
     "metadata": {},
     "output_type": "execute_result"
    }
   ],
   "source": [
    "df_totals = df.loc[:,total_cols]\n",
    "\n",
    "df_totals.describe()"
   ]
  },
  {
   "cell_type": "raw",
   "id": "2bd94f88-1168-46e8-9ca4-afcefe437663",
   "metadata": {},
   "source": [
    "Observation:\n",
    "\n",
    "Mean and median are off-set.\n",
    "Mean is much higer than median.\n",
    "This means the distribution is right skewed.\n",
    "There are outliers to the right that dragged the mean"
   ]
  },
  {
   "cell_type": "markdown",
   "id": "a8e33791-b434-455e-b007-cac2fed9de65",
   "metadata": {},
   "source": [
    "## Get more detailed percentile data"
   ]
  },
  {
   "cell_type": "code",
   "execution_count": 45,
   "id": "3b85e77f-5997-4c8c-9c8a-4a158968b048",
   "metadata": {},
   "outputs": [
    {
     "data": {
      "text/html": [
       "<div>\n",
       "<style scoped>\n",
       "    .dataframe tbody tr th:only-of-type {\n",
       "        vertical-align: middle;\n",
       "    }\n",
       "\n",
       "    .dataframe tbody tr th {\n",
       "        vertical-align: top;\n",
       "    }\n",
       "\n",
       "    .dataframe thead th {\n",
       "        text-align: right;\n",
       "    }\n",
       "</style>\n",
       "<table border=\"1\" class=\"dataframe\">\n",
       "  <thead>\n",
       "    <tr style=\"text-align: right;\">\n",
       "      <th></th>\n",
       "      <th>total_cases</th>\n",
       "      <th>total_deaths</th>\n",
       "      <th>total_cases_pm</th>\n",
       "      <th>total_deaths_pm</th>\n",
       "    </tr>\n",
       "  </thead>\n",
       "  <tbody>\n",
       "    <tr>\n",
       "      <th>0.0</th>\n",
       "      <td>0.0</td>\n",
       "      <td>0.0</td>\n",
       "      <td>0.0000</td>\n",
       "      <td>0.0000</td>\n",
       "    </tr>\n",
       "    <tr>\n",
       "      <th>0.1</th>\n",
       "      <td>22.9</td>\n",
       "      <td>0.0</td>\n",
       "      <td>17.9986</td>\n",
       "      <td>0.0000</td>\n",
       "    </tr>\n",
       "    <tr>\n",
       "      <th>0.2</th>\n",
       "      <td>105.2</td>\n",
       "      <td>2.0</td>\n",
       "      <td>56.2910</td>\n",
       "      <td>0.3752</td>\n",
       "    </tr>\n",
       "    <tr>\n",
       "      <th>0.3</th>\n",
       "      <td>302.0</td>\n",
       "      <td>6.7</td>\n",
       "      <td>115.4341</td>\n",
       "      <td>1.7183</td>\n",
       "    </tr>\n",
       "    <tr>\n",
       "      <th>0.4</th>\n",
       "      <td>762.0</td>\n",
       "      <td>12.0</td>\n",
       "      <td>213.9734</td>\n",
       "      <td>3.9566</td>\n",
       "    </tr>\n",
       "    <tr>\n",
       "      <th>0.5</th>\n",
       "      <td>1242.5</td>\n",
       "      <td>25.5</td>\n",
       "      <td>280.9285</td>\n",
       "      <td>6.1540</td>\n",
       "    </tr>\n",
       "    <tr>\n",
       "      <th>0.6</th>\n",
       "      <td>2514.6</td>\n",
       "      <td>54.6</td>\n",
       "      <td>543.9562</td>\n",
       "      <td>12.2452</td>\n",
       "    </tr>\n",
       "    <tr>\n",
       "      <th>0.7</th>\n",
       "      <td>6959.8</td>\n",
       "      <td>137.2</td>\n",
       "      <td>1071.2442</td>\n",
       "      <td>25.9459</td>\n",
       "    </tr>\n",
       "    <tr>\n",
       "      <th>0.8</th>\n",
       "      <td>16847.2</td>\n",
       "      <td>323.2</td>\n",
       "      <td>2206.2982</td>\n",
       "      <td>49.9658</td>\n",
       "    </tr>\n",
       "    <tr>\n",
       "      <th>0.9</th>\n",
       "      <td>46513.1</td>\n",
       "      <td>1616.9</td>\n",
       "      <td>3765.1363</td>\n",
       "      <td>138.9045</td>\n",
       "    </tr>\n",
       "    <tr>\n",
       "      <th>1.0</th>\n",
       "      <td>1790191.0</td>\n",
       "      <td>104383.0</td>\n",
       "      <td>19771.3480</td>\n",
       "      <td>1237.5510</td>\n",
       "    </tr>\n",
       "  </tbody>\n",
       "</table>\n",
       "</div>"
      ],
      "text/plain": [
       "     total_cases  total_deaths  total_cases_pm  total_deaths_pm\n",
       "0.0          0.0           0.0          0.0000           0.0000\n",
       "0.1         22.9           0.0         17.9986           0.0000\n",
       "0.2        105.2           2.0         56.2910           0.3752\n",
       "0.3        302.0           6.7        115.4341           1.7183\n",
       "0.4        762.0          12.0        213.9734           3.9566\n",
       "0.5       1242.5          25.5        280.9285           6.1540\n",
       "0.6       2514.6          54.6        543.9562          12.2452\n",
       "0.7       6959.8         137.2       1071.2442          25.9459\n",
       "0.8      16847.2         323.2       2206.2982          49.9658\n",
       "0.9      46513.1        1616.9       3765.1363         138.9045\n",
       "1.0    1790191.0      104383.0      19771.3480        1237.5510"
      ]
     },
     "execution_count": 45,
     "metadata": {},
     "output_type": "execute_result"
    }
   ],
   "source": [
    "df_totals.select_dtypes(exclude=['object']).quantile(np.arange(0,1.1,0.1))"
   ]
  },
  {
   "cell_type": "markdown",
   "id": "da5c5460-28de-43c0-8389-106bb2b1f1ad",
   "metadata": {},
   "source": [
    "## Show Skewness and Kurtosis"
   ]
  },
  {
   "cell_type": "markdown",
   "id": "37374891-181f-49f3-8965-95b171e0693f",
   "metadata": {},
   "source": [
    "### What is Skewness"
   ]
  },
  {
   "cell_type": "raw",
   "id": "0bb3ae28-57e1-4eff-b7a2-ab15720ef805",
   "metadata": {},
   "source": [
    "Skewness - Skewness is a statistical measure that describes the asymmetry of a distribution. \n",
    "           It indicates whether the data points are skewed to the left (negative skew) or \n",
    "           the right (positive skew) relative to the mean\n",
    "\n",
    "\n",
    "\n",
    "A skewness value of zero indicates a symmetrical distribution, where the tails on both sides of the mean balance out overall. \n",
    "\n",
    "\n",
    "Positive skewness, with a value greater than zero, indicates that the distribution has a longer or fatter tail on the right side, meaning there are more extreme values on the right. \n",
    "\n",
    "Conversely, negative skewness, with a value less than zero, indicates a longer or fatter tail on the left side, suggesting more extreme values on the left."
   ]
  },
  {
   "cell_type": "markdown",
   "id": "85ab808e-ef1e-4a29-992e-aa5d6ed55806",
   "metadata": {},
   "source": [
    "### What is Kurtosis"
   ]
  },
  {
   "cell_type": "markdown",
   "id": "a461839a-b331-44bf-b26d-7d5f2e0c2556",
   "metadata": {},
   "source": [
    "Kurtosis- Kurtosis is a statistical measure that describes the tailedness of a probability distribution, \n",
    "          specifically how the distribution's tails and peak differ from a normal distribution.\n",
    "\n",
    "          \n",
    "It does not measure the peakedness as commonly misunderstood, but rather the degree of tailedness.\n",
    "          \n",
    "          \n",
    "Kurtosis can be categorized into three types: medium-tailed, thin-tailed, and fat-tailed\n",
    "\n",
    "\n",
    "A high kurtosis value, or leptokurtic distribution, signifies that the distribution has heavier tails and more outliers than a normal distribution.\n",
    "\n",
    "Conversely, a low kurtosis value, or platykurtic distribution, indicates lighter tails and fewer outliers.\n",
    "\n",
    "A mesokurtic distribution has kurtosis similar to a normal distribution"
   ]
  },
  {
   "cell_type": "code",
   "execution_count": 52,
   "id": "add83918-49eb-414e-857a-a9cbc36349ae",
   "metadata": {},
   "outputs": [
    {
     "data": {
      "text/plain": [
       "total_cases        10.804275\n",
       "total_deaths        8.929816\n",
       "total_cases_pm      4.396091\n",
       "total_deaths_pm     4.674417\n",
       "dtype: float64"
      ]
     },
     "execution_count": 52,
     "metadata": {},
     "output_type": "execute_result"
    }
   ],
   "source": [
    "df_totals.select_dtypes(include = ['number']).skew()"
   ]
  },
  {
   "cell_type": "code",
   "execution_count": 56,
   "id": "5f8fd54a-a006-4fc8-b22f-a1fb88176fac",
   "metadata": {},
   "outputs": [
    {
     "data": {
      "text/plain": [
       "total_cases        134.979577\n",
       "total_deaths        95.737841\n",
       "total_cases_pm      25.242790\n",
       "total_deaths_pm     27.238232\n",
       "dtype: float64"
      ]
     },
     "execution_count": 56,
     "metadata": {},
     "output_type": "execute_result"
    }
   ],
   "source": [
    "df_totals.select_dtypes(include = ['number']).kurtosis()"
   ]
  },
  {
   "cell_type": "markdown",
   "id": "d33be21f-e524-42c1-b7e3-aa28dddade33",
   "metadata": {},
   "source": [
    "## Test the data for Normality"
   ]
  },
  {
   "cell_type": "markdown",
   "id": "150b11d1-813a-4c34-a2f8-f7e0517bd0c9",
   "metadata": {},
   "source": [
    "### Shapiro-Wilk Test"
   ]
  },
  {
   "cell_type": "raw",
   "id": "2b4a00ed-fc57-4077-81df-b66bda5d5f0e",
   "metadata": {},
   "source": [
    "The null-hypothesis of this test is that the population is normally distributed. \n",
    "\n",
    "If the p value is less than the chosen alpha level(0.05), \n",
    "then the null hypothesis is rejected and there is evidence that the data tested are not normally distributed."
   ]
  },
  {
   "cell_type": "code",
   "execution_count": 62,
   "id": "e514daac-9d8e-48bf-8a38-befa58ba25a4",
   "metadata": {},
   "outputs": [],
   "source": [
    "def testnorm(var,df):\n",
    "    stat,p = scistat.shapiro(df[var])\n",
    "    return p\n",
    "\n"
   ]
  },
  {
   "cell_type": "code",
   "execution_count": 64,
   "id": "6df8faf4-6c21-496b-9875-0f25a0d1a2ad",
   "metadata": {},
   "outputs": [
    {
     "data": {
      "text/plain": [
       "3.753761827331286e-29"
      ]
     },
     "execution_count": 64,
     "metadata": {},
     "output_type": "execute_result"
    }
   ],
   "source": [
    "testnorm(\"total_cases\", df_totals)"
   ]
  },
  {
   "cell_type": "code",
   "execution_count": 66,
   "id": "401ee4b5-feba-4928-b81a-d9b110f286de",
   "metadata": {},
   "outputs": [
    {
     "data": {
      "text/plain": [
       "4.342718923026598e-29"
      ]
     },
     "execution_count": 66,
     "metadata": {},
     "output_type": "execute_result"
    }
   ],
   "source": [
    "testnorm(\"total_deaths\", df_totals)"
   ]
  },
  {
   "cell_type": "code",
   "execution_count": 68,
   "id": "cec572ea-36fc-47a0-8f9d-43f207371592",
   "metadata": {},
   "outputs": [
    {
     "data": {
      "text/plain": [
       "1.3972537080472942e-23"
      ]
     },
     "execution_count": 68,
     "metadata": {},
     "output_type": "execute_result"
    }
   ],
   "source": [
    "testnorm(\"total_cases_pm\", df_totals)"
   ]
  },
  {
   "cell_type": "code",
   "execution_count": 70,
   "id": "e32893ad-3572-4d20-8b01-0ac51c70b5cd",
   "metadata": {},
   "outputs": [
    {
     "data": {
      "text/plain": [
       "1.3610513510647537e-25"
      ]
     },
     "execution_count": 70,
     "metadata": {},
     "output_type": "execute_result"
    }
   ],
   "source": [
    "testnorm(\"total_deaths_pm\", df_totals)"
   ]
  },
  {
   "cell_type": "markdown",
   "id": "0fdd465c-700a-42a4-88cd-5a16d34613a1",
   "metadata": {},
   "source": [
    "## Show normal quantile-quantile plots(Q-Q plot) of total cases and total cases per million\n",
    "\n"
   ]
  },
  {
   "cell_type": "code",
   "execution_count": 77,
   "id": "570171f0-29bc-419c-a672-a642b8765fab",
   "metadata": {},
   "outputs": [
    {
     "data": {
      "text/plain": [
       "Text(0.5, 1.0, 'QQ plot of Total Cases')"
      ]
     },
     "execution_count": 77,
     "metadata": {},
     "output_type": "execute_result"
    },
    {
     "data": {
      "image/png": "[encoded data removed]",
      "text/plain": [
       "<Figure size 640x480 with 1 Axes>"
      ]
     },
     "metadata": {},
     "output_type": "display_data"
    }
   ],
   "source": [
    "sm.qqplot(df_totals[['total_cases']].sort_values(['total_cases']), line = 's')\n",
    "plt.title(\"QQ plot of Total Cases\")"
   ]
  },
  {
   "cell_type": "code",
   "execution_count": 79,
   "id": "12a1deda-0cb6-45f8-8d5f-ec1ddd29083e",
   "metadata": {},
   "outputs": [
    {
     "data": {
      "text/plain": [
       "Text(0.5, 1.0, 'QQ plot of Total Cases per million')"
      ]
     },
     "execution_count": 79,
     "metadata": {},
     "output_type": "execute_result"
    },
    {
     "data": {
      "image/png": "[encoded data removed]",
      "text/plain": [
       "<Figure size 640x480 with 1 Axes>"
      ]
     },
     "metadata": {},
     "output_type": "display_data"
    }
   ],
   "source": [
    "sm.qqplot(df_totals[['total_cases_pm']].sort_values(['total_cases_pm']), line = 's')\n",
    "plt.title(\"QQ plot of Total Cases per million\")"
   ]
  },
  {
   "cell_type": "raw",
   "id": "e1678273-99e3-44b0-9197-241ff1b835ea",
   "metadata": {},
   "source": [
    "Observation:\n",
    "\n",
    "The straight lines show what the distribution is like if it is normal distribution"
   ]
  }
 ],
 "metadata": {
  "kernelspec": {
   "display_name": "Python 3 (ipykernel)",
   "language": "python",
   "name": "python3"
  },
  "language_info": {
   "codemirror_mode": {
    "name": "ipython",
    "version": 3
   },
   "file_extension": ".py",
   "mimetype": "text/x-python",
   "name": "python",
   "nbconvert_exporter": "python",
   "pygments_lexer": "ipython3",
   "version": "3.12.4"
  }
 },
 "nbformat": 4,
 "nbformat_minor": 5
}
