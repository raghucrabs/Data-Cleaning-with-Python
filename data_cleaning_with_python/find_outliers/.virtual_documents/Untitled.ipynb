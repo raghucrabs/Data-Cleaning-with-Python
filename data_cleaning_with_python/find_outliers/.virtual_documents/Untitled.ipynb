


! pip install statsmodels scipy





import pandas as pd
import numpy as np
import matplotlib.pyplot as plt
import statsmodels.api as sm
import scipy.stats as scistat


df = pd.read_csv("raw_data/covidtotals.csv")



df.head(2)


df.set_index('iso_code', inplace = True)


total_cols = ['location', 'total_cases', 'total_deaths', 'total_cases_pm', 'total_deaths_pm']

dmg_cols = ['population', 'pop_density', 'median_age', 'gdp_per_capita', 'hosp_beds']





df_totals = df.loc[:,total_cols]

df_totals.describe()








df_totals.select_dtypes(exclude=['object']).quantile(np.arange(0,1.1,0.1))

















df_totals.select_dtypes(include = ['number']).skew()


df_totals.select_dtypes(include = ['number']).kurtosis()











def testnorm(var,df):
    stat,p = scistat.shapiro(df[var])
    return p




testnorm("total_cases", df_totals)


testnorm("total_deaths", df_totals)


testnorm("total_cases_pm", df_totals)


testnorm("total_deaths_pm", df_totals)





sm.qqplot(df_totals[['total_cases']].sort_values(['total_cases']), line = 's')
plt.title("QQ plot of Total Cases")


sm.qqplot(df_totals[['total_cases_pm']].sort_values(['total_cases_pm']), line = 's')
plt.title("QQ plot of Total Cases per million")



