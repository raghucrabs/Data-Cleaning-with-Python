


import pandas as pd





df = pd.read_csv("raw_data/nls97.csv")





df.set_index("personid", inplace = True)


df.info()





for col in df.select_dtypes(['object']).columns:
    df[col] = df[col].astype('category')


df.info()





cat_cols = df.select_dtypes(include = ["category"]).columns



df[cat_cols].isnull().sum()





df.maritalstatus.value_counts()





df.maritalstatus.value_counts(normalize = True, sort = False)





df.filter(like = "gov").apply(pd.value_counts, normalize = True)





df[df.maritalstatus == 'Married'].filter(like = 'gov').apply(pd.value_counts, normalize = True)





freq_out = open('views/frequencies.txt', 'w')

for col in df.select_dtypes(include = ['category']):
    print (col, "---------------", 
           "frequencies",df[col].value_counts(sort= False), 
           "percentages", 
           df[col].value_counts(normalize = True, sort = False),
           sep = "\n\n",
           end = "\n\n\n",
           file = freq_out)

freq_out.close()



