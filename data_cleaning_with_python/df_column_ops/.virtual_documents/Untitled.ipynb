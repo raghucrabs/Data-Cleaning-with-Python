


import pandas as pd
import numpy as np





df = pd.read_csv("raw_data/nls97.csv")





df.index





df.info()





df.set_index("personid", inplace = True)


df.index





for col in df.select_dtypes(['object']).columns:
    df[col] = df[col].astype('category')


df.info()





gender_data = df['gender']


type(gender_data)





gender_data_as_df = df[['gender']]


type(gender_data_as_df)





gender_data_with_loc = df.loc[:,['gender']]


type(gender_data_with_loc)





gender_data_with_iloc = df.iloc[:,[0]]


gender_data_with_iloc.info()





df_gen_ms_hg_with_loc = df.loc[:,['gender', 'maritalstatus','highestgradecompleted']]
                   


df_gen_ms_hg_with_loc.info()





req_cols = ['gender', 'maritalstatus', 'highestgradecompleted', 'wageincome',\
            'gpaoverall', 'weeksworked17']

df_req = df[req_cols]


df_req.info()





df.columns


work_df = df.filter(like = "weeksworked")


work_df.info()





df.dtypes.value_counts()


#Select all category columns

df_category = df.select_dtypes(include = ["category"])


df_category.info()


# Select all numeric columns

df_numeric = df.select_dtypes(include = ["number"])


df_numeric.info()





df_income = df.filter(regex = "income")


df_income.info()



