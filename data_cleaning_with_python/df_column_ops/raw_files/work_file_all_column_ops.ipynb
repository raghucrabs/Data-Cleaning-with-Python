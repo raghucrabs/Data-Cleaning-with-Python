{
 "cells": [
  {
   "cell_type": "markdown",
   "id": "16906d8d-bba5-4c05-a406-5ac4d6240520",
   "metadata": {},
   "source": [
    "## Import libraries"
   ]
  },
  {
   "cell_type": "code",
   "execution_count": 4,
   "id": "e82b04c9-2f15-425c-8cf9-a46b9729c275",
   "metadata": {},
   "outputs": [],
   "source": [
    "import pandas as pd\n",
    "import numpy as np\n"
   ]
  },
  {
   "cell_type": "markdown",
   "id": "509deeb4-d7f5-4e24-9cfb-7b0b620b9785",
   "metadata": {},
   "source": [
    "## Read the csv data"
   ]
  },
  {
   "cell_type": "code",
   "execution_count": 6,
   "id": "82c46c0b-c4f8-4a12-b9d4-7493ec9042a0",
   "metadata": {},
   "outputs": [],
   "source": [
    "df = pd.read_csv(\"raw_data/nls97.csv\")"
   ]
  },
  {
   "cell_type": "markdown",
   "id": "3c81b5ea-cbc4-4467-bd41-b15b5d8bf6ca",
   "metadata": {},
   "source": [
    "## Check the index"
   ]
  },
  {
   "cell_type": "code",
   "execution_count": 10,
   "id": "c2435dfd-aef0-45c0-8f3c-d9527ac1af36",
   "metadata": {},
   "outputs": [
    {
     "data": {
      "text/plain": [
       "RangeIndex(start=0, stop=8984, step=1)"
      ]
     },
     "execution_count": 10,
     "metadata": {},
     "output_type": "execute_result"
    }
   ],
   "source": [
    "df.index"
   ]
  },
  {
   "cell_type": "markdown",
   "id": "253dbdbe-19bd-4d63-abe6-d5e469a19a8b",
   "metadata": {},
   "source": [
    "## Check the dataframe"
   ]
  },
  {
   "cell_type": "code",
   "execution_count": 17,
   "id": "ee3d19f4-715a-4616-85fa-35b608eb9ff1",
   "metadata": {},
   "outputs": [
    {
     "name": "stdout",
     "output_type": "stream",
     "text": [
      "<class 'pandas.core.frame.DataFrame'>\n",
      "RangeIndex: 8984 entries, 0 to 8983\n",
      "Data columns (total 89 columns):\n",
      " #   Column                 Non-Null Count  Dtype  \n",
      "---  ------                 --------------  -----  \n",
      " 0   personid               8984 non-null   int64  \n",
      " 1   gender                 8984 non-null   object \n",
      " 2   birthmonth             8984 non-null   int64  \n",
      " 3   birthyear              8984 non-null   int64  \n",
      " 4   highestgradecompleted  6663 non-null   float64\n",
      " 5   maritalstatus          6672 non-null   object \n",
      " 6   childathome            4791 non-null   float64\n",
      " 7   childnotathome         4791 non-null   float64\n",
      " 8   wageincome             5091 non-null   float64\n",
      " 9   weeklyhrscomputer      5792 non-null   object \n",
      " 10  weeklyhrstv            6711 non-null   object \n",
      " 11  nightlyhrssleep        6706 non-null   float64\n",
      " 12  satverbal              1406 non-null   float64\n",
      " 13  satmath                1407 non-null   float64\n",
      " 14  gpaoverall             6004 non-null   float64\n",
      " 15  gpaenglish             5798 non-null   float64\n",
      " 16  gpamath                5766 non-null   float64\n",
      " 17  gpascience             5684 non-null   float64\n",
      " 18  highestdegree          8953 non-null   object \n",
      " 19  govprovidejobs         1833 non-null   object \n",
      " 20  govpricecontrols       1859 non-null   object \n",
      " 21  govhealthcare          1874 non-null   object \n",
      " 22  govelderliving         1872 non-null   object \n",
      " 23  govindhelp             1815 non-null   object \n",
      " 24  govunemp               1811 non-null   object \n",
      " 25  govincomediff          1775 non-null   object \n",
      " 26  govcollegefinance      1875 non-null   object \n",
      " 27  govdecenthousing       1847 non-null   object \n",
      " 28  govprotectenvironment  1860 non-null   object \n",
      " 29  weeksworked00          8603 non-null   float64\n",
      " 30  weeksworked01          8564 non-null   float64\n",
      " 31  weeksworked02          8556 non-null   float64\n",
      " 32  weeksworked03          8490 non-null   float64\n",
      " 33  weeksworked04          8458 non-null   float64\n",
      " 34  weeksworked05          8403 non-null   float64\n",
      " 35  weeksworked06          8340 non-null   float64\n",
      " 36  weeksworked07          8272 non-null   float64\n",
      " 37  weeksworked08          8186 non-null   float64\n",
      " 38  weeksworked09          8146 non-null   float64\n",
      " 39  weeksworked10          8054 non-null   float64\n",
      " 40  weeksworked11          7968 non-null   float64\n",
      " 41  weeksworked12          7747 non-null   float64\n",
      " 42  weeksworked13          7680 non-null   float64\n",
      " 43  weeksworked14          7612 non-null   float64\n",
      " 44  weeksworked15          7389 non-null   float64\n",
      " 45  weeksworked16          7068 non-null   float64\n",
      " 46  weeksworked17          6670 non-null   float64\n",
      " 47  colenrfeb97            1250 non-null   object \n",
      " 48  colenroct97            8501 non-null   object \n",
      " 49  colenrfeb98            8501 non-null   object \n",
      " 50  colenroct98            8888 non-null   object \n",
      " 51  colenrfeb99            8865 non-null   object \n",
      " 52  colenroct99            8851 non-null   object \n",
      " 53  colenrfeb00            8820 non-null   object \n",
      " 54  colenroct00            8805 non-null   object \n",
      " 55  colenrfeb01            8786 non-null   object \n",
      " 56  colenroct01            8758 non-null   object \n",
      " 57  colenrfeb02            8732 non-null   object \n",
      " 58  colenroct02            8698 non-null   object \n",
      " 59  colenrfeb03            8658 non-null   object \n",
      " 60  colenroct03            8622 non-null   object \n",
      " 61  colenrfeb04            8578 non-null   object \n",
      " 62  colenroct04            8546 non-null   object \n",
      " 63  colenrfeb05            8508 non-null   object \n",
      " 64  colenroct05            8471 non-null   object \n",
      " 65  colenrfeb06            8426 non-null   object \n",
      " 66  colenroct06            8407 non-null   object \n",
      " 67  colenrfeb07            8352 non-null   object \n",
      " 68  colenroct07            8331 non-null   object \n",
      " 69  colenrfeb08            8289 non-null   object \n",
      " 70  colenroct08            8280 non-null   object \n",
      " 71  colenrfeb09            8236 non-null   object \n",
      " 72  colenroct09            8193 non-null   object \n",
      " 73  colenrfeb10            8116 non-null   object \n",
      " 74  colenroct10            8091 non-null   object \n",
      " 75  colenrfeb11            8037 non-null   object \n",
      " 76  colenroct11            7972 non-null   object \n",
      " 77  colenrfeb12            7794 non-null   object \n",
      " 78  colenroct12            7754 non-null   object \n",
      " 79  colenrfeb13            7754 non-null   object \n",
      " 80  colenroct13            7754 non-null   object \n",
      " 81  colenrfeb14            7624 non-null   object \n",
      " 82  colenroct14            7469 non-null   object \n",
      " 83  colenrfeb15            7469 non-null   object \n",
      " 84  colenroct15            7469 non-null   object \n",
      " 85  colenrfeb16            7036 non-null   object \n",
      " 86  colenroct16            6733 non-null   object \n",
      " 87  colenrfeb17            6733 non-null   object \n",
      " 88  colenroct17            6734 non-null   object \n",
      "dtypes: float64(29), int64(3), object(57)\n",
      "memory usage: 6.1+ MB\n"
     ]
    }
   ],
   "source": [
    "df.info()"
   ]
  },
  {
   "cell_type": "markdown",
   "id": "f55151b8-c62f-4f98-954f-97e18ecdc138",
   "metadata": {},
   "source": [
    "## Set the personid column as index"
   ]
  },
  {
   "cell_type": "code",
   "execution_count": 20,
   "id": "89741dc7-7b1d-41c4-a130-f90b1164c78d",
   "metadata": {},
   "outputs": [],
   "source": [
    "df.set_index(\"personid\", inplace = True)"
   ]
  },
  {
   "cell_type": "code",
   "execution_count": 22,
   "id": "77a1d2bb-1fcc-428d-9c85-0b6a3e1ae7a9",
   "metadata": {},
   "outputs": [
    {
     "data": {
      "text/plain": [
       "Index([100061, 100139, 100284, 100292, 100583, 100833, 100931, 101089, 101122,\n",
       "       101132,\n",
       "       ...\n",
       "       998997, 999031, 999053, 999087, 999103, 999291, 999406, 999543, 999698,\n",
       "       999963],\n",
       "      dtype='int64', name='personid', length=8984)"
      ]
     },
     "execution_count": 22,
     "metadata": {},
     "output_type": "execute_result"
    }
   ],
   "source": [
    "df.index"
   ]
  },
  {
   "cell_type": "markdown",
   "id": "8077dd2c-8ad8-420d-b3dc-283a53593d32",
   "metadata": {},
   "source": [
    "## Convert all columns with \"object\" datatype to \"category\""
   ]
  },
  {
   "cell_type": "raw",
   "id": "d1721da1-8614-4b88-9c74-420155f6ccec",
   "metadata": {},
   "source": [
    "df.select_dtypes(include = ['object']) = df.select_dtypes(['object']).apply(lambda x: x.astype(\"category\"))"
   ]
  },
  {
   "cell_type": "code",
   "execution_count": 25,
   "id": "7f0a74e6-abc2-4cb5-9ac8-a278b06d485f",
   "metadata": {},
   "outputs": [],
   "source": [
    "for col in df.select_dtypes(['object']).columns:\n",
    "    df[col] = df[col].astype(\"category\")"
   ]
  },
  {
   "cell_type": "code",
   "execution_count": 27,
   "id": "db3a7901-cd79-4aef-807b-d8baed97027e",
   "metadata": {},
   "outputs": [
    {
     "name": "stdout",
     "output_type": "stream",
     "text": [
      "<class 'pandas.core.frame.DataFrame'>\n",
      "Index: 8984 entries, 100061 to 999963\n",
      "Data columns (total 88 columns):\n",
      " #   Column                 Non-Null Count  Dtype   \n",
      "---  ------                 --------------  -----   \n",
      " 0   gender                 8984 non-null   category\n",
      " 1   birthmonth             8984 non-null   int64   \n",
      " 2   birthyear              8984 non-null   int64   \n",
      " 3   highestgradecompleted  6663 non-null   float64 \n",
      " 4   maritalstatus          6672 non-null   category\n",
      " 5   childathome            4791 non-null   float64 \n",
      " 6   childnotathome         4791 non-null   float64 \n",
      " 7   wageincome             5091 non-null   float64 \n",
      " 8   weeklyhrscomputer      5792 non-null   category\n",
      " 9   weeklyhrstv            6711 non-null   category\n",
      " 10  nightlyhrssleep        6706 non-null   float64 \n",
      " 11  satverbal              1406 non-null   float64 \n",
      " 12  satmath                1407 non-null   float64 \n",
      " 13  gpaoverall             6004 non-null   float64 \n",
      " 14  gpaenglish             5798 non-null   float64 \n",
      " 15  gpamath                5766 non-null   float64 \n",
      " 16  gpascience             5684 non-null   float64 \n",
      " 17  highestdegree          8953 non-null   category\n",
      " 18  govprovidejobs         1833 non-null   category\n",
      " 19  govpricecontrols       1859 non-null   category\n",
      " 20  govhealthcare          1874 non-null   category\n",
      " 21  govelderliving         1872 non-null   category\n",
      " 22  govindhelp             1815 non-null   category\n",
      " 23  govunemp               1811 non-null   category\n",
      " 24  govincomediff          1775 non-null   category\n",
      " 25  govcollegefinance      1875 non-null   category\n",
      " 26  govdecenthousing       1847 non-null   category\n",
      " 27  govprotectenvironment  1860 non-null   category\n",
      " 28  weeksworked00          8603 non-null   float64 \n",
      " 29  weeksworked01          8564 non-null   float64 \n",
      " 30  weeksworked02          8556 non-null   float64 \n",
      " 31  weeksworked03          8490 non-null   float64 \n",
      " 32  weeksworked04          8458 non-null   float64 \n",
      " 33  weeksworked05          8403 non-null   float64 \n",
      " 34  weeksworked06          8340 non-null   float64 \n",
      " 35  weeksworked07          8272 non-null   float64 \n",
      " 36  weeksworked08          8186 non-null   float64 \n",
      " 37  weeksworked09          8146 non-null   float64 \n",
      " 38  weeksworked10          8054 non-null   float64 \n",
      " 39  weeksworked11          7968 non-null   float64 \n",
      " 40  weeksworked12          7747 non-null   float64 \n",
      " 41  weeksworked13          7680 non-null   float64 \n",
      " 42  weeksworked14          7612 non-null   float64 \n",
      " 43  weeksworked15          7389 non-null   float64 \n",
      " 44  weeksworked16          7068 non-null   float64 \n",
      " 45  weeksworked17          6670 non-null   float64 \n",
      " 46  colenrfeb97            1250 non-null   category\n",
      " 47  colenroct97            8501 non-null   category\n",
      " 48  colenrfeb98            8501 non-null   category\n",
      " 49  colenroct98            8888 non-null   category\n",
      " 50  colenrfeb99            8865 non-null   category\n",
      " 51  colenroct99            8851 non-null   category\n",
      " 52  colenrfeb00            8820 non-null   category\n",
      " 53  colenroct00            8805 non-null   category\n",
      " 54  colenrfeb01            8786 non-null   category\n",
      " 55  colenroct01            8758 non-null   category\n",
      " 56  colenrfeb02            8732 non-null   category\n",
      " 57  colenroct02            8698 non-null   category\n",
      " 58  colenrfeb03            8658 non-null   category\n",
      " 59  colenroct03            8622 non-null   category\n",
      " 60  colenrfeb04            8578 non-null   category\n",
      " 61  colenroct04            8546 non-null   category\n",
      " 62  colenrfeb05            8508 non-null   category\n",
      " 63  colenroct05            8471 non-null   category\n",
      " 64  colenrfeb06            8426 non-null   category\n",
      " 65  colenroct06            8407 non-null   category\n",
      " 66  colenrfeb07            8352 non-null   category\n",
      " 67  colenroct07            8331 non-null   category\n",
      " 68  colenrfeb08            8289 non-null   category\n",
      " 69  colenroct08            8280 non-null   category\n",
      " 70  colenrfeb09            8236 non-null   category\n",
      " 71  colenroct09            8193 non-null   category\n",
      " 72  colenrfeb10            8116 non-null   category\n",
      " 73  colenroct10            8091 non-null   category\n",
      " 74  colenrfeb11            8037 non-null   category\n",
      " 75  colenroct11            7972 non-null   category\n",
      " 76  colenrfeb12            7794 non-null   category\n",
      " 77  colenroct12            7754 non-null   category\n",
      " 78  colenrfeb13            7754 non-null   category\n",
      " 79  colenroct13            7754 non-null   category\n",
      " 80  colenrfeb14            7624 non-null   category\n",
      " 81  colenroct14            7469 non-null   category\n",
      " 82  colenrfeb15            7469 non-null   category\n",
      " 83  colenroct15            7469 non-null   category\n",
      " 84  colenrfeb16            7036 non-null   category\n",
      " 85  colenroct16            6733 non-null   category\n",
      " 86  colenrfeb17            6733 non-null   category\n",
      " 87  colenroct17            6734 non-null   category\n",
      "dtypes: category(57), float64(29), int64(2)\n",
      "memory usage: 2.7 MB\n"
     ]
    }
   ],
   "source": [
    "df.info()"
   ]
  },
  {
   "cell_type": "markdown",
   "id": "2a96df90-1a50-4362-b655-51292f1fa5ef",
   "metadata": {},
   "source": [
    "#### See a significant decrease in memory"
   ]
  },
  {
   "cell_type": "raw",
   "id": "790dc682-a7a0-4b17-accc-96635465d31a",
   "metadata": {},
   "source": [
    "Why?\n",
    "\n",
    "1️⃣ category Stores Unique Values as Codes (Instead of Full Strings)\n",
    "\t•\tobject dtype stores each string separately in memory.\n",
    "\t•\tcategory replaces repeated values with integer codes, reducing storage."
   ]
  },
  {
   "cell_type": "markdown",
   "id": "119d6a98-cc61-48e7-83bb-a83248eba3d4",
   "metadata": {},
   "source": [
    "## Select a column using []\n"
   ]
  },
  {
   "cell_type": "code",
   "execution_count": 37,
   "id": "7d75d63d-f41e-40da-88ba-0f5cc67f3aa3",
   "metadata": {},
   "outputs": [],
   "source": [
    "gender_data = df['gender']"
   ]
  },
  {
   "cell_type": "code",
   "execution_count": 39,
   "id": "4875930e-b9f7-4ae4-ab47-d789cd5ed34e",
   "metadata": {},
   "outputs": [
    {
     "data": {
      "text/plain": [
       "pandas.core.series.Series"
      ]
     },
     "execution_count": 39,
     "metadata": {},
     "output_type": "execute_result"
    }
   ],
   "source": [
    "type(gender_data)"
   ]
  },
  {
   "cell_type": "raw",
   "id": "001a96a9-3278-4bcc-872b-b2100ed652f0",
   "metadata": {},
   "source": [
    "A Pandas Series is a one-dimensional labeled array in Python that can hold any type of data (integers, floats, strings, objects, etc.).\n",
    "It is similar to a column in a DataFrame or a list with an index."
   ]
  },
  {
   "cell_type": "markdown",
   "id": "7e55bd0c-4dbb-4f62-b85d-ccb4f33ab4cb",
   "metadata": {},
   "source": [
    "### Get the column data as a dataframe"
   ]
  },
  {
   "cell_type": "code",
   "execution_count": 48,
   "id": "45fb0486-1dae-4f67-982b-11350e7036ae",
   "metadata": {},
   "outputs": [],
   "source": [
    "gender_data_as_df = df[['gender']]"
   ]
  },
  {
   "cell_type": "code",
   "execution_count": 50,
   "id": "c1f060ce-774a-49de-bf5e-3e3fc6deb55a",
   "metadata": {},
   "outputs": [
    {
     "data": {
      "text/plain": [
       "pandas.core.frame.DataFrame"
      ]
     },
     "execution_count": 50,
     "metadata": {},
     "output_type": "execute_result"
    }
   ],
   "source": [
    "type(gender_data_as_df)"
   ]
  },
  {
   "cell_type": "markdown",
   "id": "ddc8e638-17dc-432d-b8b8-678680204854",
   "metadata": {},
   "source": [
    "## Select column using \"loc\""
   ]
  },
  {
   "cell_type": "code",
   "execution_count": 52,
   "id": "f5d745e5-5bee-45dd-8844-c26c8e5f6316",
   "metadata": {},
   "outputs": [],
   "source": [
    "gender_data_with_loc = df.loc[:,['gender']]"
   ]
  },
  {
   "cell_type": "code",
   "execution_count": 54,
   "id": "a201ac25-79bf-49dd-b1b5-1708bd4e773f",
   "metadata": {},
   "outputs": [
    {
     "data": {
      "text/plain": [
       "pandas.core.frame.DataFrame"
      ]
     },
     "execution_count": 54,
     "metadata": {},
     "output_type": "execute_result"
    }
   ],
   "source": [
    "type(gender_data_with_loc)"
   ]
  },
  {
   "cell_type": "code",
   "execution_count": 56,
   "id": "da931681-6df2-4ea9-a40c-4e0bb4c2e33e",
   "metadata": {},
   "outputs": [
    {
     "data": {
      "text/plain": [
       "Index(['gender', 'birthmonth', 'birthyear', 'highestgradecompleted',\n",
       "       'maritalstatus', 'childathome', 'childnotathome', 'wageincome',\n",
       "       'weeklyhrscomputer', 'weeklyhrstv', 'nightlyhrssleep', 'satverbal',\n",
       "       'satmath', 'gpaoverall', 'gpaenglish', 'gpamath', 'gpascience',\n",
       "       'highestdegree', 'govprovidejobs', 'govpricecontrols', 'govhealthcare',\n",
       "       'govelderliving', 'govindhelp', 'govunemp', 'govincomediff',\n",
       "       'govcollegefinance', 'govdecenthousing', 'govprotectenvironment',\n",
       "       'weeksworked00', 'weeksworked01', 'weeksworked02', 'weeksworked03',\n",
       "       'weeksworked04', 'weeksworked05', 'weeksworked06', 'weeksworked07',\n",
       "       'weeksworked08', 'weeksworked09', 'weeksworked10', 'weeksworked11',\n",
       "       'weeksworked12', 'weeksworked13', 'weeksworked14', 'weeksworked15',\n",
       "       'weeksworked16', 'weeksworked17', 'colenrfeb97', 'colenroct97',\n",
       "       'colenrfeb98', 'colenroct98', 'colenrfeb99', 'colenroct99',\n",
       "       'colenrfeb00', 'colenroct00', 'colenrfeb01', 'colenroct01',\n",
       "       'colenrfeb02', 'colenroct02', 'colenrfeb03', 'colenroct03',\n",
       "       'colenrfeb04', 'colenroct04', 'colenrfeb05', 'colenroct05',\n",
       "       'colenrfeb06', 'colenroct06', 'colenrfeb07', 'colenroct07',\n",
       "       'colenrfeb08', 'colenroct08', 'colenrfeb09', 'colenroct09',\n",
       "       'colenrfeb10', 'colenroct10', 'colenrfeb11', 'colenroct11',\n",
       "       'colenrfeb12', 'colenroct12', 'colenrfeb13', 'colenroct13',\n",
       "       'colenrfeb14', 'colenroct14', 'colenrfeb15', 'colenroct15',\n",
       "       'colenrfeb16', 'colenroct16', 'colenrfeb17', 'colenroct17'],\n",
       "      dtype='object')"
      ]
     },
     "execution_count": 56,
     "metadata": {},
     "output_type": "execute_result"
    }
   ],
   "source": [
    "df.columns"
   ]
  },
  {
   "cell_type": "markdown",
   "id": "b47d5cdd-2199-4289-9edc-d541aaae58f7",
   "metadata": {},
   "source": [
    "## Select column using \"iloc\""
   ]
  },
  {
   "cell_type": "code",
   "execution_count": 59,
   "id": "3a8518e5-6da3-4680-bdbc-4404a61983b9",
   "metadata": {},
   "outputs": [],
   "source": [
    "gender_data_with_iloc = df.iloc[:,[0]]"
   ]
  },
  {
   "cell_type": "code",
   "execution_count": 61,
   "id": "33881f48-d9ec-4a9d-a4e7-2d937748b6a2",
   "metadata": {},
   "outputs": [
    {
     "data": {
      "text/plain": [
       "pandas.core.frame.DataFrame"
      ]
     },
     "execution_count": 61,
     "metadata": {},
     "output_type": "execute_result"
    }
   ],
   "source": [
    "type(gender_data_with_iloc)"
   ]
  },
  {
   "cell_type": "markdown",
   "id": "dfddb69a-a08d-4e03-bceb-a2e5306d274d",
   "metadata": {},
   "source": [
    "## Select multiple columns from dataframe using []"
   ]
  },
  {
   "cell_type": "code",
   "execution_count": 64,
   "id": "5dc30d5b-fca6-479a-837f-e8299111ac4f",
   "metadata": {},
   "outputs": [],
   "source": [
    "df_gen_ms_hg = df[['gender', 'maritalstatus','highestgradecompleted']]\n",
    "                   "
   ]
  },
  {
   "cell_type": "code",
   "execution_count": 66,
   "id": "6d86846f-e548-4621-b5e3-0a10b6252e72",
   "metadata": {},
   "outputs": [
    {
     "data": {
      "text/plain": [
       "(8984, 3)"
      ]
     },
     "execution_count": 66,
     "metadata": {},
     "output_type": "execute_result"
    }
   ],
   "source": [
    "df_gen_ms_hg.shape"
   ]
  },
  {
   "cell_type": "markdown",
   "id": "38d3c770-15f4-427b-be31-5e3378b598e9",
   "metadata": {},
   "source": [
    "## Select multiple columns from dataframe using \"loc\""
   ]
  },
  {
   "cell_type": "code",
   "execution_count": 69,
   "id": "90678b46-2da8-4541-9697-6129ccc74f34",
   "metadata": {},
   "outputs": [],
   "source": [
    "df_gen_ms_hg_with_loc = df.loc[:,['gender', 'maritalstatus','highestgradecompleted']]\n",
    "                   "
   ]
  },
  {
   "cell_type": "code",
   "execution_count": 71,
   "id": "81510c47-e190-407f-b143-c2fda4b5b3d8",
   "metadata": {},
   "outputs": [
    {
     "data": {
      "text/plain": [
       "pandas.core.frame.DataFrame"
      ]
     },
     "execution_count": 71,
     "metadata": {},
     "output_type": "execute_result"
    }
   ],
   "source": [
    "type(df_gen_ms_hg_with_loc)"
   ]
  },
  {
   "cell_type": "code",
   "execution_count": 73,
   "id": "ff4ca47b-51df-422e-9aea-cd3691076d8b",
   "metadata": {},
   "outputs": [
    {
     "data": {
      "text/html": [
       "<div>\n",
       "<style scoped>\n",
       "    .dataframe tbody tr th:only-of-type {\n",
       "        vertical-align: middle;\n",
       "    }\n",
       "\n",
       "    .dataframe tbody tr th {\n",
       "        vertical-align: top;\n",
       "    }\n",
       "\n",
       "    .dataframe thead th {\n",
       "        text-align: right;\n",
       "    }\n",
       "</style>\n",
       "<table border=\"1\" class=\"dataframe\">\n",
       "  <thead>\n",
       "    <tr style=\"text-align: right;\">\n",
       "      <th></th>\n",
       "      <th>gender</th>\n",
       "      <th>maritalstatus</th>\n",
       "      <th>highestgradecompleted</th>\n",
       "    </tr>\n",
       "    <tr>\n",
       "      <th>personid</th>\n",
       "      <th></th>\n",
       "      <th></th>\n",
       "      <th></th>\n",
       "    </tr>\n",
       "  </thead>\n",
       "  <tbody>\n",
       "    <tr>\n",
       "      <th>100061</th>\n",
       "      <td>Female</td>\n",
       "      <td>Married</td>\n",
       "      <td>13.0</td>\n",
       "    </tr>\n",
       "    <tr>\n",
       "      <th>100139</th>\n",
       "      <td>Male</td>\n",
       "      <td>Married</td>\n",
       "      <td>12.0</td>\n",
       "    </tr>\n",
       "  </tbody>\n",
       "</table>\n",
       "</div>"
      ],
      "text/plain": [
       "          gender maritalstatus  highestgradecompleted\n",
       "personid                                             \n",
       "100061    Female       Married                   13.0\n",
       "100139      Male       Married                   12.0"
      ]
     },
     "execution_count": 73,
     "metadata": {},
     "output_type": "execute_result"
    }
   ],
   "source": [
    "df_gen_ms_hg_with_loc.head(2)"
   ]
  },
  {
   "cell_type": "markdown",
   "id": "775d64d0-7370-4580-aa51-93106ba3a445",
   "metadata": {},
   "source": [
    "## Select multiple columns based on a list of columns"
   ]
  },
  {
   "cell_type": "code",
   "execution_count": 76,
   "id": "fc1d6a76-60d4-418b-8e11-0ed1881b6eac",
   "metadata": {},
   "outputs": [],
   "source": [
    "req_cols = ['gender', 'maritalstatus', 'highestgradecompleted', 'wageincome',\\\n",
    "            'gpaoverall', 'weeksworked17']\n",
    "\n",
    "df_req = df[req_cols]\n",
    "\n"
   ]
  },
  {
   "cell_type": "code",
   "execution_count": 78,
   "id": "fd0bca9f-b3fa-4094-b39b-134ef473e24b",
   "metadata": {},
   "outputs": [
    {
     "name": "stdout",
     "output_type": "stream",
     "text": [
      "<class 'pandas.core.frame.DataFrame'>\n",
      "Index: 8984 entries, 100061 to 999963\n",
      "Data columns (total 6 columns):\n",
      " #   Column                 Non-Null Count  Dtype   \n",
      "---  ------                 --------------  -----   \n",
      " 0   gender                 8984 non-null   category\n",
      " 1   maritalstatus          6672 non-null   category\n",
      " 2   highestgradecompleted  6663 non-null   float64 \n",
      " 3   wageincome             5091 non-null   float64 \n",
      " 4   gpaoverall             6004 non-null   float64 \n",
      " 5   weeksworked17          6670 non-null   float64 \n",
      "dtypes: category(2), float64(4)\n",
      "memory usage: 368.8 KB\n"
     ]
    }
   ],
   "source": [
    "df_req.info()"
   ]
  },
  {
   "cell_type": "markdown",
   "id": "99d24eb8-6397-42e9-8820-bc07af395509",
   "metadata": {},
   "source": [
    "## Select columns by using \"filter\""
   ]
  },
  {
   "cell_type": "code",
   "execution_count": 81,
   "id": "376175eb-f9fb-4ea7-a5b5-671baac0a16b",
   "metadata": {},
   "outputs": [
    {
     "data": {
      "text/plain": [
       "Index(['gender', 'birthmonth', 'birthyear', 'highestgradecompleted',\n",
       "       'maritalstatus', 'childathome', 'childnotathome', 'wageincome',\n",
       "       'weeklyhrscomputer', 'weeklyhrstv', 'nightlyhrssleep', 'satverbal',\n",
       "       'satmath', 'gpaoverall', 'gpaenglish', 'gpamath', 'gpascience',\n",
       "       'highestdegree', 'govprovidejobs', 'govpricecontrols', 'govhealthcare',\n",
       "       'govelderliving', 'govindhelp', 'govunemp', 'govincomediff',\n",
       "       'govcollegefinance', 'govdecenthousing', 'govprotectenvironment',\n",
       "       'weeksworked00', 'weeksworked01', 'weeksworked02', 'weeksworked03',\n",
       "       'weeksworked04', 'weeksworked05', 'weeksworked06', 'weeksworked07',\n",
       "       'weeksworked08', 'weeksworked09', 'weeksworked10', 'weeksworked11',\n",
       "       'weeksworked12', 'weeksworked13', 'weeksworked14', 'weeksworked15',\n",
       "       'weeksworked16', 'weeksworked17', 'colenrfeb97', 'colenroct97',\n",
       "       'colenrfeb98', 'colenroct98', 'colenrfeb99', 'colenroct99',\n",
       "       'colenrfeb00', 'colenroct00', 'colenrfeb01', 'colenroct01',\n",
       "       'colenrfeb02', 'colenroct02', 'colenrfeb03', 'colenroct03',\n",
       "       'colenrfeb04', 'colenroct04', 'colenrfeb05', 'colenroct05',\n",
       "       'colenrfeb06', 'colenroct06', 'colenrfeb07', 'colenroct07',\n",
       "       'colenrfeb08', 'colenroct08', 'colenrfeb09', 'colenroct09',\n",
       "       'colenrfeb10', 'colenroct10', 'colenrfeb11', 'colenroct11',\n",
       "       'colenrfeb12', 'colenroct12', 'colenrfeb13', 'colenroct13',\n",
       "       'colenrfeb14', 'colenroct14', 'colenrfeb15', 'colenroct15',\n",
       "       'colenrfeb16', 'colenroct16', 'colenrfeb17', 'colenroct17'],\n",
       "      dtype='object')"
      ]
     },
     "execution_count": 81,
     "metadata": {},
     "output_type": "execute_result"
    }
   ],
   "source": [
    "df.columns"
   ]
  },
  {
   "cell_type": "code",
   "execution_count": 83,
   "id": "5152f13d-19a0-4336-880d-669bf03548b2",
   "metadata": {},
   "outputs": [],
   "source": [
    "work_df = df.filter(like=\"weeksworked\")"
   ]
  },
  {
   "cell_type": "code",
   "execution_count": 85,
   "id": "7e5ef67e-66e8-4f6a-8f97-624fb0695243",
   "metadata": {},
   "outputs": [
    {
     "name": "stdout",
     "output_type": "stream",
     "text": [
      "<class 'pandas.core.frame.DataFrame'>\n",
      "Index: 8984 entries, 100061 to 999963\n",
      "Data columns (total 18 columns):\n",
      " #   Column         Non-Null Count  Dtype  \n",
      "---  ------         --------------  -----  \n",
      " 0   weeksworked00  8603 non-null   float64\n",
      " 1   weeksworked01  8564 non-null   float64\n",
      " 2   weeksworked02  8556 non-null   float64\n",
      " 3   weeksworked03  8490 non-null   float64\n",
      " 4   weeksworked04  8458 non-null   float64\n",
      " 5   weeksworked05  8403 non-null   float64\n",
      " 6   weeksworked06  8340 non-null   float64\n",
      " 7   weeksworked07  8272 non-null   float64\n",
      " 8   weeksworked08  8186 non-null   float64\n",
      " 9   weeksworked09  8146 non-null   float64\n",
      " 10  weeksworked10  8054 non-null   float64\n",
      " 11  weeksworked11  7968 non-null   float64\n",
      " 12  weeksworked12  7747 non-null   float64\n",
      " 13  weeksworked13  7680 non-null   float64\n",
      " 14  weeksworked14  7612 non-null   float64\n",
      " 15  weeksworked15  7389 non-null   float64\n",
      " 16  weeksworked16  7068 non-null   float64\n",
      " 17  weeksworked17  6670 non-null   float64\n",
      "dtypes: float64(18)\n",
      "memory usage: 1.3 MB\n"
     ]
    }
   ],
   "source": [
    "work_df.info()"
   ]
  },
  {
   "cell_type": "markdown",
   "id": "4542bc31-78e1-4a36-ba9e-5660bce53a11",
   "metadata": {},
   "source": [
    "## Select columns based on \"datatype\""
   ]
  },
  {
   "cell_type": "code",
   "execution_count": 88,
   "id": "e03559ad-2c65-41ae-9975-4fe0e0886f77",
   "metadata": {},
   "outputs": [],
   "source": [
    "#Select all category columns\n",
    "\n",
    "df_category = df.select_dtypes(include = [\"category\"])"
   ]
  },
  {
   "cell_type": "code",
   "execution_count": 92,
   "id": "d0f5016c-dbe1-4d86-96aa-e7165d67aa28",
   "metadata": {},
   "outputs": [
    {
     "name": "stdout",
     "output_type": "stream",
     "text": [
      "<class 'pandas.core.frame.DataFrame'>\n",
      "Index: 8984 entries, 100061 to 999963\n",
      "Data columns (total 57 columns):\n",
      " #   Column                 Non-Null Count  Dtype   \n",
      "---  ------                 --------------  -----   \n",
      " 0   gender                 8984 non-null   category\n",
      " 1   maritalstatus          6672 non-null   category\n",
      " 2   weeklyhrscomputer      5792 non-null   category\n",
      " 3   weeklyhrstv            6711 non-null   category\n",
      " 4   highestdegree          8953 non-null   category\n",
      " 5   govprovidejobs         1833 non-null   category\n",
      " 6   govpricecontrols       1859 non-null   category\n",
      " 7   govhealthcare          1874 non-null   category\n",
      " 8   govelderliving         1872 non-null   category\n",
      " 9   govindhelp             1815 non-null   category\n",
      " 10  govunemp               1811 non-null   category\n",
      " 11  govincomediff          1775 non-null   category\n",
      " 12  govcollegefinance      1875 non-null   category\n",
      " 13  govdecenthousing       1847 non-null   category\n",
      " 14  govprotectenvironment  1860 non-null   category\n",
      " 15  colenrfeb97            1250 non-null   category\n",
      " 16  colenroct97            8501 non-null   category\n",
      " 17  colenrfeb98            8501 non-null   category\n",
      " 18  colenroct98            8888 non-null   category\n",
      " 19  colenrfeb99            8865 non-null   category\n",
      " 20  colenroct99            8851 non-null   category\n",
      " 21  colenrfeb00            8820 non-null   category\n",
      " 22  colenroct00            8805 non-null   category\n",
      " 23  colenrfeb01            8786 non-null   category\n",
      " 24  colenroct01            8758 non-null   category\n",
      " 25  colenrfeb02            8732 non-null   category\n",
      " 26  colenroct02            8698 non-null   category\n",
      " 27  colenrfeb03            8658 non-null   category\n",
      " 28  colenroct03            8622 non-null   category\n",
      " 29  colenrfeb04            8578 non-null   category\n",
      " 30  colenroct04            8546 non-null   category\n",
      " 31  colenrfeb05            8508 non-null   category\n",
      " 32  colenroct05            8471 non-null   category\n",
      " 33  colenrfeb06            8426 non-null   category\n",
      " 34  colenroct06            8407 non-null   category\n",
      " 35  colenrfeb07            8352 non-null   category\n",
      " 36  colenroct07            8331 non-null   category\n",
      " 37  colenrfeb08            8289 non-null   category\n",
      " 38  colenroct08            8280 non-null   category\n",
      " 39  colenrfeb09            8236 non-null   category\n",
      " 40  colenroct09            8193 non-null   category\n",
      " 41  colenrfeb10            8116 non-null   category\n",
      " 42  colenroct10            8091 non-null   category\n",
      " 43  colenrfeb11            8037 non-null   category\n",
      " 44  colenroct11            7972 non-null   category\n",
      " 45  colenrfeb12            7794 non-null   category\n",
      " 46  colenroct12            7754 non-null   category\n",
      " 47  colenrfeb13            7754 non-null   category\n",
      " 48  colenroct13            7754 non-null   category\n",
      " 49  colenrfeb14            7624 non-null   category\n",
      " 50  colenroct14            7469 non-null   category\n",
      " 51  colenrfeb15            7469 non-null   category\n",
      " 52  colenroct15            7469 non-null   category\n",
      " 53  colenrfeb16            7036 non-null   category\n",
      " 54  colenroct16            6733 non-null   category\n",
      " 55  colenrfeb17            6733 non-null   category\n",
      " 56  colenroct17            6734 non-null   category\n",
      "dtypes: category(57)\n",
      "memory usage: 580.8 KB\n"
     ]
    }
   ],
   "source": [
    "df_category.info()"
   ]
  },
  {
   "cell_type": "code",
   "execution_count": 94,
   "id": "5058c0d3-e03c-4048-8f10-1542dd198b5a",
   "metadata": {},
   "outputs": [],
   "source": [
    "# Select all numeric columns\n",
    "\n",
    "df_numeric = df.select_dtypes(include = [\"number\"])"
   ]
  },
  {
   "cell_type": "code",
   "execution_count": 96,
   "id": "1768cfd6-45f7-456f-b306-5d38f53477a6",
   "metadata": {},
   "outputs": [
    {
     "name": "stdout",
     "output_type": "stream",
     "text": [
      "<class 'pandas.core.frame.DataFrame'>\n",
      "Index: 8984 entries, 100061 to 999963\n",
      "Data columns (total 31 columns):\n",
      " #   Column                 Non-Null Count  Dtype  \n",
      "---  ------                 --------------  -----  \n",
      " 0   birthmonth             8984 non-null   int64  \n",
      " 1   birthyear              8984 non-null   int64  \n",
      " 2   highestgradecompleted  6663 non-null   float64\n",
      " 3   childathome            4791 non-null   float64\n",
      " 4   childnotathome         4791 non-null   float64\n",
      " 5   wageincome             5091 non-null   float64\n",
      " 6   nightlyhrssleep        6706 non-null   float64\n",
      " 7   satverbal              1406 non-null   float64\n",
      " 8   satmath                1407 non-null   float64\n",
      " 9   gpaoverall             6004 non-null   float64\n",
      " 10  gpaenglish             5798 non-null   float64\n",
      " 11  gpamath                5766 non-null   float64\n",
      " 12  gpascience             5684 non-null   float64\n",
      " 13  weeksworked00          8603 non-null   float64\n",
      " 14  weeksworked01          8564 non-null   float64\n",
      " 15  weeksworked02          8556 non-null   float64\n",
      " 16  weeksworked03          8490 non-null   float64\n",
      " 17  weeksworked04          8458 non-null   float64\n",
      " 18  weeksworked05          8403 non-null   float64\n",
      " 19  weeksworked06          8340 non-null   float64\n",
      " 20  weeksworked07          8272 non-null   float64\n",
      " 21  weeksworked08          8186 non-null   float64\n",
      " 22  weeksworked09          8146 non-null   float64\n",
      " 23  weeksworked10          8054 non-null   float64\n",
      " 24  weeksworked11          7968 non-null   float64\n",
      " 25  weeksworked12          7747 non-null   float64\n",
      " 26  weeksworked13          7680 non-null   float64\n",
      " 27  weeksworked14          7612 non-null   float64\n",
      " 28  weeksworked15          7389 non-null   float64\n",
      " 29  weeksworked16          7068 non-null   float64\n",
      " 30  weeksworked17          6670 non-null   float64\n",
      "dtypes: float64(29), int64(2)\n",
      "memory usage: 2.2 MB\n"
     ]
    }
   ],
   "source": [
    "df_numeric.info()"
   ]
  },
  {
   "cell_type": "markdown",
   "id": "dd8885ee-13d9-4845-9100-fa173f47c326",
   "metadata": {},
   "source": [
    "## Select columns using regex pattern"
   ]
  },
  {
   "cell_type": "code",
   "execution_count": 99,
   "id": "371508e1-f9fa-45f7-aeff-42032b2949ee",
   "metadata": {},
   "outputs": [
    {
     "data": {
      "text/plain": [
       "Index(['gender', 'birthmonth', 'birthyear', 'highestgradecompleted',\n",
       "       'maritalstatus', 'childathome', 'childnotathome', 'wageincome',\n",
       "       'weeklyhrscomputer', 'weeklyhrstv', 'nightlyhrssleep', 'satverbal',\n",
       "       'satmath', 'gpaoverall', 'gpaenglish', 'gpamath', 'gpascience',\n",
       "       'highestdegree', 'govprovidejobs', 'govpricecontrols', 'govhealthcare',\n",
       "       'govelderliving', 'govindhelp', 'govunemp', 'govincomediff',\n",
       "       'govcollegefinance', 'govdecenthousing', 'govprotectenvironment',\n",
       "       'weeksworked00', 'weeksworked01', 'weeksworked02', 'weeksworked03',\n",
       "       'weeksworked04', 'weeksworked05', 'weeksworked06', 'weeksworked07',\n",
       "       'weeksworked08', 'weeksworked09', 'weeksworked10', 'weeksworked11',\n",
       "       'weeksworked12', 'weeksworked13', 'weeksworked14', 'weeksworked15',\n",
       "       'weeksworked16', 'weeksworked17', 'colenrfeb97', 'colenroct97',\n",
       "       'colenrfeb98', 'colenroct98', 'colenrfeb99', 'colenroct99',\n",
       "       'colenrfeb00', 'colenroct00', 'colenrfeb01', 'colenroct01',\n",
       "       'colenrfeb02', 'colenroct02', 'colenrfeb03', 'colenroct03',\n",
       "       'colenrfeb04', 'colenroct04', 'colenrfeb05', 'colenroct05',\n",
       "       'colenrfeb06', 'colenroct06', 'colenrfeb07', 'colenroct07',\n",
       "       'colenrfeb08', 'colenroct08', 'colenrfeb09', 'colenroct09',\n",
       "       'colenrfeb10', 'colenroct10', 'colenrfeb11', 'colenroct11',\n",
       "       'colenrfeb12', 'colenroct12', 'colenrfeb13', 'colenroct13',\n",
       "       'colenrfeb14', 'colenroct14', 'colenrfeb15', 'colenroct15',\n",
       "       'colenrfeb16', 'colenroct16', 'colenrfeb17', 'colenroct17'],\n",
       "      dtype='object')"
      ]
     },
     "execution_count": 99,
     "metadata": {},
     "output_type": "execute_result"
    }
   ],
   "source": [
    "df.columns"
   ]
  },
  {
   "cell_type": "code",
   "execution_count": 101,
   "id": "d4858a5c-081a-4067-b356-a749973fceb4",
   "metadata": {},
   "outputs": [],
   "source": [
    "df_income = df.filter(regex = \"income\")"
   ]
  },
  {
   "cell_type": "code",
   "execution_count": 103,
   "id": "3ee0f220-e6d9-4666-aa7f-24dbe07abcb8",
   "metadata": {},
   "outputs": [
    {
     "name": "stdout",
     "output_type": "stream",
     "text": [
      "<class 'pandas.core.frame.DataFrame'>\n",
      "Index: 8984 entries, 100061 to 999963\n",
      "Data columns (total 2 columns):\n",
      " #   Column         Non-Null Count  Dtype   \n",
      "---  ------         --------------  -----   \n",
      " 0   wageincome     5091 non-null   float64 \n",
      " 1   govincomediff  1775 non-null   category\n",
      "dtypes: category(1), float64(1)\n",
      "memory usage: 149.3 KB\n"
     ]
    }
   ],
   "source": [
    "df_income.info()"
   ]
  },
  {
   "cell_type": "code",
   "execution_count": null,
   "id": "335e8334-6112-4309-8da5-e7fc7bd2e31e",
   "metadata": {},
   "outputs": [],
   "source": []
  }
 ],
 "metadata": {
  "kernelspec": {
   "display_name": "Python 3 (ipykernel)",
   "language": "python",
   "name": "python3"
  },
  "language_info": {
   "codemirror_mode": {
    "name": "ipython",
    "version": 3
   },
   "file_extension": ".py",
   "mimetype": "text/x-python",
   "name": "python",
   "nbconvert_exporter": "python",
   "pygments_lexer": "ipython3",
   "version": "3.12.4"
  }
 },
 "nbformat": 4,
 "nbformat_minor": 5
}
