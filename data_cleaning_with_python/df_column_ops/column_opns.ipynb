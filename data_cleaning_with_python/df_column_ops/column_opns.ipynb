{
 "cells": [
  {
   "cell_type": "markdown",
   "id": "8e8b2a30-7653-4291-8bcc-24fab3dfc820",
   "metadata": {},
   "source": [
    "## Import the libraries"
   ]
  },
  {
   "cell_type": "code",
   "execution_count": 2,
   "id": "235e2c35-514d-42b9-b8b8-ffbda62d7167",
   "metadata": {},
   "outputs": [],
   "source": [
    "import pandas as pd\n",
    "import numpy as np"
   ]
  },
  {
   "cell_type": "markdown",
   "id": "ce0dba82-810b-4083-a4b1-6e4f75e687fa",
   "metadata": {},
   "source": [
    "## Read the csv data"
   ]
  },
  {
   "cell_type": "code",
   "execution_count": 5,
   "id": "03c06658-348b-434e-a7f9-091ba62fb220",
   "metadata": {},
   "outputs": [],
   "source": [
    "df = pd.read_csv(\"raw_data/nls97.csv\")"
   ]
  },
  {
   "cell_type": "markdown",
   "id": "822c4f1e-2dae-4750-b6fb-ac9303fd80cb",
   "metadata": {},
   "source": [
    "## Check the index"
   ]
  },
  {
   "cell_type": "code",
   "execution_count": 9,
   "id": "b78c104f-509f-48f9-a16c-1041087fee62",
   "metadata": {},
   "outputs": [
    {
     "data": {
      "text/plain": [
       "RangeIndex(start=0, stop=8984, step=1)"
      ]
     },
     "execution_count": 9,
     "metadata": {},
     "output_type": "execute_result"
    }
   ],
   "source": [
    "df.index"
   ]
  },
  {
   "cell_type": "markdown",
   "id": "014b8319-4336-48a4-b2fa-64e36ddaddee",
   "metadata": {},
   "source": [
    "## Overview of the dataframe"
   ]
  },
  {
   "cell_type": "code",
   "execution_count": 14,
   "id": "9060173f-7f80-4fff-8fd9-4f39f3f387b2",
   "metadata": {},
   "outputs": [
    {
     "name": "stdout",
     "output_type": "stream",
     "text": [
      "<class 'pandas.core.frame.DataFrame'>\n",
      "RangeIndex: 8984 entries, 0 to 8983\n",
      "Data columns (total 89 columns):\n",
      " #   Column                 Non-Null Count  Dtype  \n",
      "---  ------                 --------------  -----  \n",
      " 0   personid               8984 non-null   int64  \n",
      " 1   gender                 8984 non-null   object \n",
      " 2   birthmonth             8984 non-null   int64  \n",
      " 3   birthyear              8984 non-null   int64  \n",
      " 4   highestgradecompleted  6663 non-null   float64\n",
      " 5   maritalstatus          6672 non-null   object \n",
      " 6   childathome            4791 non-null   float64\n",
      " 7   childnotathome         4791 non-null   float64\n",
      " 8   wageincome             5091 non-null   float64\n",
      " 9   weeklyhrscomputer      5792 non-null   object \n",
      " 10  weeklyhrstv            6711 non-null   object \n",
      " 11  nightlyhrssleep        6706 non-null   float64\n",
      " 12  satverbal              1406 non-null   float64\n",
      " 13  satmath                1407 non-null   float64\n",
      " 14  gpaoverall             6004 non-null   float64\n",
      " 15  gpaenglish             5798 non-null   float64\n",
      " 16  gpamath                5766 non-null   float64\n",
      " 17  gpascience             5684 non-null   float64\n",
      " 18  highestdegree          8953 non-null   object \n",
      " 19  govprovidejobs         1833 non-null   object \n",
      " 20  govpricecontrols       1859 non-null   object \n",
      " 21  govhealthcare          1874 non-null   object \n",
      " 22  govelderliving         1872 non-null   object \n",
      " 23  govindhelp             1815 non-null   object \n",
      " 24  govunemp               1811 non-null   object \n",
      " 25  govincomediff          1775 non-null   object \n",
      " 26  govcollegefinance      1875 non-null   object \n",
      " 27  govdecenthousing       1847 non-null   object \n",
      " 28  govprotectenvironment  1860 non-null   object \n",
      " 29  weeksworked00          8603 non-null   float64\n",
      " 30  weeksworked01          8564 non-null   float64\n",
      " 31  weeksworked02          8556 non-null   float64\n",
      " 32  weeksworked03          8490 non-null   float64\n",
      " 33  weeksworked04          8458 non-null   float64\n",
      " 34  weeksworked05          8403 non-null   float64\n",
      " 35  weeksworked06          8340 non-null   float64\n",
      " 36  weeksworked07          8272 non-null   float64\n",
      " 37  weeksworked08          8186 non-null   float64\n",
      " 38  weeksworked09          8146 non-null   float64\n",
      " 39  weeksworked10          8054 non-null   float64\n",
      " 40  weeksworked11          7968 non-null   float64\n",
      " 41  weeksworked12          7747 non-null   float64\n",
      " 42  weeksworked13          7680 non-null   float64\n",
      " 43  weeksworked14          7612 non-null   float64\n",
      " 44  weeksworked15          7389 non-null   float64\n",
      " 45  weeksworked16          7068 non-null   float64\n",
      " 46  weeksworked17          6670 non-null   float64\n",
      " 47  colenrfeb97            1250 non-null   object \n",
      " 48  colenroct97            8501 non-null   object \n",
      " 49  colenrfeb98            8501 non-null   object \n",
      " 50  colenroct98            8888 non-null   object \n",
      " 51  colenrfeb99            8865 non-null   object \n",
      " 52  colenroct99            8851 non-null   object \n",
      " 53  colenrfeb00            8820 non-null   object \n",
      " 54  colenroct00            8805 non-null   object \n",
      " 55  colenrfeb01            8786 non-null   object \n",
      " 56  colenroct01            8758 non-null   object \n",
      " 57  colenrfeb02            8732 non-null   object \n",
      " 58  colenroct02            8698 non-null   object \n",
      " 59  colenrfeb03            8658 non-null   object \n",
      " 60  colenroct03            8622 non-null   object \n",
      " 61  colenrfeb04            8578 non-null   object \n",
      " 62  colenroct04            8546 non-null   object \n",
      " 63  colenrfeb05            8508 non-null   object \n",
      " 64  colenroct05            8471 non-null   object \n",
      " 65  colenrfeb06            8426 non-null   object \n",
      " 66  colenroct06            8407 non-null   object \n",
      " 67  colenrfeb07            8352 non-null   object \n",
      " 68  colenroct07            8331 non-null   object \n",
      " 69  colenrfeb08            8289 non-null   object \n",
      " 70  colenroct08            8280 non-null   object \n",
      " 71  colenrfeb09            8236 non-null   object \n",
      " 72  colenroct09            8193 non-null   object \n",
      " 73  colenrfeb10            8116 non-null   object \n",
      " 74  colenroct10            8091 non-null   object \n",
      " 75  colenrfeb11            8037 non-null   object \n",
      " 76  colenroct11            7972 non-null   object \n",
      " 77  colenrfeb12            7794 non-null   object \n",
      " 78  colenroct12            7754 non-null   object \n",
      " 79  colenrfeb13            7754 non-null   object \n",
      " 80  colenroct13            7754 non-null   object \n",
      " 81  colenrfeb14            7624 non-null   object \n",
      " 82  colenroct14            7469 non-null   object \n",
      " 83  colenrfeb15            7469 non-null   object \n",
      " 84  colenroct15            7469 non-null   object \n",
      " 85  colenrfeb16            7036 non-null   object \n",
      " 86  colenroct16            6733 non-null   object \n",
      " 87  colenrfeb17            6733 non-null   object \n",
      " 88  colenroct17            6734 non-null   object \n",
      "dtypes: float64(29), int64(3), object(57)\n",
      "memory usage: 6.1+ MB\n"
     ]
    }
   ],
   "source": [
    "df.info()"
   ]
  },
  {
   "cell_type": "markdown",
   "id": "ab477a3f-b247-420c-9dfb-109e46c3527f",
   "metadata": {},
   "source": [
    "## Set the personid column as the index"
   ]
  },
  {
   "cell_type": "code",
   "execution_count": 17,
   "id": "6ea28447-d5c1-412a-81ff-96ee4021d94b",
   "metadata": {},
   "outputs": [],
   "source": [
    "df.set_index(\"personid\", inplace = True)"
   ]
  },
  {
   "cell_type": "code",
   "execution_count": 19,
   "id": "194e5fbf-95fc-4dfc-b748-4329f632cf60",
   "metadata": {},
   "outputs": [
    {
     "data": {
      "text/plain": [
       "Index([100061, 100139, 100284, 100292, 100583, 100833, 100931, 101089, 101122,\n",
       "       101132,\n",
       "       ...\n",
       "       998997, 999031, 999053, 999087, 999103, 999291, 999406, 999543, 999698,\n",
       "       999963],\n",
       "      dtype='int64', name='personid', length=8984)"
      ]
     },
     "execution_count": 19,
     "metadata": {},
     "output_type": "execute_result"
    }
   ],
   "source": [
    "df.index"
   ]
  },
  {
   "cell_type": "markdown",
   "id": "23c6a536-1bfa-412b-b5cb-06de891e8646",
   "metadata": {},
   "source": [
    "## Convert all columns with \"object\" datatype to \"category\""
   ]
  },
  {
   "cell_type": "code",
   "execution_count": 22,
   "id": "df08a386-e70a-48e4-9061-dcbaa871a6c2",
   "metadata": {},
   "outputs": [],
   "source": [
    "for col in df.select_dtypes(['object']).columns:\n",
    "    df[col] = df[col].astype('category')"
   ]
  },
  {
   "cell_type": "code",
   "execution_count": 24,
   "id": "10dd81f0-ec03-4775-9bda-b011471217ad",
   "metadata": {},
   "outputs": [
    {
     "name": "stdout",
     "output_type": "stream",
     "text": [
      "<class 'pandas.core.frame.DataFrame'>\n",
      "Index: 8984 entries, 100061 to 999963\n",
      "Data columns (total 88 columns):\n",
      " #   Column                 Non-Null Count  Dtype   \n",
      "---  ------                 --------------  -----   \n",
      " 0   gender                 8984 non-null   category\n",
      " 1   birthmonth             8984 non-null   int64   \n",
      " 2   birthyear              8984 non-null   int64   \n",
      " 3   highestgradecompleted  6663 non-null   float64 \n",
      " 4   maritalstatus          6672 non-null   category\n",
      " 5   childathome            4791 non-null   float64 \n",
      " 6   childnotathome         4791 non-null   float64 \n",
      " 7   wageincome             5091 non-null   float64 \n",
      " 8   weeklyhrscomputer      5792 non-null   category\n",
      " 9   weeklyhrstv            6711 non-null   category\n",
      " 10  nightlyhrssleep        6706 non-null   float64 \n",
      " 11  satverbal              1406 non-null   float64 \n",
      " 12  satmath                1407 non-null   float64 \n",
      " 13  gpaoverall             6004 non-null   float64 \n",
      " 14  gpaenglish             5798 non-null   float64 \n",
      " 15  gpamath                5766 non-null   float64 \n",
      " 16  gpascience             5684 non-null   float64 \n",
      " 17  highestdegree          8953 non-null   category\n",
      " 18  govprovidejobs         1833 non-null   category\n",
      " 19  govpricecontrols       1859 non-null   category\n",
      " 20  govhealthcare          1874 non-null   category\n",
      " 21  govelderliving         1872 non-null   category\n",
      " 22  govindhelp             1815 non-null   category\n",
      " 23  govunemp               1811 non-null   category\n",
      " 24  govincomediff          1775 non-null   category\n",
      " 25  govcollegefinance      1875 non-null   category\n",
      " 26  govdecenthousing       1847 non-null   category\n",
      " 27  govprotectenvironment  1860 non-null   category\n",
      " 28  weeksworked00          8603 non-null   float64 \n",
      " 29  weeksworked01          8564 non-null   float64 \n",
      " 30  weeksworked02          8556 non-null   float64 \n",
      " 31  weeksworked03          8490 non-null   float64 \n",
      " 32  weeksworked04          8458 non-null   float64 \n",
      " 33  weeksworked05          8403 non-null   float64 \n",
      " 34  weeksworked06          8340 non-null   float64 \n",
      " 35  weeksworked07          8272 non-null   float64 \n",
      " 36  weeksworked08          8186 non-null   float64 \n",
      " 37  weeksworked09          8146 non-null   float64 \n",
      " 38  weeksworked10          8054 non-null   float64 \n",
      " 39  weeksworked11          7968 non-null   float64 \n",
      " 40  weeksworked12          7747 non-null   float64 \n",
      " 41  weeksworked13          7680 non-null   float64 \n",
      " 42  weeksworked14          7612 non-null   float64 \n",
      " 43  weeksworked15          7389 non-null   float64 \n",
      " 44  weeksworked16          7068 non-null   float64 \n",
      " 45  weeksworked17          6670 non-null   float64 \n",
      " 46  colenrfeb97            1250 non-null   category\n",
      " 47  colenroct97            8501 non-null   category\n",
      " 48  colenrfeb98            8501 non-null   category\n",
      " 49  colenroct98            8888 non-null   category\n",
      " 50  colenrfeb99            8865 non-null   category\n",
      " 51  colenroct99            8851 non-null   category\n",
      " 52  colenrfeb00            8820 non-null   category\n",
      " 53  colenroct00            8805 non-null   category\n",
      " 54  colenrfeb01            8786 non-null   category\n",
      " 55  colenroct01            8758 non-null   category\n",
      " 56  colenrfeb02            8732 non-null   category\n",
      " 57  colenroct02            8698 non-null   category\n",
      " 58  colenrfeb03            8658 non-null   category\n",
      " 59  colenroct03            8622 non-null   category\n",
      " 60  colenrfeb04            8578 non-null   category\n",
      " 61  colenroct04            8546 non-null   category\n",
      " 62  colenrfeb05            8508 non-null   category\n",
      " 63  colenroct05            8471 non-null   category\n",
      " 64  colenrfeb06            8426 non-null   category\n",
      " 65  colenroct06            8407 non-null   category\n",
      " 66  colenrfeb07            8352 non-null   category\n",
      " 67  colenroct07            8331 non-null   category\n",
      " 68  colenrfeb08            8289 non-null   category\n",
      " 69  colenroct08            8280 non-null   category\n",
      " 70  colenrfeb09            8236 non-null   category\n",
      " 71  colenroct09            8193 non-null   category\n",
      " 72  colenrfeb10            8116 non-null   category\n",
      " 73  colenroct10            8091 non-null   category\n",
      " 74  colenrfeb11            8037 non-null   category\n",
      " 75  colenroct11            7972 non-null   category\n",
      " 76  colenrfeb12            7794 non-null   category\n",
      " 77  colenroct12            7754 non-null   category\n",
      " 78  colenrfeb13            7754 non-null   category\n",
      " 79  colenroct13            7754 non-null   category\n",
      " 80  colenrfeb14            7624 non-null   category\n",
      " 81  colenroct14            7469 non-null   category\n",
      " 82  colenrfeb15            7469 non-null   category\n",
      " 83  colenroct15            7469 non-null   category\n",
      " 84  colenrfeb16            7036 non-null   category\n",
      " 85  colenroct16            6733 non-null   category\n",
      " 86  colenrfeb17            6733 non-null   category\n",
      " 87  colenroct17            6734 non-null   category\n",
      "dtypes: category(57), float64(29), int64(2)\n",
      "memory usage: 2.7 MB\n"
     ]
    }
   ],
   "source": [
    "df.info()"
   ]
  },
  {
   "cell_type": "markdown",
   "id": "9dae701a-f955-490a-8d33-46743a8559d0",
   "metadata": {},
   "source": [
    "## Select a column using \"[ ]\""
   ]
  },
  {
   "cell_type": "code",
   "execution_count": 27,
   "id": "68e35705-5dda-46f9-8a27-806b498b7e1d",
   "metadata": {},
   "outputs": [],
   "source": [
    "gender_data = df['gender']"
   ]
  },
  {
   "cell_type": "code",
   "execution_count": 29,
   "id": "898d75b6-8094-4981-8801-d1aa570ae1db",
   "metadata": {},
   "outputs": [
    {
     "data": {
      "text/plain": [
       "pandas.core.series.Series"
      ]
     },
     "execution_count": 29,
     "metadata": {},
     "output_type": "execute_result"
    }
   ],
   "source": [
    "type(gender_data)"
   ]
  },
  {
   "cell_type": "markdown",
   "id": "37bb224c-0d70-467c-9dd1-1b12efffe8ae",
   "metadata": {},
   "source": [
    "### Get the column data as a dataframe"
   ]
  },
  {
   "cell_type": "code",
   "execution_count": 32,
   "id": "c44a4555-43cf-4dde-ae2c-85c44a3642d1",
   "metadata": {},
   "outputs": [],
   "source": [
    "gender_data_as_df = df[['gender']]"
   ]
  },
  {
   "cell_type": "code",
   "execution_count": 34,
   "id": "32e37c77-aea1-4aa0-b246-aa5bdefdcb28",
   "metadata": {},
   "outputs": [
    {
     "data": {
      "text/plain": [
       "pandas.core.frame.DataFrame"
      ]
     },
     "execution_count": 34,
     "metadata": {},
     "output_type": "execute_result"
    }
   ],
   "source": [
    "type(gender_data_as_df)"
   ]
  },
  {
   "cell_type": "markdown",
   "id": "049beb54-d54a-4fd4-b356-91d28db1576d",
   "metadata": {},
   "source": [
    "## Select column using \"loc:\" selector"
   ]
  },
  {
   "cell_type": "code",
   "execution_count": 38,
   "id": "a4790588-af30-40d7-93fb-1157eb306afd",
   "metadata": {},
   "outputs": [],
   "source": [
    "gender_data_with_loc = df.loc[:,['gender']]"
   ]
  },
  {
   "cell_type": "code",
   "execution_count": 40,
   "id": "8aa78c3b-7d62-4892-ae5e-ca04fd0e7291",
   "metadata": {},
   "outputs": [
    {
     "data": {
      "text/plain": [
       "pandas.core.frame.DataFrame"
      ]
     },
     "execution_count": 40,
     "metadata": {},
     "output_type": "execute_result"
    }
   ],
   "source": [
    "type(gender_data_with_loc)"
   ]
  },
  {
   "cell_type": "markdown",
   "id": "6741782f-4de8-462b-940d-5e2f87bcdc05",
   "metadata": {},
   "source": [
    "## Select column using \"iloc:\" selector"
   ]
  },
  {
   "cell_type": "code",
   "execution_count": 46,
   "id": "ac12ebdf-31a1-4a2a-8af9-7187585d00a8",
   "metadata": {},
   "outputs": [],
   "source": [
    "gender_data_with_iloc = df.iloc[:,[0]]"
   ]
  },
  {
   "cell_type": "code",
   "execution_count": 48,
   "id": "7825a4c9-893a-488f-9296-af97cb9d8c35",
   "metadata": {},
   "outputs": [
    {
     "name": "stdout",
     "output_type": "stream",
     "text": [
      "<class 'pandas.core.frame.DataFrame'>\n",
      "Index: 8984 entries, 100061 to 999963\n",
      "Data columns (total 1 columns):\n",
      " #   Column  Non-Null Count  Dtype   \n",
      "---  ------  --------------  -----   \n",
      " 0   gender  8984 non-null   category\n",
      "dtypes: category(1)\n",
      "memory usage: 79.1 KB\n"
     ]
    }
   ],
   "source": [
    "gender_data_with_iloc.info()"
   ]
  },
  {
   "cell_type": "markdown",
   "id": "60814c2b-2a1f-45d4-a89e-ba99d9aea4e5",
   "metadata": {},
   "source": [
    "## Select multiple columns from dataframe using \"loc\""
   ]
  },
  {
   "cell_type": "code",
   "execution_count": 51,
   "id": "8f3183d5-0029-4268-9a85-07cbc3b521d7",
   "metadata": {},
   "outputs": [],
   "source": [
    "df_gen_ms_hg_with_loc = df.loc[:,['gender', 'maritalstatus','highestgradecompleted']]\n",
    "                   "
   ]
  },
  {
   "cell_type": "code",
   "execution_count": 53,
   "id": "c4a91fb3-284b-4288-afe0-adab80528210",
   "metadata": {},
   "outputs": [
    {
     "name": "stdout",
     "output_type": "stream",
     "text": [
      "<class 'pandas.core.frame.DataFrame'>\n",
      "Index: 8984 entries, 100061 to 999963\n",
      "Data columns (total 3 columns):\n",
      " #   Column                 Non-Null Count  Dtype   \n",
      "---  ------                 --------------  -----   \n",
      " 0   gender                 8984 non-null   category\n",
      " 1   maritalstatus          6672 non-null   category\n",
      " 2   highestgradecompleted  6663 non-null   float64 \n",
      "dtypes: category(2), float64(1)\n",
      "memory usage: 158.2 KB\n"
     ]
    }
   ],
   "source": [
    "df_gen_ms_hg_with_loc.info()"
   ]
  },
  {
   "cell_type": "markdown",
   "id": "6c0e212c-f2ce-4aaa-af49-7abf15b81b9b",
   "metadata": {},
   "source": [
    "## Select multiple columns based on a list of columns"
   ]
  },
  {
   "cell_type": "code",
   "execution_count": 56,
   "id": "ad8b2ee5-9ce7-4395-9692-a4ea5d57ada5",
   "metadata": {},
   "outputs": [],
   "source": [
    "req_cols = ['gender', 'maritalstatus', 'highestgradecompleted', 'wageincome',\\\n",
    "            'gpaoverall', 'weeksworked17']\n",
    "\n",
    "df_req = df[req_cols]"
   ]
  },
  {
   "cell_type": "code",
   "execution_count": 58,
   "id": "c58cc95c-de32-4a5b-9d1e-cdf37e7bbdf6",
   "metadata": {},
   "outputs": [
    {
     "name": "stdout",
     "output_type": "stream",
     "text": [
      "<class 'pandas.core.frame.DataFrame'>\n",
      "Index: 8984 entries, 100061 to 999963\n",
      "Data columns (total 6 columns):\n",
      " #   Column                 Non-Null Count  Dtype   \n",
      "---  ------                 --------------  -----   \n",
      " 0   gender                 8984 non-null   category\n",
      " 1   maritalstatus          6672 non-null   category\n",
      " 2   highestgradecompleted  6663 non-null   float64 \n",
      " 3   wageincome             5091 non-null   float64 \n",
      " 4   gpaoverall             6004 non-null   float64 \n",
      " 5   weeksworked17          6670 non-null   float64 \n",
      "dtypes: category(2), float64(4)\n",
      "memory usage: 368.8 KB\n"
     ]
    }
   ],
   "source": [
    "df_req.info()"
   ]
  },
  {
   "cell_type": "markdown",
   "id": "0fb4f2db-1f8a-4276-bab1-c08a51964821",
   "metadata": {},
   "source": [
    "## Select columns by using \"filter\""
   ]
  },
  {
   "cell_type": "code",
   "execution_count": 61,
   "id": "67ffd6a4-7aba-4c33-8d30-4cea5ce02138",
   "metadata": {},
   "outputs": [
    {
     "data": {
      "text/plain": [
       "Index(['gender', 'birthmonth', 'birthyear', 'highestgradecompleted',\n",
       "       'maritalstatus', 'childathome', 'childnotathome', 'wageincome',\n",
       "       'weeklyhrscomputer', 'weeklyhrstv', 'nightlyhrssleep', 'satverbal',\n",
       "       'satmath', 'gpaoverall', 'gpaenglish', 'gpamath', 'gpascience',\n",
       "       'highestdegree', 'govprovidejobs', 'govpricecontrols', 'govhealthcare',\n",
       "       'govelderliving', 'govindhelp', 'govunemp', 'govincomediff',\n",
       "       'govcollegefinance', 'govdecenthousing', 'govprotectenvironment',\n",
       "       'weeksworked00', 'weeksworked01', 'weeksworked02', 'weeksworked03',\n",
       "       'weeksworked04', 'weeksworked05', 'weeksworked06', 'weeksworked07',\n",
       "       'weeksworked08', 'weeksworked09', 'weeksworked10', 'weeksworked11',\n",
       "       'weeksworked12', 'weeksworked13', 'weeksworked14', 'weeksworked15',\n",
       "       'weeksworked16', 'weeksworked17', 'colenrfeb97', 'colenroct97',\n",
       "       'colenrfeb98', 'colenroct98', 'colenrfeb99', 'colenroct99',\n",
       "       'colenrfeb00', 'colenroct00', 'colenrfeb01', 'colenroct01',\n",
       "       'colenrfeb02', 'colenroct02', 'colenrfeb03', 'colenroct03',\n",
       "       'colenrfeb04', 'colenroct04', 'colenrfeb05', 'colenroct05',\n",
       "       'colenrfeb06', 'colenroct06', 'colenrfeb07', 'colenroct07',\n",
       "       'colenrfeb08', 'colenroct08', 'colenrfeb09', 'colenroct09',\n",
       "       'colenrfeb10', 'colenroct10', 'colenrfeb11', 'colenroct11',\n",
       "       'colenrfeb12', 'colenroct12', 'colenrfeb13', 'colenroct13',\n",
       "       'colenrfeb14', 'colenroct14', 'colenrfeb15', 'colenroct15',\n",
       "       'colenrfeb16', 'colenroct16', 'colenrfeb17', 'colenroct17'],\n",
       "      dtype='object')"
      ]
     },
     "execution_count": 61,
     "metadata": {},
     "output_type": "execute_result"
    }
   ],
   "source": [
    "df.columns"
   ]
  },
  {
   "cell_type": "code",
   "execution_count": 63,
   "id": "938eaabb-6d83-464c-9273-6dba84c9589d",
   "metadata": {},
   "outputs": [],
   "source": [
    "work_df = df.filter(like = \"weeksworked\")"
   ]
  },
  {
   "cell_type": "code",
   "execution_count": 65,
   "id": "02820b83-38c2-4cea-b48a-02a0b6882e1d",
   "metadata": {},
   "outputs": [
    {
     "name": "stdout",
     "output_type": "stream",
     "text": [
      "<class 'pandas.core.frame.DataFrame'>\n",
      "Index: 8984 entries, 100061 to 999963\n",
      "Data columns (total 18 columns):\n",
      " #   Column         Non-Null Count  Dtype  \n",
      "---  ------         --------------  -----  \n",
      " 0   weeksworked00  8603 non-null   float64\n",
      " 1   weeksworked01  8564 non-null   float64\n",
      " 2   weeksworked02  8556 non-null   float64\n",
      " 3   weeksworked03  8490 non-null   float64\n",
      " 4   weeksworked04  8458 non-null   float64\n",
      " 5   weeksworked05  8403 non-null   float64\n",
      " 6   weeksworked06  8340 non-null   float64\n",
      " 7   weeksworked07  8272 non-null   float64\n",
      " 8   weeksworked08  8186 non-null   float64\n",
      " 9   weeksworked09  8146 non-null   float64\n",
      " 10  weeksworked10  8054 non-null   float64\n",
      " 11  weeksworked11  7968 non-null   float64\n",
      " 12  weeksworked12  7747 non-null   float64\n",
      " 13  weeksworked13  7680 non-null   float64\n",
      " 14  weeksworked14  7612 non-null   float64\n",
      " 15  weeksworked15  7389 non-null   float64\n",
      " 16  weeksworked16  7068 non-null   float64\n",
      " 17  weeksworked17  6670 non-null   float64\n",
      "dtypes: float64(18)\n",
      "memory usage: 1.3 MB\n"
     ]
    }
   ],
   "source": [
    "work_df.info()"
   ]
  },
  {
   "cell_type": "markdown",
   "id": "72d35a92-8da8-43f3-8ae0-a6830e2dce83",
   "metadata": {},
   "source": [
    "## Select columns based on \"datatype\""
   ]
  },
  {
   "cell_type": "code",
   "execution_count": 90,
   "id": "4def9256-1970-4e2b-bf4a-eb291f4dcaa8",
   "metadata": {},
   "outputs": [
    {
     "data": {
      "text/plain": [
       "float64     29\n",
       "category    29\n",
       "category    12\n",
       "category    10\n",
       "int64        2\n",
       "category     1\n",
       "category     1\n",
       "category     1\n",
       "category     1\n",
       "category     1\n",
       "category     1\n",
       "Name: count, dtype: int64"
      ]
     },
     "execution_count": 90,
     "metadata": {},
     "output_type": "execute_result"
    }
   ],
   "source": [
    "df.dtypes.value_counts()"
   ]
  },
  {
   "cell_type": "code",
   "execution_count": 92,
   "id": "8b0a3a30-1c6e-460f-9bc7-01ee830672e4",
   "metadata": {},
   "outputs": [],
   "source": [
    "#Select all category columns\n",
    "\n",
    "df_category = df.select_dtypes(include = [\"category\"])"
   ]
  },
  {
   "cell_type": "code",
   "execution_count": 94,
   "id": "22b9667d-91df-4177-9901-d9b57804f6d0",
   "metadata": {},
   "outputs": [
    {
     "name": "stdout",
     "output_type": "stream",
     "text": [
      "<class 'pandas.core.frame.DataFrame'>\n",
      "Index: 8984 entries, 100061 to 999963\n",
      "Data columns (total 57 columns):\n",
      " #   Column                 Non-Null Count  Dtype   \n",
      "---  ------                 --------------  -----   \n",
      " 0   gender                 8984 non-null   category\n",
      " 1   maritalstatus          6672 non-null   category\n",
      " 2   weeklyhrscomputer      5792 non-null   category\n",
      " 3   weeklyhrstv            6711 non-null   category\n",
      " 4   highestdegree          8953 non-null   category\n",
      " 5   govprovidejobs         1833 non-null   category\n",
      " 6   govpricecontrols       1859 non-null   category\n",
      " 7   govhealthcare          1874 non-null   category\n",
      " 8   govelderliving         1872 non-null   category\n",
      " 9   govindhelp             1815 non-null   category\n",
      " 10  govunemp               1811 non-null   category\n",
      " 11  govincomediff          1775 non-null   category\n",
      " 12  govcollegefinance      1875 non-null   category\n",
      " 13  govdecenthousing       1847 non-null   category\n",
      " 14  govprotectenvironment  1860 non-null   category\n",
      " 15  colenrfeb97            1250 non-null   category\n",
      " 16  colenroct97            8501 non-null   category\n",
      " 17  colenrfeb98            8501 non-null   category\n",
      " 18  colenroct98            8888 non-null   category\n",
      " 19  colenrfeb99            8865 non-null   category\n",
      " 20  colenroct99            8851 non-null   category\n",
      " 21  colenrfeb00            8820 non-null   category\n",
      " 22  colenroct00            8805 non-null   category\n",
      " 23  colenrfeb01            8786 non-null   category\n",
      " 24  colenroct01            8758 non-null   category\n",
      " 25  colenrfeb02            8732 non-null   category\n",
      " 26  colenroct02            8698 non-null   category\n",
      " 27  colenrfeb03            8658 non-null   category\n",
      " 28  colenroct03            8622 non-null   category\n",
      " 29  colenrfeb04            8578 non-null   category\n",
      " 30  colenroct04            8546 non-null   category\n",
      " 31  colenrfeb05            8508 non-null   category\n",
      " 32  colenroct05            8471 non-null   category\n",
      " 33  colenrfeb06            8426 non-null   category\n",
      " 34  colenroct06            8407 non-null   category\n",
      " 35  colenrfeb07            8352 non-null   category\n",
      " 36  colenroct07            8331 non-null   category\n",
      " 37  colenrfeb08            8289 non-null   category\n",
      " 38  colenroct08            8280 non-null   category\n",
      " 39  colenrfeb09            8236 non-null   category\n",
      " 40  colenroct09            8193 non-null   category\n",
      " 41  colenrfeb10            8116 non-null   category\n",
      " 42  colenroct10            8091 non-null   category\n",
      " 43  colenrfeb11            8037 non-null   category\n",
      " 44  colenroct11            7972 non-null   category\n",
      " 45  colenrfeb12            7794 non-null   category\n",
      " 46  colenroct12            7754 non-null   category\n",
      " 47  colenrfeb13            7754 non-null   category\n",
      " 48  colenroct13            7754 non-null   category\n",
      " 49  colenrfeb14            7624 non-null   category\n",
      " 50  colenroct14            7469 non-null   category\n",
      " 51  colenrfeb15            7469 non-null   category\n",
      " 52  colenroct15            7469 non-null   category\n",
      " 53  colenrfeb16            7036 non-null   category\n",
      " 54  colenroct16            6733 non-null   category\n",
      " 55  colenrfeb17            6733 non-null   category\n",
      " 56  colenroct17            6734 non-null   category\n",
      "dtypes: category(57)\n",
      "memory usage: 580.8 KB\n"
     ]
    }
   ],
   "source": [
    "df_category.info()"
   ]
  },
  {
   "cell_type": "code",
   "execution_count": 96,
   "id": "5c8df4fc-dd2f-4786-bdd7-c92a4248a548",
   "metadata": {},
   "outputs": [],
   "source": [
    "# Select all numeric columns\n",
    "\n",
    "df_numeric = df.select_dtypes(include = [\"number\"])"
   ]
  },
  {
   "cell_type": "code",
   "execution_count": 98,
   "id": "40e102fe-b635-4bc5-8cdf-5f30bcd7b10a",
   "metadata": {},
   "outputs": [
    {
     "name": "stdout",
     "output_type": "stream",
     "text": [
      "<class 'pandas.core.frame.DataFrame'>\n",
      "Index: 8984 entries, 100061 to 999963\n",
      "Data columns (total 31 columns):\n",
      " #   Column                 Non-Null Count  Dtype  \n",
      "---  ------                 --------------  -----  \n",
      " 0   birthmonth             8984 non-null   int64  \n",
      " 1   birthyear              8984 non-null   int64  \n",
      " 2   highestgradecompleted  6663 non-null   float64\n",
      " 3   childathome            4791 non-null   float64\n",
      " 4   childnotathome         4791 non-null   float64\n",
      " 5   wageincome             5091 non-null   float64\n",
      " 6   nightlyhrssleep        6706 non-null   float64\n",
      " 7   satverbal              1406 non-null   float64\n",
      " 8   satmath                1407 non-null   float64\n",
      " 9   gpaoverall             6004 non-null   float64\n",
      " 10  gpaenglish             5798 non-null   float64\n",
      " 11  gpamath                5766 non-null   float64\n",
      " 12  gpascience             5684 non-null   float64\n",
      " 13  weeksworked00          8603 non-null   float64\n",
      " 14  weeksworked01          8564 non-null   float64\n",
      " 15  weeksworked02          8556 non-null   float64\n",
      " 16  weeksworked03          8490 non-null   float64\n",
      " 17  weeksworked04          8458 non-null   float64\n",
      " 18  weeksworked05          8403 non-null   float64\n",
      " 19  weeksworked06          8340 non-null   float64\n",
      " 20  weeksworked07          8272 non-null   float64\n",
      " 21  weeksworked08          8186 non-null   float64\n",
      " 22  weeksworked09          8146 non-null   float64\n",
      " 23  weeksworked10          8054 non-null   float64\n",
      " 24  weeksworked11          7968 non-null   float64\n",
      " 25  weeksworked12          7747 non-null   float64\n",
      " 26  weeksworked13          7680 non-null   float64\n",
      " 27  weeksworked14          7612 non-null   float64\n",
      " 28  weeksworked15          7389 non-null   float64\n",
      " 29  weeksworked16          7068 non-null   float64\n",
      " 30  weeksworked17          6670 non-null   float64\n",
      "dtypes: float64(29), int64(2)\n",
      "memory usage: 2.2 MB\n"
     ]
    }
   ],
   "source": [
    "df_numeric.info()"
   ]
  },
  {
   "cell_type": "markdown",
   "id": "82ed8d71-65a8-44a5-87fd-b30d55cff554",
   "metadata": {},
   "source": [
    "## Select columns using \"regex\" pattern"
   ]
  },
  {
   "cell_type": "code",
   "execution_count": 102,
   "id": "4920b36e-f4f9-4698-8ae8-dc57197c88a2",
   "metadata": {},
   "outputs": [],
   "source": [
    "df_income = df.filter(regex = \"income\")"
   ]
  },
  {
   "cell_type": "code",
   "execution_count": 104,
   "id": "5e32a813-fca4-4411-a670-02cafb408647",
   "metadata": {},
   "outputs": [
    {
     "name": "stdout",
     "output_type": "stream",
     "text": [
      "<class 'pandas.core.frame.DataFrame'>\n",
      "Index: 8984 entries, 100061 to 999963\n",
      "Data columns (total 2 columns):\n",
      " #   Column         Non-Null Count  Dtype   \n",
      "---  ------         --------------  -----   \n",
      " 0   wageincome     5091 non-null   float64 \n",
      " 1   govincomediff  1775 non-null   category\n",
      "dtypes: category(1), float64(1)\n",
      "memory usage: 149.3 KB\n"
     ]
    }
   ],
   "source": [
    "df_income.info()"
   ]
  },
  {
   "cell_type": "code",
   "execution_count": null,
   "id": "8a3dfef0-12ed-407a-b9c8-88c33fb1116e",
   "metadata": {},
   "outputs": [],
   "source": []
  }
 ],
 "metadata": {
  "kernelspec": {
   "display_name": "Python 3 (ipykernel)",
   "language": "python",
   "name": "python3"
  },
  "language_info": {
   "codemirror_mode": {
    "name": "ipython",
    "version": 3
   },
   "file_extension": ".py",
   "mimetype": "text/x-python",
   "name": "python",
   "nbconvert_exporter": "python",
   "pygments_lexer": "ipython3",
   "version": "3.12.4"
  }
 },
 "nbformat": 4,
 "nbformat_minor": 5
}
