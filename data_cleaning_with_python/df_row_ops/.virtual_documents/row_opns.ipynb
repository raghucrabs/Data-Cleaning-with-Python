


import pandas as pd
import numpy as np





df = pd.read_csv("raw_data/nls97.csv")


df.info()





df.set_index("personid", inplace = True)


df.head(3)





df[4:8] #fifth row is index 4





df[4:8].T





df[4:14:2] # Selecting every other row starting from index 4 (row 5)





df.tail(3)





df[-3:]





df.loc[195884:195970] #passing a range of labels


df.loc[[195884,195891,195970]] # Passing a list of index labels





df.iloc[[0,4,5]] # Give a list of row positions- not index labels


df.iloc[0:3] #passing range





df.columns


df.nightlyhrssleep.describe() #statistical info of the nightlyhrssleep column


df.nightlyhrssleep.quantile(0.25)


df.nightlyhrssleep.quantile(0.05)








low_sleep_people = df.loc[df.nightlyhrssleep<=4]


low_sleep_people.shape


low_sleep_people.head(2)





low_sleep_people.childathome.describe()


low_sleep_3_plus_children = df.loc[(df.nightlyhrssleep <= 4) & (df.childathome >= 3)]


low_sleep_3_plus_children.shape





low_sleep_3_plus_children_females = df.loc[(df.nightlyhrssleep <=4) & \
                                            (df.childathome >=3) & \
                                            (df.gender == "Female")
                                           ]


low_sleep_3_plus_children_females.shape





low_sleep_3_plus_child = df.loc[
                                (df.nightlyhrssleep <=4) & \
                                (df.childathome >=3),\
                                ['nightlyhrssleep', 'childathome']
                                ]


low_sleep_3_plus_child.head()



