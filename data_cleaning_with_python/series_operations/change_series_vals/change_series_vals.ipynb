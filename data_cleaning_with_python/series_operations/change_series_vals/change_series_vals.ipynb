{
 "cells": [
  {
   "cell_type": "markdown",
   "id": "982bc578-a2cb-4bac-9ce8-2d070e33c748",
   "metadata": {},
   "source": [
    "## Import libraries\n"
   ]
  },
  {
   "cell_type": "code",
   "execution_count": 3,
   "id": "80b6ecee-7c8b-4c29-9a58-25a97de64f81",
   "metadata": {},
   "outputs": [],
   "source": [
    "import pandas as pd\n",
    "import numpy as np"
   ]
  },
  {
   "cell_type": "markdown",
   "id": "b4bd865c-e837-4cbf-8305-4cf12709ba29",
   "metadata": {},
   "source": [
    "## Read the data"
   ]
  },
  {
   "cell_type": "code",
   "execution_count": 5,
   "id": "107989ed-0b29-40b3-a3bb-e3948784c72c",
   "metadata": {},
   "outputs": [],
   "source": [
    "df = pd.read_csv(\"raw_data/nls97b.csv\")"
   ]
  },
  {
   "cell_type": "code",
   "execution_count": 7,
   "id": "0bea7af1-68d7-4959-8fe3-70afea48c942",
   "metadata": {},
   "outputs": [],
   "source": [
    "df.set_index(\"personid\", inplace=True)"
   ]
  },
  {
   "cell_type": "code",
   "execution_count": 10,
   "id": "5814e50c-1bac-4637-94d0-943f6febe565",
   "metadata": {},
   "outputs": [
    {
     "data": {
      "text/plain": [
       "Index(['gender', 'birthmonth', 'birthyear', 'highestgradecompleted',\n",
       "       'maritalstatus', 'childathome', 'childnotathome', 'wageincome',\n",
       "       'weeklyhrscomputer', 'weeklyhrstv', 'nightlyhrssleep', 'satverbal',\n",
       "       'satmath', 'gpaoverall', 'gpaenglish', 'gpamath', 'gpascience',\n",
       "       'highestdegree', 'govprovidejobs', 'govpricecontrols', 'govhealthcare',\n",
       "       'govelderliving', 'govindhelp', 'govunemp', 'govincomediff',\n",
       "       'govcollegefinance', 'govdecenthousing', 'govprotectenvironment',\n",
       "       'weeksworked00', 'weeksworked01', 'weeksworked02', 'weeksworked03',\n",
       "       'weeksworked04', 'weeksworked05', 'weeksworked06', 'weeksworked07',\n",
       "       'weeksworked08', 'weeksworked09', 'weeksworked10', 'weeksworked11',\n",
       "       'weeksworked12', 'weeksworked13', 'weeksworked14', 'weeksworked15',\n",
       "       'weeksworked16', 'weeksworked17', 'colenrfeb97', 'colenroct97',\n",
       "       'colenrfeb98', 'colenroct98', 'colenrfeb99', 'colenroct99',\n",
       "       'colenrfeb00', 'colenroct00', 'colenrfeb01', 'colenroct01',\n",
       "       'colenrfeb02', 'colenroct02', 'colenrfeb03', 'colenroct03',\n",
       "       'colenrfeb04', 'colenroct04', 'colenrfeb05', 'colenroct05',\n",
       "       'colenrfeb06', 'colenroct06', 'colenrfeb07', 'colenroct07',\n",
       "       'colenrfeb08', 'colenroct08', 'colenrfeb09', 'colenroct09',\n",
       "       'colenrfeb10', 'colenroct10', 'colenrfeb11', 'colenroct11',\n",
       "       'colenrfeb12', 'colenroct12', 'colenrfeb13', 'colenroct13',\n",
       "       'colenrfeb14', 'colenroct14', 'colenrfeb15', 'colenroct15',\n",
       "       'colenrfeb16', 'colenroct16', 'colenrfeb17', 'colenroct17'],\n",
       "      dtype='object')"
      ]
     },
     "execution_count": 10,
     "metadata": {},
     "output_type": "execute_result"
    }
   ],
   "source": [
    "df.columns"
   ]
  },
  {
   "cell_type": "markdown",
   "id": "698bbd60-1ec8-4391-b8be-90da4bcc5d0b",
   "metadata": {},
   "source": [
    "## Edit all values based on a scalar"
   ]
  },
  {
   "cell_type": "markdown",
   "id": "c93aec83-1445-448d-8acf-37f6ad2ebc77",
   "metadata": {},
   "source": [
    "### Multiply overall gpa by 100"
   ]
  },
  {
   "cell_type": "code",
   "execution_count": 14,
   "id": "0ecb6448-9b37-4d93-a82f-c460415eb910",
   "metadata": {},
   "outputs": [
    {
     "data": {
      "text/plain": [
       "personid\n",
       "100061    3.06\n",
       "100139     NaN\n",
       "100284     NaN\n",
       "100292    3.45\n",
       "100583    2.91\n",
       "Name: gpaoverall, dtype: float64"
      ]
     },
     "execution_count": 14,
     "metadata": {},
     "output_type": "execute_result"
    }
   ],
   "source": [
    "df.gpaoverall.head()"
   ]
  },
  {
   "cell_type": "code",
   "execution_count": 16,
   "id": "b6cff441-207b-4c1f-865a-3f8aade4086c",
   "metadata": {},
   "outputs": [],
   "source": [
    "gpaoverall_100 = df['gpaoverall']*100"
   ]
  },
  {
   "cell_type": "code",
   "execution_count": 20,
   "id": "a5f827a1-e928-469c-ba55-73643a7cf228",
   "metadata": {},
   "outputs": [
    {
     "data": {
      "text/plain": [
       "personid\n",
       "100061    306.0\n",
       "100139      NaN\n",
       "100284      NaN\n",
       "100292    345.0\n",
       "100583    291.0\n",
       "Name: gpaoverall, dtype: float64"
      ]
     },
     "execution_count": 20,
     "metadata": {},
     "output_type": "execute_result"
    }
   ],
   "source": [
    "gpaoverall_100.head()"
   ]
  },
  {
   "cell_type": "markdown",
   "id": "dd407039-24f9-414b-9697-5bdb4a841967",
   "metadata": {},
   "source": [
    "## Setting values using index labels"
   ]
  },
  {
   "cell_type": "code",
   "execution_count": 23,
   "id": "2a6712bb-272e-4839-8c8a-e22a56fd276a",
   "metadata": {},
   "outputs": [
    {
     "data": {
      "text/plain": [
       "personid\n",
       "100061    3.00\n",
       "100139    0.00\n",
       "100284    0.00\n",
       "100292    0.00\n",
       "100583    2.91\n",
       "Name: gpaoverall, dtype: float64"
      ]
     },
     "execution_count": 23,
     "metadata": {},
     "output_type": "execute_result"
    }
   ],
   "source": [
    "df.loc[[100061], \"gpaoverall\"] = 3\n",
    "\n",
    "df.loc[[100139,100284,100292], 'gpaoverall'] = 0\n",
    "\n",
    "df.gpaoverall.head()"
   ]
  },
  {
   "cell_type": "markdown",
   "id": "e007f860-e19c-475c-853b-7c0bff3981e5",
   "metadata": {},
   "source": [
    "## Set values using an operator on more than one series"
   ]
  },
  {
   "cell_type": "markdown",
   "id": "2e38af0a-8f75-4bdf-b256-3680f56dd01b",
   "metadata": {},
   "source": [
    "### Using + operator to calculate total number of children from 2 columns - childathome and childnotathome"
   ]
  },
  {
   "cell_type": "code",
   "execution_count": 29,
   "id": "8fa0b1ee-3ce7-4c34-8dc7-9520f04f20ce",
   "metadata": {},
   "outputs": [
    {
     "data": {
      "text/plain": [
       "maritalstatus\n",
       "Married          3066\n",
       "Never-married    2766\n",
       "Divorced          663\n",
       "Separated         154\n",
       "Widowed            23\n",
       "Name: count, dtype: int64"
      ]
     },
     "execution_count": 29,
     "metadata": {},
     "output_type": "execute_result"
    }
   ],
   "source": [
    "df.maritalstatus.value_counts()"
   ]
  },
  {
   "cell_type": "code",
   "execution_count": 33,
   "id": "0272f773-1d19-4506-94de-5b295fdb99ec",
   "metadata": {},
   "outputs": [
    {
     "data": {
      "text/plain": [
       "totalchildren\n",
       "0.0     3711\n",
       "1.0      575\n",
       "2.0      292\n",
       "3.0      119\n",
       "4.0       53\n",
       "5.0       25\n",
       "6.0        8\n",
       "7.0        4\n",
       "8.0        3\n",
       "12.0       1\n",
       "Name: count, dtype: int64"
      ]
     },
     "execution_count": 33,
     "metadata": {},
     "output_type": "execute_result"
    }
   ],
   "source": [
    "df['totalchildren'] = df.childathome = df.childnotathome\n",
    "\n",
    "df.totalchildren.value_counts().sort_index()"
   ]
  },
  {
   "cell_type": "markdown",
   "id": "4beea433-d96f-43d3-a682-2092118c526c",
   "metadata": {},
   "source": [
    "### Checking the data of children for married people"
   ]
  },
  {
   "cell_type": "code",
   "execution_count": 36,
   "id": "751dabaa-32f8-48d5-a1bc-a767afaca061",
   "metadata": {},
   "outputs": [
    {
     "data": {
      "text/html": [
       "<div>\n",
       "<style scoped>\n",
       "    .dataframe tbody tr th:only-of-type {\n",
       "        vertical-align: middle;\n",
       "    }\n",
       "\n",
       "    .dataframe tbody tr th {\n",
       "        vertical-align: top;\n",
       "    }\n",
       "\n",
       "    .dataframe thead th {\n",
       "        text-align: right;\n",
       "    }\n",
       "</style>\n",
       "<table border=\"1\" class=\"dataframe\">\n",
       "  <thead>\n",
       "    <tr style=\"text-align: right;\">\n",
       "      <th></th>\n",
       "      <th>childathome</th>\n",
       "      <th>childnotathome</th>\n",
       "      <th>totalchildren</th>\n",
       "    </tr>\n",
       "    <tr>\n",
       "      <th>personid</th>\n",
       "      <th></th>\n",
       "      <th></th>\n",
       "      <th></th>\n",
       "    </tr>\n",
       "  </thead>\n",
       "  <tbody>\n",
       "    <tr>\n",
       "      <th>100061</th>\n",
       "      <td>0.0</td>\n",
       "      <td>0.0</td>\n",
       "      <td>0.0</td>\n",
       "    </tr>\n",
       "    <tr>\n",
       "      <th>100139</th>\n",
       "      <td>0.0</td>\n",
       "      <td>0.0</td>\n",
       "      <td>0.0</td>\n",
       "    </tr>\n",
       "    <tr>\n",
       "      <th>100583</th>\n",
       "      <td>0.0</td>\n",
       "      <td>0.0</td>\n",
       "      <td>0.0</td>\n",
       "    </tr>\n",
       "    <tr>\n",
       "      <th>100833</th>\n",
       "      <td>0.0</td>\n",
       "      <td>0.0</td>\n",
       "      <td>0.0</td>\n",
       "    </tr>\n",
       "    <tr>\n",
       "      <th>101288</th>\n",
       "      <td>0.0</td>\n",
       "      <td>0.0</td>\n",
       "      <td>0.0</td>\n",
       "    </tr>\n",
       "    <tr>\n",
       "      <th>...</th>\n",
       "      <td>...</td>\n",
       "      <td>...</td>\n",
       "      <td>...</td>\n",
       "    </tr>\n",
       "    <tr>\n",
       "      <th>998472</th>\n",
       "      <td>NaN</td>\n",
       "      <td>NaN</td>\n",
       "      <td>NaN</td>\n",
       "    </tr>\n",
       "    <tr>\n",
       "      <th>998556</th>\n",
       "      <td>0.0</td>\n",
       "      <td>0.0</td>\n",
       "      <td>0.0</td>\n",
       "    </tr>\n",
       "    <tr>\n",
       "      <th>998997</th>\n",
       "      <td>5.0</td>\n",
       "      <td>5.0</td>\n",
       "      <td>5.0</td>\n",
       "    </tr>\n",
       "    <tr>\n",
       "      <th>999291</th>\n",
       "      <td>NaN</td>\n",
       "      <td>NaN</td>\n",
       "      <td>NaN</td>\n",
       "    </tr>\n",
       "    <tr>\n",
       "      <th>999963</th>\n",
       "      <td>0.0</td>\n",
       "      <td>0.0</td>\n",
       "      <td>0.0</td>\n",
       "    </tr>\n",
       "  </tbody>\n",
       "</table>\n",
       "<p>3066 rows × 3 columns</p>\n",
       "</div>"
      ],
      "text/plain": [
       "          childathome  childnotathome  totalchildren\n",
       "personid                                            \n",
       "100061            0.0             0.0            0.0\n",
       "100139            0.0             0.0            0.0\n",
       "100583            0.0             0.0            0.0\n",
       "100833            0.0             0.0            0.0\n",
       "101288            0.0             0.0            0.0\n",
       "...               ...             ...            ...\n",
       "998472            NaN             NaN            NaN\n",
       "998556            0.0             0.0            0.0\n",
       "998997            5.0             5.0            5.0\n",
       "999291            NaN             NaN            NaN\n",
       "999963            0.0             0.0            0.0\n",
       "\n",
       "[3066 rows x 3 columns]"
      ]
     },
     "execution_count": 36,
     "metadata": {},
     "output_type": "execute_result"
    }
   ],
   "source": [
    "df.loc[df.maritalstatus == 'Married',['childathome', 'childnotathome', 'totalchildren']]"
   ]
  },
  {
   "cell_type": "markdown",
   "id": "871cddcc-3df0-4202-a80e-2b3476e791d9",
   "metadata": {},
   "source": [
    "## Set the values of some values for the mean "
   ]
  },
  {
   "cell_type": "code",
   "execution_count": 42,
   "id": "cdce09f1-8386-48e2-a7b6-00c494317c69",
   "metadata": {},
   "outputs": [
    {
     "data": {
      "text/plain": [
       "personid\n",
       "100061    2.82\n",
       "100139    2.82\n",
       "100284    2.82\n",
       "100292    2.82\n",
       "100583    2.91\n",
       "Name: gpaoverall, dtype: float64"
      ]
     },
     "execution_count": 42,
     "metadata": {},
     "output_type": "execute_result"
    }
   ],
   "source": [
    "df.loc[100061:100292, 'gpaoverall'] = df.gpaoverall.mean().round(2)\n",
    "\n",
    "df.gpaoverall.head()"
   ]
  },
  {
   "cell_type": "markdown",
   "id": "9e125ad3-6b29-472c-bd0c-bbaa9fa29128",
   "metadata": {},
   "source": [
    "## Set the values using position"
   ]
  },
  {
   "cell_type": "raw",
   "id": "162a3311-8f2e-4227-b7fa-f04bbd56fcbd",
   "metadata": {},
   "source": [
    "Use the iloc accessor to select by position. An integer, or slice notation (start:stop:step) can be used\n",
    "to the left of the comma to indicate the rows where the values should be changed\n",
    "\n",
    "An integer is used to the right of the comma to select the column.\n",
    "\n",
    "The gpaoverall column is in 14th position(or 13 considering zero-based index)"
   ]
  },
  {
   "cell_type": "code",
   "execution_count": 46,
   "id": "6789df0b-182f-4ffa-a1dc-9b9911df78a7",
   "metadata": {},
   "outputs": [
    {
     "data": {
      "text/plain": [
       "personid\n",
       "100061    2.00\n",
       "100139    1.00\n",
       "100284    1.00\n",
       "100292    1.00\n",
       "100583    2.91\n",
       "Name: gpaoverall, dtype: float64"
      ]
     },
     "execution_count": 46,
     "metadata": {},
     "output_type": "execute_result"
    }
   ],
   "source": [
    "df.iloc[0,13] =2\n",
    "\n",
    "df.iloc[1:4 , 13] = 1\n",
    "\n",
    "df.gpaoverall.head()"
   ]
  },
  {
   "cell_type": "markdown",
   "id": "cfaaac5c-d206-4ee2-95a1-cd08944a2de0",
   "metadata": {},
   "source": [
    "## Set the gpa values after filtering"
   ]
  },
  {
   "cell_type": "markdown",
   "id": "f80df93e-3298-4494-8c09-435c1fcb92c2",
   "metadata": {},
   "source": [
    "### Change all the gpa values over 4 to 4"
   ]
  },
  {
   "cell_type": "code",
   "execution_count": 52,
   "id": "1b7c8634-9e05-46e7-b5e0-8d5ce4379913",
   "metadata": {},
   "outputs": [
    {
     "data": {
      "text/plain": [
       "personid\n",
       "312410    4.17\n",
       "639701    4.11\n",
       "850001    4.10\n",
       "279096    4.08\n",
       "620216    4.07\n",
       "Name: gpaoverall, dtype: float64"
      ]
     },
     "execution_count": 52,
     "metadata": {},
     "output_type": "execute_result"
    }
   ],
   "source": [
    "df.gpaoverall.nlargest()"
   ]
  },
  {
   "cell_type": "code",
   "execution_count": 54,
   "id": "755fe505-4b20-4a98-8d8d-8d669f4ba015",
   "metadata": {},
   "outputs": [],
   "source": [
    "df.loc[df.gpaoverall >4, 'gpaoverall'] = 4"
   ]
  },
  {
   "cell_type": "code",
   "execution_count": 56,
   "id": "aab45986-096f-4336-868a-5536064cbaaf",
   "metadata": {},
   "outputs": [
    {
     "data": {
      "text/plain": [
       "personid\n",
       "112756    4.0\n",
       "119784    4.0\n",
       "160193    4.0\n",
       "250666    4.0\n",
       "271961    4.0\n",
       "Name: gpaoverall, dtype: float64"
      ]
     },
     "execution_count": 56,
     "metadata": {},
     "output_type": "execute_result"
    }
   ],
   "source": [
    "df.gpaoverall.nlargest()"
   ]
  },
  {
   "cell_type": "code",
   "execution_count": null,
   "id": "27394db8-2b0f-4eb2-a0c4-e0c018a0f326",
   "metadata": {},
   "outputs": [],
   "source": []
  }
 ],
 "metadata": {
  "kernelspec": {
   "display_name": "Python 3 (ipykernel)",
   "language": "python",
   "name": "python3"
  },
  "language_info": {
   "codemirror_mode": {
    "name": "ipython",
    "version": 3
   },
   "file_extension": ".py",
   "mimetype": "text/x-python",
   "name": "python",
   "nbconvert_exporter": "python",
   "pygments_lexer": "ipython3",
   "version": "3.12.4"
  }
 },
 "nbformat": 4,
 "nbformat_minor": 5
}
