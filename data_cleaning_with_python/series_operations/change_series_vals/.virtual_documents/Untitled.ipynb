


import pandas as pd
import numpy as np





df = pd.read_csv("raw_data/nls97b.csv")


df.set_index("personid", inplace=True)


df.columns








df.gpaoverall.head()


gpaoverall_100 = df['gpaoverall']*100


gpaoverall_100.head()





df.loc[[100061], "gpaoverall"] = 3

df.loc[[100139,100284,100292], 'gpaoverall'] = 0

df.gpaoverall.head()








df.maritalstatus.value_counts()


df['totalchildren'] = df.childathome = df.childnotathome

df.totalchildren.value_counts().sort_index()





df.loc[df.maritalstatus == 'Married',['childathome', 'childnotathome', 'totalchildren']]





df.loc[100061:100292, 'gpaoverall'] = df.gpaoverall.mean().round(2)

df.gpaoverall.head()








df.iloc[0,13] =2

df.iloc[1:4 , 13] = 1

df.gpaoverall.head()








df.gpaoverall.nlargest()


df.loc[df.gpaoverall >4, 'gpaoverall'] = 4


df.gpaoverall.nlargest()



