{
 "cells": [
  {
   "cell_type": "markdown",
   "id": "a6727c07-14c5-46c2-9c81-0140a5d14fbd",
   "metadata": {},
   "source": [
    "## Import libraries"
   ]
  },
  {
   "cell_type": "code",
   "execution_count": 2,
   "id": "b992f6ac-819f-4524-8880-be3ff98783ce",
   "metadata": {},
   "outputs": [],
   "source": [
    "import pandas as pd\n",
    "import numpy as np\n"
   ]
  },
  {
   "cell_type": "markdown",
   "id": "5715fd33-adec-4a8a-945e-3b1ac56ba2e7",
   "metadata": {},
   "source": [
    "## Read the data"
   ]
  },
  {
   "cell_type": "code",
   "execution_count": 5,
   "id": "0255339f-66eb-4046-b0d3-a34cb453d8b1",
   "metadata": {},
   "outputs": [],
   "source": [
    "df = pd.read_csv(\"raw_data/nls97b.csv\")"
   ]
  },
  {
   "cell_type": "code",
   "execution_count": 7,
   "id": "00deb1f3-0da8-456b-8612-994123a7b651",
   "metadata": {},
   "outputs": [],
   "source": [
    "df.set_index(\"personid\", inplace=True)"
   ]
  },
  {
   "cell_type": "code",
   "execution_count": 9,
   "id": "4ebcf52e-07c1-497d-9fe3-8934be5d9084",
   "metadata": {},
   "outputs": [
    {
     "data": {
      "text/plain": [
       "Index(['gender', 'birthmonth', 'birthyear', 'highestgradecompleted',\n",
       "       'maritalstatus', 'childathome', 'childnotathome', 'wageincome',\n",
       "       'weeklyhrscomputer', 'weeklyhrstv', 'nightlyhrssleep', 'satverbal',\n",
       "       'satmath', 'gpaoverall', 'gpaenglish', 'gpamath', 'gpascience',\n",
       "       'highestdegree', 'govprovidejobs', 'govpricecontrols', 'govhealthcare',\n",
       "       'govelderliving', 'govindhelp', 'govunemp', 'govincomediff',\n",
       "       'govcollegefinance', 'govdecenthousing', 'govprotectenvironment',\n",
       "       'weeksworked00', 'weeksworked01', 'weeksworked02', 'weeksworked03',\n",
       "       'weeksworked04', 'weeksworked05', 'weeksworked06', 'weeksworked07',\n",
       "       'weeksworked08', 'weeksworked09', 'weeksworked10', 'weeksworked11',\n",
       "       'weeksworked12', 'weeksworked13', 'weeksworked14', 'weeksworked15',\n",
       "       'weeksworked16', 'weeksworked17', 'colenrfeb97', 'colenroct97',\n",
       "       'colenrfeb98', 'colenroct98', 'colenrfeb99', 'colenroct99',\n",
       "       'colenrfeb00', 'colenroct00', 'colenrfeb01', 'colenroct01',\n",
       "       'colenrfeb02', 'colenroct02', 'colenrfeb03', 'colenroct03',\n",
       "       'colenrfeb04', 'colenroct04', 'colenrfeb05', 'colenroct05',\n",
       "       'colenrfeb06', 'colenroct06', 'colenrfeb07', 'colenroct07',\n",
       "       'colenrfeb08', 'colenroct08', 'colenrfeb09', 'colenroct09',\n",
       "       'colenrfeb10', 'colenroct10', 'colenrfeb11', 'colenroct11',\n",
       "       'colenrfeb12', 'colenroct12', 'colenrfeb13', 'colenroct13',\n",
       "       'colenrfeb14', 'colenroct14', 'colenrfeb15', 'colenroct15',\n",
       "       'colenrfeb16', 'colenroct16', 'colenrfeb17', 'colenroct17'],\n",
       "      dtype='object')"
      ]
     },
     "execution_count": 9,
     "metadata": {},
     "output_type": "execute_result"
    }
   ],
   "source": [
    "df.columns"
   ]
  },
  {
   "cell_type": "markdown",
   "id": "8bc3aedf-43d9-46f0-af41-91ee4adc2144",
   "metadata": {},
   "source": [
    "## Descriptive statistics of gpaoverall column"
   ]
  },
  {
   "cell_type": "code",
   "execution_count": 12,
   "id": "ee3305f8-0351-4704-a8a4-08ff94c32d0e",
   "metadata": {},
   "outputs": [],
   "source": [
    "gpa_overall = df.gpaoverall"
   ]
  },
  {
   "cell_type": "code",
   "execution_count": 14,
   "id": "f59a63b1-7ac6-4fe4-8f20-043a449f0853",
   "metadata": {},
   "outputs": [
    {
     "data": {
      "text/plain": [
       "pandas.core.series.Series"
      ]
     },
     "execution_count": 14,
     "metadata": {},
     "output_type": "execute_result"
    }
   ],
   "source": [
    "type(gpa_overall)"
   ]
  },
  {
   "cell_type": "code",
   "execution_count": 20,
   "id": "f71d88a1-8142-459d-8bcb-0d18a0ac97d4",
   "metadata": {},
   "outputs": [
    {
     "data": {
      "text/plain": [
       "count    6004.00\n",
       "mean        2.82\n",
       "std         0.62\n",
       "min         0.10\n",
       "25%         2.43\n",
       "50%         2.86\n",
       "75%         3.26\n",
       "max         4.17\n",
       "Name: gpaoverall, dtype: float64"
      ]
     },
     "execution_count": 20,
     "metadata": {},
     "output_type": "execute_result"
    }
   ],
   "source": [
    "gpa_overall.describe().round(2)"
   ]
  },
  {
   "cell_type": "markdown",
   "id": "896c44fd-adb7-44c0-a036-9677d83565d9",
   "metadata": {},
   "source": [
    "## Getting quantiles "
   ]
  },
  {
   "cell_type": "code",
   "execution_count": 23,
   "id": "3f67d70b-152d-4a0d-9df7-64a2e810a689",
   "metadata": {},
   "outputs": [
    {
     "data": {
      "text/plain": [
       "0.1    2.02\n",
       "0.2    2.31\n",
       "0.3    2.52\n",
       "0.4    2.70\n",
       "0.5    2.86\n",
       "0.6    3.01\n",
       "0.7    3.17\n",
       "0.8    3.36\n",
       "0.9    3.60\n",
       "1.0    4.17\n",
       "Name: gpaoverall, dtype: float64"
      ]
     },
     "execution_count": 23,
     "metadata": {},
     "output_type": "execute_result"
    }
   ],
   "source": [
    "gpa_overall.quantile(np.arange(0.1,1.1,0.1))"
   ]
  },
  {
   "cell_type": "markdown",
   "id": "35606476-c911-42a9-8294-dc98174aa27b",
   "metadata": {},
   "source": [
    "## Show descriptives for a subset of series"
   ]
  },
  {
   "cell_type": "markdown",
   "id": "2d441469-500e-44f9-92d4-ac42b6ca1b75",
   "metadata": {},
   "source": [
    "### Filtering the data"
   ]
  },
  {
   "cell_type": "code",
   "execution_count": 26,
   "id": "6294b92d-711c-4e19-ac3d-002cbd6cc5a1",
   "metadata": {},
   "outputs": [
    {
     "data": {
      "text/plain": [
       "personid\n",
       "100061    3.06\n",
       "100292    3.45\n",
       "101526    3.37\n",
       "101527    3.26\n",
       "102125    3.14\n",
       "Name: gpaoverall, dtype: float64"
      ]
     },
     "execution_count": 26,
     "metadata": {},
     "output_type": "execute_result"
    }
   ],
   "source": [
    "gpa_overall.loc[gpa_overall.between(3,3.5)].head(5)"
   ]
  },
  {
   "cell_type": "markdown",
   "id": "a33b12e4-cad1-41b4-ad61-c058b8233854",
   "metadata": {},
   "source": [
    "### Getting the sum"
   ]
  },
  {
   "cell_type": "code",
   "execution_count": 31,
   "id": "c60f8d58-f0ce-4494-91fa-1324c97d0eda",
   "metadata": {},
   "outputs": [
    {
     "data": {
      "text/plain": [
       "5416.26"
      ]
     },
     "execution_count": 31,
     "metadata": {},
     "output_type": "execute_result"
    }
   ],
   "source": [
    "gpa_overall.loc[gpa_overall.between(3,3.5)].sum()"
   ]
  },
  {
   "cell_type": "markdown",
   "id": "66e7ad07-921b-4e83-ba28-f1126b9fa72e",
   "metadata": {},
   "source": [
    "### Getting the count"
   ]
  },
  {
   "cell_type": "code",
   "execution_count": 34,
   "id": "372750ec-2148-4db0-aeab-4c5f00ac3bd1",
   "metadata": {},
   "outputs": [
    {
     "data": {
      "text/plain": [
       "1679"
      ]
     },
     "execution_count": 34,
     "metadata": {},
     "output_type": "execute_result"
    }
   ],
   "source": [
    "gpa_overall.loc[gpa_overall.between(3,3.5)].count()"
   ]
  },
  {
   "cell_type": "markdown",
   "id": "d3d7e5bd-527c-4fa5-b760-fd50cc714449",
   "metadata": {},
   "source": [
    "### GPA overall less than 2 or greater than 4"
   ]
  },
  {
   "cell_type": "code",
   "execution_count": 38,
   "id": "c81b0906-4f9e-4460-89bd-23ad7f0dfb0f",
   "metadata": {},
   "outputs": [
    {
     "data": {
      "text/plain": [
       "personid\n",
       "932782    1.90\n",
       "561335    1.82\n",
       "850001    4.10\n",
       "292455    1.97\n",
       "644271    1.97\n",
       "Name: gpaoverall, dtype: float64"
      ]
     },
     "execution_count": 38,
     "metadata": {},
     "output_type": "execute_result"
    }
   ],
   "source": [
    "gpa_overall.loc[(gpa_overall<2) | (gpa_overall>4)].sample(5, random_state =2)"
   ]
  },
  {
   "cell_type": "markdown",
   "id": "ed3eaa9a-b921-4f0c-a70c-e2c8854d7f8e",
   "metadata": {},
   "source": [
    "## Gettting the stats of GPA overall greater than 99th quantile"
   ]
  },
  {
   "cell_type": "code",
   "execution_count": 41,
   "id": "8b262e01-d602-40b9-86e4-dc3603822977",
   "metadata": {},
   "outputs": [
    {
     "data": {
      "text/plain": [
       "count     60.000000\n",
       "min        3.980000\n",
       "max        4.170000\n",
       "sum      240.560000\n",
       "mean       4.009333\n",
       "Name: gpaoverall, dtype: float64"
      ]
     },
     "execution_count": 41,
     "metadata": {},
     "output_type": "execute_result"
    }
   ],
   "source": [
    "gpa_overall.loc[gpa_overall>gpa_overall.quantile(0.99)].agg(['count','min','max','sum','mean'])"
   ]
  },
  {
   "cell_type": "markdown",
   "id": "c271efa4-1846-4977-bd00-e7e593b635ae",
   "metadata": {},
   "source": [
    "## Testing conditions accross all values"
   ]
  },
  {
   "cell_type": "markdown",
   "id": "93b3be2b-7f17-4a01-8bf2-a9dcd5fa6a61",
   "metadata": {},
   "source": [
    "### Check if any GPA values are greater than 4"
   ]
  },
  {
   "cell_type": "code",
   "execution_count": 47,
   "id": "266ec666-3e10-4da0-8ffd-6478fc6f6a95",
   "metadata": {},
   "outputs": [
    {
     "data": {
      "text/plain": [
       "True"
      ]
     },
     "execution_count": 47,
     "metadata": {},
     "output_type": "execute_result"
    }
   ],
   "source": [
    "(gpa_overall>4).any()"
   ]
  },
  {
   "cell_type": "markdown",
   "id": "6bcd4e33-26cd-4fd6-b06d-432366cc6749",
   "metadata": {},
   "source": [
    "### Check whether all GPA values are above or equal to zero"
   ]
  },
  {
   "cell_type": "code",
   "execution_count": 50,
   "id": "52a8ef5d-1434-4500-bf20-8d2215ba8ade",
   "metadata": {},
   "outputs": [
    {
     "data": {
      "text/plain": [
       "False"
      ]
     },
     "execution_count": 50,
     "metadata": {},
     "output_type": "execute_result"
    }
   ],
   "source": [
    "(gpa_overall >=0).all()"
   ]
  },
  {
   "cell_type": "markdown",
   "id": "85441605-39c6-4779-8648-4f9c51ddfb0e",
   "metadata": {},
   "source": [
    "### Number of people with GPA >0"
   ]
  },
  {
   "cell_type": "code",
   "execution_count": 53,
   "id": "b96525e9-9b1d-4f20-aadb-8b6ab8b0c535",
   "metadata": {},
   "outputs": [
    {
     "data": {
      "text/plain": [
       "6004"
      ]
     },
     "execution_count": 53,
     "metadata": {},
     "output_type": "execute_result"
    }
   ],
   "source": [
    "(gpa_overall >=0).sum()"
   ]
  },
  {
   "cell_type": "markdown",
   "id": "f88a2a74-8d0f-452d-9806-38c8149dbfee",
   "metadata": {},
   "source": [
    "### Number of people with GPA = 0"
   ]
  },
  {
   "cell_type": "code",
   "execution_count": 56,
   "id": "8dba1042-90d2-4619-a67c-489fda38802b",
   "metadata": {},
   "outputs": [
    {
     "data": {
      "text/plain": [
       "0"
      ]
     },
     "execution_count": 56,
     "metadata": {},
     "output_type": "execute_result"
    }
   ],
   "source": [
    "(gpa_overall == 0).sum()"
   ]
  },
  {
   "cell_type": "markdown",
   "id": "2ff1e3fa-ab1f-4f8f-b977-78b161d3e8f0",
   "metadata": {},
   "source": [
    "### Number of people with missing values in GPA"
   ]
  },
  {
   "cell_type": "code",
   "execution_count": 58,
   "id": "8999ea06-965d-47ca-9a3f-02dfa1f7f551",
   "metadata": {},
   "outputs": [
    {
     "data": {
      "text/plain": [
       "2980"
      ]
     },
     "execution_count": 58,
     "metadata": {},
     "output_type": "execute_result"
    }
   ],
   "source": [
    "(gpa_overall.isnull()).sum()"
   ]
  },
  {
   "cell_type": "markdown",
   "id": "88894349-530d-4453-b1b4-f501d436b2ac",
   "metadata": {},
   "source": [
    "## Show stats for a subset of the series based on values in a different column"
   ]
  },
  {
   "cell_type": "raw",
   "id": "d98679b1-4c56-4884-ba7d-92abd5b56cde",
   "metadata": {},
   "source": [
    "Show the mean highschool GPA for individuals with a wage income in 2016 that's above \n",
    "75th percentile as well as for those whose wage income is below the 25th percentile"
   ]
  },
  {
   "cell_type": "code",
   "execution_count": 63,
   "id": "ac1d1f17-64dd-4922-9730-36b097f11be1",
   "metadata": {},
   "outputs": [
    {
     "data": {
      "text/plain": [
       "3.080417101147028"
      ]
     },
     "execution_count": 63,
     "metadata": {},
     "output_type": "execute_result"
    }
   ],
   "source": [
    "df.loc[df.wageincome > df.wageincome.quantile(0.75), 'gpaoverall'].mean()"
   ]
  },
  {
   "cell_type": "code",
   "execution_count": 65,
   "id": "eaadc007-2fe7-42b6-9df8-75551311f312",
   "metadata": {},
   "outputs": [
    {
     "data": {
      "text/plain": [
       "2.7201434159061284"
      ]
     },
     "execution_count": 65,
     "metadata": {},
     "output_type": "execute_result"
    }
   ],
   "source": [
    "df.loc[df.wageincome < df.wageincome.quantile(0.25), 'gpaoverall'].mean()"
   ]
  },
  {
   "cell_type": "markdown",
   "id": "eed2f890-cdf9-49b2-910d-58fb54c05cfa",
   "metadata": {},
   "source": [
    "## Show descriptives and frequencies for a series containing categorical variable"
   ]
  },
  {
   "cell_type": "code",
   "execution_count": 68,
   "id": "b73ed820-f90a-4f7a-a17e-63da7e106a12",
   "metadata": {},
   "outputs": [
    {
     "data": {
      "text/plain": [
       "count        6672\n",
       "unique          5\n",
       "top       Married\n",
       "freq         3066\n",
       "Name: maritalstatus, dtype: object"
      ]
     },
     "execution_count": 68,
     "metadata": {},
     "output_type": "execute_result"
    }
   ],
   "source": [
    "df.maritalstatus.describe()"
   ]
  },
  {
   "cell_type": "markdown",
   "id": "39b73109-d7a9-4853-9250-82dfdba17f09",
   "metadata": {},
   "source": [
    "### Frequencies"
   ]
  },
  {
   "cell_type": "code",
   "execution_count": 71,
   "id": "5c47eb2c-2d5e-4195-83ac-708461d66a8d",
   "metadata": {},
   "outputs": [
    {
     "data": {
      "text/plain": [
       "maritalstatus\n",
       "Married          3066\n",
       "Never-married    2766\n",
       "Divorced          663\n",
       "Separated         154\n",
       "Widowed            23\n",
       "Name: count, dtype: int64"
      ]
     },
     "execution_count": 71,
     "metadata": {},
     "output_type": "execute_result"
    }
   ],
   "source": [
    "df.maritalstatus.value_counts()"
   ]
  },
  {
   "cell_type": "code",
   "execution_count": null,
   "id": "b22f7041-34f3-44f0-a3e0-56600dab6afd",
   "metadata": {},
   "outputs": [],
   "source": []
  }
 ],
 "metadata": {
  "kernelspec": {
   "display_name": "Python 3 (ipykernel)",
   "language": "python",
   "name": "python3"
  },
  "language_info": {
   "codemirror_mode": {
    "name": "ipython",
    "version": 3
   },
   "file_extension": ".py",
   "mimetype": "text/x-python",
   "name": "python",
   "nbconvert_exporter": "python",
   "pygments_lexer": "ipython3",
   "version": "3.12.4"
  }
 },
 "nbformat": 4,
 "nbformat_minor": 5
}
