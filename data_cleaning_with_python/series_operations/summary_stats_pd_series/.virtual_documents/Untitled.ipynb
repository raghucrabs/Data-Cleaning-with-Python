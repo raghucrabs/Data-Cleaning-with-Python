


import pandas as pd
import numpy as np






df = pd.read_csv("raw_data/nls97b.csv")


df.set_index("personid", inplace=True)


df.columns





gpa_overall = df.gpaoverall


type(gpa_overall)


gpa_overall.describe().round(2)





gpa_overall.quantile(np.arange(0.1,1.1,0.1))








gpa_overall.loc[gpa_overall.between(3,3.5)].head(5)





gpa_overall.loc[gpa_overall.between(3,3.5)].sum()





gpa_overall.loc[gpa_overall.between(3,3.5)].count()





gpa_overall.loc[(gpa_overall<2) | (gpa_overall>4)].sample(5, random_state =2)





gpa_overall.loc[gpa_overall>gpa_overall.quantile(0.99)].agg(['count','min','max','sum','mean'])








(gpa_overall>4).any()





(gpa_overall >=0).all()





(gpa_overall >=0).sum()





(gpa_overall == 0).sum()





(gpa_overall.isnull()).sum()








df.loc[df.wageincome > df.wageincome.quantile(0.75), 'gpaoverall'].mean()


df.loc[df.wageincome < df.wageincome.quantile(0.25), 'gpaoverall'].mean()





df.maritalstatus.describe()





df.maritalstatus.value_counts()



