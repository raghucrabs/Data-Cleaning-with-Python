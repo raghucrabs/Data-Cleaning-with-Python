


import pandas as pd
import numpy as np


df = pd.read_csv("raw_data/nls97b.csv")


df.set_index("personid", inplace = True)


df.columns





gpa_overall = df.gpaoverall


type(gpa_overall)





gpa_overall.head()





gpa_overall.tail()





gpa_overall.index





gpa_overall[:5] #same as head


gpa_overall[-5:] # sames as tail








gpa_overall.loc[100292] 





gpa_overall.loc[[100292]] #passing a list of indexes


gpa_overall.loc[[100061,100139,100284]] #passing a list of indexes





gpa_overall.loc[100061:100833] #passing a range of indexes








gpa_overall.iloc[0]


gpa_overall.iloc[[0]] #passing a one item list


gpa_overall.iloc[[0,1,2,3,4]] #passing a 5 item list


gpa_overall.iloc[:5]


gpa_overall.iloc[-5:]



