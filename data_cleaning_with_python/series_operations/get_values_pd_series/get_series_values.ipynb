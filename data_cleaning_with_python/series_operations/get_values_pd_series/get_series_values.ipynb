{
 "cells": [
  {
   "cell_type": "markdown",
   "id": "e9975c06-cf73-46d0-8fae-5b7dfe5e68ad",
   "metadata": {},
   "source": [
    "## Import the libraries"
   ]
  },
  {
   "cell_type": "code",
   "execution_count": 5,
   "id": "9e3a574d-3bde-494b-8df5-4921cbf89548",
   "metadata": {},
   "outputs": [],
   "source": [
    "import pandas as pd\n",
    "import numpy as np"
   ]
  },
  {
   "cell_type": "code",
   "execution_count": 7,
   "id": "38cfc7f2-eff6-48e1-8c9e-4c276b2530e2",
   "metadata": {},
   "outputs": [],
   "source": [
    "df = pd.read_csv(\"raw_data/nls97b.csv\")"
   ]
  },
  {
   "cell_type": "code",
   "execution_count": 9,
   "id": "29490e6f-1fa6-49ca-9b14-b754b0480551",
   "metadata": {},
   "outputs": [],
   "source": [
    "df.set_index(\"personid\", inplace = True)"
   ]
  },
  {
   "cell_type": "code",
   "execution_count": 13,
   "id": "bd18891e-63cb-42b3-bfe0-6afc69e9aa83",
   "metadata": {},
   "outputs": [
    {
     "data": {
      "text/plain": [
       "Index(['gender', 'birthmonth', 'birthyear', 'highestgradecompleted',\n",
       "       'maritalstatus', 'childathome', 'childnotathome', 'wageincome',\n",
       "       'weeklyhrscomputer', 'weeklyhrstv', 'nightlyhrssleep', 'satverbal',\n",
       "       'satmath', 'gpaoverall', 'gpaenglish', 'gpamath', 'gpascience',\n",
       "       'highestdegree', 'govprovidejobs', 'govpricecontrols', 'govhealthcare',\n",
       "       'govelderliving', 'govindhelp', 'govunemp', 'govincomediff',\n",
       "       'govcollegefinance', 'govdecenthousing', 'govprotectenvironment',\n",
       "       'weeksworked00', 'weeksworked01', 'weeksworked02', 'weeksworked03',\n",
       "       'weeksworked04', 'weeksworked05', 'weeksworked06', 'weeksworked07',\n",
       "       'weeksworked08', 'weeksworked09', 'weeksworked10', 'weeksworked11',\n",
       "       'weeksworked12', 'weeksworked13', 'weeksworked14', 'weeksworked15',\n",
       "       'weeksworked16', 'weeksworked17', 'colenrfeb97', 'colenroct97',\n",
       "       'colenrfeb98', 'colenroct98', 'colenrfeb99', 'colenroct99',\n",
       "       'colenrfeb00', 'colenroct00', 'colenrfeb01', 'colenroct01',\n",
       "       'colenrfeb02', 'colenroct02', 'colenrfeb03', 'colenroct03',\n",
       "       'colenrfeb04', 'colenroct04', 'colenrfeb05', 'colenroct05',\n",
       "       'colenrfeb06', 'colenroct06', 'colenrfeb07', 'colenroct07',\n",
       "       'colenrfeb08', 'colenroct08', 'colenrfeb09', 'colenroct09',\n",
       "       'colenrfeb10', 'colenroct10', 'colenrfeb11', 'colenroct11',\n",
       "       'colenrfeb12', 'colenroct12', 'colenrfeb13', 'colenroct13',\n",
       "       'colenrfeb14', 'colenroct14', 'colenrfeb15', 'colenroct15',\n",
       "       'colenrfeb16', 'colenroct16', 'colenrfeb17', 'colenroct17'],\n",
       "      dtype='object')"
      ]
     },
     "execution_count": 13,
     "metadata": {},
     "output_type": "execute_result"
    }
   ],
   "source": [
    "df.columns"
   ]
  },
  {
   "cell_type": "markdown",
   "id": "eb6400f8-2746-464b-9b43-590a49d8f219",
   "metadata": {},
   "source": [
    "## Create a series from GPA overall column"
   ]
  },
  {
   "cell_type": "code",
   "execution_count": 16,
   "id": "e3510a21-852a-4b53-accf-993541ff739f",
   "metadata": {},
   "outputs": [],
   "source": [
    "gpa_overall = df.gpaoverall"
   ]
  },
  {
   "cell_type": "code",
   "execution_count": 18,
   "id": "4e1ef35b-4beb-499c-8665-79fa3d4a0e9d",
   "metadata": {},
   "outputs": [
    {
     "data": {
      "text/plain": [
       "pandas.core.series.Series"
      ]
     },
     "execution_count": 18,
     "metadata": {},
     "output_type": "execute_result"
    }
   ],
   "source": [
    "type(gpa_overall)"
   ]
  },
  {
   "cell_type": "markdown",
   "id": "ecc5ab1c-3266-418f-88a6-b0b2e3b8b753",
   "metadata": {},
   "source": [
    "## Getting the head of the series object"
   ]
  },
  {
   "cell_type": "code",
   "execution_count": 22,
   "id": "658c56fc-ea95-4ed9-be59-9273030d1890",
   "metadata": {},
   "outputs": [
    {
     "data": {
      "text/plain": [
       "personid\n",
       "100061    3.06\n",
       "100139     NaN\n",
       "100284     NaN\n",
       "100292    3.45\n",
       "100583    2.91\n",
       "Name: gpaoverall, dtype: float64"
      ]
     },
     "execution_count": 22,
     "metadata": {},
     "output_type": "execute_result"
    }
   ],
   "source": [
    "gpa_overall.head()"
   ]
  },
  {
   "cell_type": "markdown",
   "id": "81d4486d-b808-4cc1-a651-7027d4fee004",
   "metadata": {},
   "source": [
    "## Get the tail of the series object"
   ]
  },
  {
   "cell_type": "code",
   "execution_count": 31,
   "id": "16790c6c-95bb-4ece-aa2f-d70a8c718730",
   "metadata": {},
   "outputs": [
    {
     "data": {
      "text/plain": [
       "personid\n",
       "999291    3.11\n",
       "999406    2.17\n",
       "999543     NaN\n",
       "999698     NaN\n",
       "999963    3.78\n",
       "Name: gpaoverall, dtype: float64"
      ]
     },
     "execution_count": 31,
     "metadata": {},
     "output_type": "execute_result"
    }
   ],
   "source": [
    "gpa_overall.tail()"
   ]
  },
  {
   "cell_type": "markdown",
   "id": "a5c36315-f365-466e-b11e-b1387e75820a",
   "metadata": {},
   "source": [
    "## Getting the index of the gpa_overall series"
   ]
  },
  {
   "cell_type": "code",
   "execution_count": 25,
   "id": "37ef4259-a025-4f43-966b-df01c57cb9a8",
   "metadata": {},
   "outputs": [
    {
     "data": {
      "text/plain": [
       "Index([100061, 100139, 100284, 100292, 100583, 100833, 100931, 101089, 101122,\n",
       "       101132,\n",
       "       ...\n",
       "       998997, 999031, 999053, 999087, 999103, 999291, 999406, 999543, 999698,\n",
       "       999963],\n",
       "      dtype='int64', name='personid', length=8984)"
      ]
     },
     "execution_count": 25,
     "metadata": {},
     "output_type": "execute_result"
    }
   ],
   "source": [
    "gpa_overall.index"
   ]
  },
  {
   "cell_type": "markdown",
   "id": "dd9f2250-b7ca-4b0f-9486-58d729dfdd9b",
   "metadata": {},
   "source": [
    "## Select values from the series using bracket notation"
   ]
  },
  {
   "cell_type": "code",
   "execution_count": 28,
   "id": "2654ee95-03eb-491a-9b5c-76f7ab05987c",
   "metadata": {},
   "outputs": [
    {
     "data": {
      "text/plain": [
       "personid\n",
       "100061    3.06\n",
       "100139     NaN\n",
       "100284     NaN\n",
       "100292    3.45\n",
       "100583    2.91\n",
       "Name: gpaoverall, dtype: float64"
      ]
     },
     "execution_count": 28,
     "metadata": {},
     "output_type": "execute_result"
    }
   ],
   "source": [
    "gpa_overall[:5] #same as head"
   ]
  },
  {
   "cell_type": "code",
   "execution_count": 33,
   "id": "4a78c001-bab0-495b-81b8-7bff2d5fc57d",
   "metadata": {},
   "outputs": [
    {
     "data": {
      "text/plain": [
       "personid\n",
       "999291    3.11\n",
       "999406    2.17\n",
       "999543     NaN\n",
       "999698     NaN\n",
       "999963    3.78\n",
       "Name: gpaoverall, dtype: float64"
      ]
     },
     "execution_count": 33,
     "metadata": {},
     "output_type": "execute_result"
    }
   ],
   "source": [
    "gpa_overall[-5:] # sames as tail"
   ]
  },
  {
   "cell_type": "markdown",
   "id": "a25132b9-21a4-4ba6-be0a-f8ff35b245f6",
   "metadata": {},
   "source": [
    "## Select values using loc accessor"
   ]
  },
  {
   "cell_type": "markdown",
   "id": "b8e58223-4dab-4552-8a34-ac4e6f4185fa",
   "metadata": {},
   "source": [
    "#### We get a scalar if we pass a single index label"
   ]
  },
  {
   "cell_type": "code",
   "execution_count": 36,
   "id": "59d19221-d2da-4b03-b55a-f497b1ffd6ff",
   "metadata": {},
   "outputs": [
    {
     "data": {
      "text/plain": [
       "3.45"
      ]
     },
     "execution_count": 36,
     "metadata": {},
     "output_type": "execute_result"
    }
   ],
   "source": [
    "gpa_overall.loc[100292] "
   ]
  },
  {
   "cell_type": "markdown",
   "id": "f8283140-193a-47a6-8f6f-5b6b330b9f20",
   "metadata": {},
   "source": [
    "#### We get a series if we pass a list of index labels"
   ]
  },
  {
   "cell_type": "code",
   "execution_count": 40,
   "id": "a588b992-7833-4190-9db5-e19847ce0200",
   "metadata": {},
   "outputs": [
    {
     "data": {
      "text/plain": [
       "personid\n",
       "100292    3.45\n",
       "Name: gpaoverall, dtype: float64"
      ]
     },
     "execution_count": 40,
     "metadata": {},
     "output_type": "execute_result"
    }
   ],
   "source": [
    "gpa_overall.loc[[100292]] #passing a list of indexes"
   ]
  },
  {
   "cell_type": "code",
   "execution_count": 44,
   "id": "e70b2608-486f-40dd-b9b2-e1f260c9582b",
   "metadata": {},
   "outputs": [
    {
     "data": {
      "text/plain": [
       "personid\n",
       "100061    3.06\n",
       "100139     NaN\n",
       "100284     NaN\n",
       "Name: gpaoverall, dtype: float64"
      ]
     },
     "execution_count": 44,
     "metadata": {},
     "output_type": "execute_result"
    }
   ],
   "source": [
    "gpa_overall.loc[[100061,100139,100284]] #passing a list of indexes"
   ]
  },
  {
   "cell_type": "markdown",
   "id": "cc381f6b-d4c0-49bf-9e84-49bb07b970c9",
   "metadata": {},
   "source": [
    "#### We get a series if we pass a range"
   ]
  },
  {
   "cell_type": "code",
   "execution_count": 47,
   "id": "f7a29785-51dd-41dc-bb1b-89e279f1714a",
   "metadata": {},
   "outputs": [
    {
     "data": {
      "text/plain": [
       "personid\n",
       "100061    3.06\n",
       "100139     NaN\n",
       "100284     NaN\n",
       "100292    3.45\n",
       "100583    2.91\n",
       "100833    2.46\n",
       "Name: gpaoverall, dtype: float64"
      ]
     },
     "execution_count": 47,
     "metadata": {},
     "output_type": "execute_result"
    }
   ],
   "source": [
    "gpa_overall.loc[100061:100833] #passing a range of indexes"
   ]
  },
  {
   "cell_type": "markdown",
   "id": "3cd9fd24-fbd7-4c47-8b82-1d39b257e938",
   "metadata": {},
   "source": [
    "## Select values using iloc"
   ]
  },
  {
   "cell_type": "markdown",
   "id": "da3d1906-5da0-41a5-92fa-23578ad991bb",
   "metadata": {},
   "source": [
    "#### In \"iloc\" we pass row numbers instead of indexes"
   ]
  },
  {
   "cell_type": "code",
   "execution_count": null,
   "id": "92e717f2-f174-4e9f-aa11-6b8f7a23c951",
   "metadata": {},
   "outputs": [],
   "source": [
    "gpa_overall.iloc[0]"
   ]
  },
  {
   "cell_type": "code",
   "execution_count": 51,
   "id": "12330435-0612-46b4-8fae-84dab3603d0d",
   "metadata": {},
   "outputs": [
    {
     "data": {
      "text/plain": [
       "personid\n",
       "100061    3.06\n",
       "Name: gpaoverall, dtype: float64"
      ]
     },
     "execution_count": 51,
     "metadata": {},
     "output_type": "execute_result"
    }
   ],
   "source": [
    "gpa_overall.iloc[[0]] #passing a one item list"
   ]
  },
  {
   "cell_type": "code",
   "execution_count": 57,
   "id": "b2c8be0a-fbdd-4c3a-aeae-45418ab84c6c",
   "metadata": {},
   "outputs": [
    {
     "data": {
      "text/plain": [
       "personid\n",
       "100061    3.06\n",
       "100139     NaN\n",
       "100284     NaN\n",
       "100292    3.45\n",
       "100583    2.91\n",
       "Name: gpaoverall, dtype: float64"
      ]
     },
     "execution_count": 57,
     "metadata": {},
     "output_type": "execute_result"
    }
   ],
   "source": [
    "gpa_overall.iloc[[0,1,2,3,4]] #passing a 5 item list"
   ]
  },
  {
   "cell_type": "code",
   "execution_count": 59,
   "id": "133534bb-22eb-4520-9aef-d07831f63777",
   "metadata": {},
   "outputs": [
    {
     "data": {
      "text/plain": [
       "personid\n",
       "100061    3.06\n",
       "100139     NaN\n",
       "100284     NaN\n",
       "100292    3.45\n",
       "100583    2.91\n",
       "Name: gpaoverall, dtype: float64"
      ]
     },
     "execution_count": 59,
     "metadata": {},
     "output_type": "execute_result"
    }
   ],
   "source": [
    "gpa_overall.iloc[:5]"
   ]
  },
  {
   "cell_type": "code",
   "execution_count": 61,
   "id": "0482df47-7d76-451d-ab71-6bdbf3cefc3b",
   "metadata": {},
   "outputs": [
    {
     "data": {
      "text/plain": [
       "personid\n",
       "999291    3.11\n",
       "999406    2.17\n",
       "999543     NaN\n",
       "999698     NaN\n",
       "999963    3.78\n",
       "Name: gpaoverall, dtype: float64"
      ]
     },
     "execution_count": 61,
     "metadata": {},
     "output_type": "execute_result"
    }
   ],
   "source": [
    "gpa_overall.iloc[-5:]"
   ]
  },
  {
   "cell_type": "code",
   "execution_count": null,
   "id": "0f690c50-7529-4802-b6d6-9f9386ed5882",
   "metadata": {},
   "outputs": [],
   "source": []
  }
 ],
 "metadata": {
  "kernelspec": {
   "display_name": "Python 3 (ipykernel)",
   "language": "python",
   "name": "python3"
  },
  "language_info": {
   "codemirror_mode": {
    "name": "ipython",
    "version": 3
   },
   "file_extension": ".py",
   "mimetype": "text/x-python",
   "name": "python",
   "nbconvert_exporter": "python",
   "pygments_lexer": "ipython3",
   "version": "3.12.4"
  }
 },
 "nbformat": 4,
 "nbformat_minor": 5
}
