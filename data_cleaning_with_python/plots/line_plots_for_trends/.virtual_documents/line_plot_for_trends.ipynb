


import pandas as pd
import numpy as np

import matplotlib.pyplot as plt
import matplotlib.dates as mdates
from matplotlib.dates import DateFormatter
import seaborn as sns






covid_daily = pd.read_pickle("raw_data/coviddaily720.pkl")

covid_daily.sample(2, random_state =1)











cvd_daily_tots = covid_daily.loc[covid_daily.casedate.between('2020-02-01', '2020-07-12')].\
                                groupby(['casedate'])[['new_cases','new_deaths']].sum().reset_index()


cvd_daily_tots.sample(5, random_state=1)





fig = plt.figure()

plt.suptitle("New Covid Cases and Deaths by day worldwide in 2020")
ax1 = plt.subplot(2,1,1)
ax1.plot(cvd_daily_tots.casedate, cvd_daily_tots.new_cases)
ax1.xaxis.set_major_formatter(DateFormatter("%b"))
ax1.set_xlabel("New cases")

ax2 = plt.subplot(2,1,2)
ax2.plot(cvd_daily_tots.casedate, cvd_daily_tots.new_deaths)
ax2.xaxis.set_major_formatter(DateFormatter("%b"))
ax2.set_xlabel("New Deaths")

plt.tight_layout()
fig.subplots_adjust(top = 0.9)
plt.show()







region_totals = covid_daily.loc[covid_daily.casedate.between('2020-02-01', '2020-07-12')].\
                                groupby(['casedate', 'region'])[['new_cases','new_deaths']].sum().\
                                reset_index()


region_totals.sample(5)


region_totals.region.unique()





show_regions = ['South Asia', 'North America', 'Western Europe', 'Southern Africa', 'Africa (other)']


# Loop through regions in showregions. Do a line plot for total new_cases by day for each region.
# Use gca method to get the x-axis and set the date format

for j in range(len(show_regions)):
    rt = region_totals.loc[region_totals.region == show_regions[j],['casedate', 'new_cases']]
    plt.plot(rt.casedate, 
             rt.new_cases,
             label = show_regions[j])

plt.title("New Covid Cases by Day and Region in 2020")
plt.gca().get_xaxis().set_major_formatter(DateFormatter("%b"))
plt.ylabel("New Cases")
plt.legend()
plt.show()








af = region_totals.loc[region_totals.region == 'Southern Africa', ['casedate', 'new_cases']].\
                        rename(columns = {'new_cases' :'afcases'})


sa = covid_daily.loc[covid_daily.location == 'South Africa', ['casedate', 'new_cases']].\
                    rename(columns = {'new_cases' : 'sacases'})





af = pd.merge(af,sa, left_on = ['casedate'], right_on = ['casedate'], how = 'left')


af.fillna(0, inplace = True)

af['afcasesnosa'] = af.afcases-af.sacases


afabb= af.loc[af.casedate.between('2020-04-01', '2020-07-12')]




fig = plt.figure()

ax = plt.subplot()
ax.stackplot(afabb.casedate,
             afabb.sacases, 
             afabb.afcasesnosa,
             labels = ['South Africa', 'Other Southern Africa'])

ax.xaxis.set_major_formatter(DateFormatter("%m-%d"))
plt.title("New Covid Cases in Southern Africa")
plt.tight_layout()
plt.legend(loc = "upper left")
plt.show()



