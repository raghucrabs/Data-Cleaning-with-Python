


import pandas as pd
import numpy as np

import matplotlib.pyplot as plt
import matplotlib.dates as mdates
from matplotlib.dates import DateFormatter
import seaborn as sns






covid_daily = pd.read_pickle("raw_data/coviddaily720.pkl")

covid_daily.sample(2, random_state =1)









