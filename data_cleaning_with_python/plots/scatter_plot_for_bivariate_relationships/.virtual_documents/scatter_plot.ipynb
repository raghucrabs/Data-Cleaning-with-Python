


import pandas as pd
import numpy as np


# Data Visualization libraries
import matplotlib.pyplot as plt
import seaborn as sns
from mpl_toolkits.mplot3d import Axes3D





land_temps = pd.read_csv("raw_data/landtemps2019avgs.csv")


land_temps.head(3)








land_temps[["latabs", "avgtemp"]].min()


land_temps[["latabs", "avgtemp"]].max()


plt.scatter(x = "latabs",
            y = "avgtemp",
            data = land_temps)

plt.xlabel("Latitude")
plt.ylabel("Average Temperature(Celsius)")
plt.yticks(np.arange(-60,40,step=20))
plt.title("Latitude and Average Temperature in 2019")
plt.show()





low,high = land_temps.loc[land_temps.elevation <= 1000], land_temps.loc[land_temps.elevation >1000]


plt.scatter(x = "latabs",
            y = "avgtemp",
            c = "Red",
            data = low)

plt.scatter(x = "latabs",
            y = "avgtemp",
            c = "Blue",
            data = high)

plt.legend(('Low Elevation' , 'High Elevation'))
plt.xlabel("Latitude")
plt.ylabel("Average Temperature(Celsius)")
plt.title("Latitude and Average Temperature in 2019")
plt.show()








fig = plt.figure()
plt.suptitle("Latitude, Temperature and Elevation in 2019")
ax = plt.axes(projection = "3d")
ax.set_title("3-D")

ax.set_xlabel("Elevation")
ax.set_ylabel("Latitude")
ax.set_zlabel("Avg Temp")

ax.scatter3D(low.elevation , 
             low.latabs,
             low.avgtemp, 
             label = "Low Elevation",
             c = "Red")

ax.scatter3D(high.elevation , 
             high.latabs,
             high.avgtemp, 
             label = "High Elevation",
             c = "Blue")

ax.legend()
plt.show()





sns.regplot(x= "latabs",
            y = "avgtemp",
            color = "green",
            line_kws = {"color":"red"}, # changes regression line to red
            data = land_temps)
plt.title("Latitude and Avg Temp in 2010")
plt.xlabel("Latitude")
plt.ylabel("Average Temperature")
plt.show()








land_temps['elevation_group'] = np.where(land_temps.elevation <=1000, 'low' , 'high')


land_temps.head(5)


sns.lmplot(x = "latabs",
           y = "avgtemp",
           hue = "elevation_group",
           palette = dict(low ="red", high = "blue"),
           line_kws = {"color":"green"},
           data = land_temps)

plt.xlabel("Latitude")
plt.ylabel("Average Temperature")
plt.legend(("Low Elevation", "High Elevation"), loc = 'lower left')
plt.yticks(np.arange(-60,40,step=20))
plt.title("Latitude and Average Temperature in 2019")
plt.tight_layout()
plt.show()





high.loc[(high.latabs >38) & (high.avgtemp>=18), ['station', 'country', 'latabs', 'elevation', 'avgtemp']]


low.loc[(low.latabs>47) & (low.avgtemp>=14), ['station', 'country', 'latabs', 'elevation', 'avgtemp']]





high.loc[(high.latabs <5) & (high.avgtemp <18), ['station', 'country', 'latabs', 'elevation', 'avgtemp']]


low.loc[(low.latabs<50) & (low.avgtemp<-9), ['station', 'country', 'latabs', 'elevation', 'avgtemp']]



